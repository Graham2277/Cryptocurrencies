{
 "cells": [
  {
   "cell_type": "markdown",
   "metadata": {},
   "source": [
    "# Clustering Crypto"
   ]
  },
  {
   "cell_type": "code",
   "execution_count": 2,
   "metadata": {},
   "outputs": [
    {
     "name": "stdout",
     "output_type": "stream",
     "text": [
      "Collecting hvplot\n",
      "  Downloading hvplot-0.7.3-py2.py3-none-any.whl (3.1 MB)\n",
      "\u001b[K     |████████████████████████████████| 3.1 MB 3.7 MB/s eta 0:00:01\n",
      "\u001b[?25hRequirement already satisfied: pandas in /Users/grahamcaplan1/opt/anaconda3/lib/python3.8/site-packages (from hvplot) (1.2.4)\n",
      "Collecting colorcet>=2\n",
      "  Downloading colorcet-3.0.0-py2.py3-none-any.whl (1.6 MB)\n",
      "\u001b[K     |████████████████████████████████| 1.6 MB 24.1 MB/s eta 0:00:01\n",
      "\u001b[?25hRequirement already satisfied: numpy>=1.15 in /Users/grahamcaplan1/opt/anaconda3/lib/python3.8/site-packages (from hvplot) (1.20.1)\n",
      "Collecting holoviews>=1.11.0\n",
      "  Downloading holoviews-1.14.8-py2.py3-none-any.whl (4.3 MB)\n",
      "\u001b[K     |████████████████████████████████| 4.3 MB 13.3 MB/s eta 0:00:01     |██▉                             | 378 kB 13.3 MB/s eta 0:00:01\n",
      "\u001b[?25hRequirement already satisfied: bokeh>=1.0.0 in /Users/grahamcaplan1/opt/anaconda3/lib/python3.8/site-packages (from hvplot) (2.3.2)\n",
      "Requirement already satisfied: PyYAML>=3.10 in /Users/grahamcaplan1/opt/anaconda3/lib/python3.8/site-packages (from bokeh>=1.0.0->hvplot) (5.4.1)\n",
      "Requirement already satisfied: pillow>=7.1.0 in /Users/grahamcaplan1/opt/anaconda3/lib/python3.8/site-packages (from bokeh>=1.0.0->hvplot) (8.2.0)\n",
      "Requirement already satisfied: python-dateutil>=2.1 in /Users/grahamcaplan1/opt/anaconda3/lib/python3.8/site-packages (from bokeh>=1.0.0->hvplot) (2.8.1)\n",
      "Requirement already satisfied: packaging>=16.8 in /Users/grahamcaplan1/opt/anaconda3/lib/python3.8/site-packages (from bokeh>=1.0.0->hvplot) (20.9)\n",
      "Requirement already satisfied: Jinja2>=2.9 in /Users/grahamcaplan1/opt/anaconda3/lib/python3.8/site-packages (from bokeh>=1.0.0->hvplot) (2.11.3)\n",
      "Requirement already satisfied: tornado>=5.1 in /Users/grahamcaplan1/opt/anaconda3/lib/python3.8/site-packages (from bokeh>=1.0.0->hvplot) (6.1)\n",
      "Requirement already satisfied: typing-extensions>=3.7.4 in /Users/grahamcaplan1/opt/anaconda3/lib/python3.8/site-packages (from bokeh>=1.0.0->hvplot) (3.7.4.3)\n",
      "Collecting pyct>=0.4.4\n",
      "  Downloading pyct-0.4.8-py2.py3-none-any.whl (15 kB)\n",
      "Collecting param>=1.7.0\n",
      "  Downloading param-1.12.0-py2.py3-none-any.whl (85 kB)\n",
      "\u001b[K     |████████████████████████████████| 85 kB 9.5 MB/s  eta 0:00:01\n",
      "\u001b[?25hCollecting pyviz-comms>=0.7.4\n",
      "  Downloading pyviz_comms-2.1.0-py2.py3-none-any.whl (40 kB)\n",
      "\u001b[K     |████████████████████████████████| 40 kB 3.4 MB/s eta 0:00:01\n",
      "\u001b[?25hCollecting panel>=0.8.0\n",
      "  Downloading panel-0.12.6-py2.py3-none-any.whl (12.9 MB)\n",
      "\u001b[K     |████████████████████████████████| 12.9 MB 10.5 MB/s eta 0:00:01\n",
      "\u001b[?25hRequirement already satisfied: MarkupSafe>=0.23 in /Users/grahamcaplan1/opt/anaconda3/lib/python3.8/site-packages (from Jinja2>=2.9->bokeh>=1.0.0->hvplot) (1.1.1)\n",
      "Requirement already satisfied: pyparsing>=2.0.2 in /Users/grahamcaplan1/opt/anaconda3/lib/python3.8/site-packages (from packaging>=16.8->bokeh>=1.0.0->hvplot) (2.4.7)\n",
      "Requirement already satisfied: pytz>=2017.3 in /Users/grahamcaplan1/opt/anaconda3/lib/python3.8/site-packages (from pandas->hvplot) (2021.1)\n",
      "Collecting bokeh>=1.0.0\n",
      "  Downloading bokeh-2.4.2-py3-none-any.whl (18.5 MB)\n",
      "\u001b[K     |████████████████████████████████| 18.5 MB 11.9 MB/s eta 0:00:01\n",
      "\u001b[?25hRequirement already satisfied: bleach in /Users/grahamcaplan1/opt/anaconda3/lib/python3.8/site-packages (from panel>=0.8.0->holoviews>=1.11.0->hvplot) (3.3.0)\n",
      "Collecting markdown\n",
      "  Downloading Markdown-3.3.6-py3-none-any.whl (97 kB)\n",
      "\u001b[K     |████████████████████████████████| 97 kB 6.6 MB/s eta 0:00:01\n",
      "\u001b[?25hRequirement already satisfied: requests in /Users/grahamcaplan1/opt/anaconda3/lib/python3.8/site-packages (from panel>=0.8.0->holoviews>=1.11.0->hvplot) (2.25.1)\n",
      "Requirement already satisfied: tqdm>=4.48.0 in /Users/grahamcaplan1/opt/anaconda3/lib/python3.8/site-packages (from panel>=0.8.0->holoviews>=1.11.0->hvplot) (4.59.0)\n",
      "Collecting typing-extensions>=3.7.4\n",
      "  Downloading typing_extensions-4.1.1-py3-none-any.whl (26 kB)\n",
      "Requirement already satisfied: six>=1.5 in /Users/grahamcaplan1/opt/anaconda3/lib/python3.8/site-packages (from python-dateutil>=2.1->bokeh>=1.0.0->hvplot) (1.15.0)\n",
      "Requirement already satisfied: webencodings in /Users/grahamcaplan1/opt/anaconda3/lib/python3.8/site-packages (from bleach->panel>=0.8.0->holoviews>=1.11.0->hvplot) (0.5.1)\n",
      "Collecting importlib-metadata>=4.4\n",
      "  Downloading importlib_metadata-4.11.1-py3-none-any.whl (17 kB)\n",
      "Requirement already satisfied: zipp>=0.5 in /Users/grahamcaplan1/opt/anaconda3/lib/python3.8/site-packages (from importlib-metadata>=4.4->markdown->panel>=0.8.0->holoviews>=1.11.0->hvplot) (3.4.1)\n",
      "Requirement already satisfied: certifi>=2017.4.17 in /Users/grahamcaplan1/opt/anaconda3/lib/python3.8/site-packages (from requests->panel>=0.8.0->holoviews>=1.11.0->hvplot) (2020.12.5)\n",
      "Requirement already satisfied: idna<3,>=2.5 in /Users/grahamcaplan1/opt/anaconda3/lib/python3.8/site-packages (from requests->panel>=0.8.0->holoviews>=1.11.0->hvplot) (2.10)\n",
      "Requirement already satisfied: chardet<5,>=3.0.2 in /Users/grahamcaplan1/opt/anaconda3/lib/python3.8/site-packages (from requests->panel>=0.8.0->holoviews>=1.11.0->hvplot) (4.0.0)\n",
      "Requirement already satisfied: urllib3<1.27,>=1.21.1 in /Users/grahamcaplan1/opt/anaconda3/lib/python3.8/site-packages (from requests->panel>=0.8.0->holoviews>=1.11.0->hvplot) (1.26.4)\n",
      "Installing collected packages: typing-extensions, param, importlib-metadata, pyviz-comms, pyct, markdown, bokeh, panel, colorcet, holoviews, hvplot\n",
      "  Attempting uninstall: typing-extensions\n",
      "    Found existing installation: typing-extensions 3.7.4.3\n",
      "    Uninstalling typing-extensions-3.7.4.3:\n",
      "      Successfully uninstalled typing-extensions-3.7.4.3\n",
      "  Attempting uninstall: importlib-metadata\n",
      "    Found existing installation: importlib-metadata 3.10.0\n",
      "    Uninstalling importlib-metadata-3.10.0:\n",
      "      Successfully uninstalled importlib-metadata-3.10.0\n",
      "  Attempting uninstall: bokeh\n",
      "    Found existing installation: bokeh 2.3.2\n",
      "    Uninstalling bokeh-2.3.2:\n",
      "      Successfully uninstalled bokeh-2.3.2\n",
      "Successfully installed bokeh-2.4.2 colorcet-3.0.0 holoviews-1.14.8 hvplot-0.7.3 importlib-metadata-4.11.1 markdown-3.3.6 panel-0.12.6 param-1.12.0 pyct-0.4.8 pyviz-comms-2.1.0 typing-extensions-4.1.1\n"
     ]
    }
   ],
   "source": [
    "!pip install hvplot"
   ]
  },
  {
   "cell_type": "code",
   "execution_count": 4,
   "metadata": {},
   "outputs": [
    {
     "name": "stdout",
     "output_type": "stream",
     "text": [
      "Collecting plotly\n",
      "  Downloading plotly-5.6.0-py2.py3-none-any.whl (27.7 MB)\n",
      "\u001b[K     |████████████████████████████████| 27.7 MB 12.8 MB/s eta 0:00:01\n",
      "\u001b[?25hCollecting tenacity>=6.2.0\n",
      "  Downloading tenacity-8.0.1-py3-none-any.whl (24 kB)\n",
      "Requirement already satisfied: six in /Users/grahamcaplan1/opt/anaconda3/lib/python3.8/site-packages (from plotly) (1.15.0)\n",
      "Installing collected packages: tenacity, plotly\n",
      "Successfully installed plotly-5.6.0 tenacity-8.0.1\n"
     ]
    }
   ],
   "source": [
    "!pip install plotly "
   ]
  },
  {
   "cell_type": "code",
   "execution_count": 5,
   "metadata": {},
   "outputs": [],
   "source": [
    "# Initial imports\n",
    "import pandas as pd\n",
    "import hvplot.pandas\n",
    "from path import Path\n",
    "import plotly.express as px\n",
    "from sklearn.preprocessing import StandardScaler, MinMaxScaler\n",
    "from sklearn.decomposition import PCA\n",
    "from sklearn.cluster import KMeans"
   ]
  },
  {
   "cell_type": "markdown",
   "metadata": {},
   "source": [
    "### Deliverable 1: Preprocessing the Data for PCA"
   ]
  },
  {
   "cell_type": "code",
   "execution_count": 6,
   "metadata": {},
   "outputs": [
    {
     "data": {
      "text/html": [
       "<div>\n",
       "<style scoped>\n",
       "    .dataframe tbody tr th:only-of-type {\n",
       "        vertical-align: middle;\n",
       "    }\n",
       "\n",
       "    .dataframe tbody tr th {\n",
       "        vertical-align: top;\n",
       "    }\n",
       "\n",
       "    .dataframe thead th {\n",
       "        text-align: right;\n",
       "    }\n",
       "</style>\n",
       "<table border=\"1\" class=\"dataframe\">\n",
       "  <thead>\n",
       "    <tr style=\"text-align: right;\">\n",
       "      <th></th>\n",
       "      <th>Unnamed: 0</th>\n",
       "      <th>CoinName</th>\n",
       "      <th>Algorithm</th>\n",
       "      <th>IsTrading</th>\n",
       "      <th>ProofType</th>\n",
       "      <th>TotalCoinsMined</th>\n",
       "      <th>TotalCoinSupply</th>\n",
       "    </tr>\n",
       "  </thead>\n",
       "  <tbody>\n",
       "    <tr>\n",
       "      <th>0</th>\n",
       "      <td>42</td>\n",
       "      <td>42 Coin</td>\n",
       "      <td>Scrypt</td>\n",
       "      <td>True</td>\n",
       "      <td>PoW/PoS</td>\n",
       "      <td>4.199995e+01</td>\n",
       "      <td>42</td>\n",
       "    </tr>\n",
       "    <tr>\n",
       "      <th>1</th>\n",
       "      <td>365</td>\n",
       "      <td>365Coin</td>\n",
       "      <td>X11</td>\n",
       "      <td>True</td>\n",
       "      <td>PoW/PoS</td>\n",
       "      <td>NaN</td>\n",
       "      <td>2300000000</td>\n",
       "    </tr>\n",
       "    <tr>\n",
       "      <th>2</th>\n",
       "      <td>404</td>\n",
       "      <td>404Coin</td>\n",
       "      <td>Scrypt</td>\n",
       "      <td>True</td>\n",
       "      <td>PoW/PoS</td>\n",
       "      <td>1.055185e+09</td>\n",
       "      <td>532000000</td>\n",
       "    </tr>\n",
       "    <tr>\n",
       "      <th>3</th>\n",
       "      <td>611</td>\n",
       "      <td>SixEleven</td>\n",
       "      <td>SHA-256</td>\n",
       "      <td>True</td>\n",
       "      <td>PoW</td>\n",
       "      <td>NaN</td>\n",
       "      <td>611000</td>\n",
       "    </tr>\n",
       "    <tr>\n",
       "      <th>4</th>\n",
       "      <td>808</td>\n",
       "      <td>808</td>\n",
       "      <td>SHA-256</td>\n",
       "      <td>True</td>\n",
       "      <td>PoW/PoS</td>\n",
       "      <td>0.000000e+00</td>\n",
       "      <td>0</td>\n",
       "    </tr>\n",
       "    <tr>\n",
       "      <th>...</th>\n",
       "      <td>...</td>\n",
       "      <td>...</td>\n",
       "      <td>...</td>\n",
       "      <td>...</td>\n",
       "      <td>...</td>\n",
       "      <td>...</td>\n",
       "      <td>...</td>\n",
       "    </tr>\n",
       "    <tr>\n",
       "      <th>1247</th>\n",
       "      <td>XBC</td>\n",
       "      <td>BitcoinPlus</td>\n",
       "      <td>Scrypt</td>\n",
       "      <td>True</td>\n",
       "      <td>PoS</td>\n",
       "      <td>1.283270e+05</td>\n",
       "      <td>1000000</td>\n",
       "    </tr>\n",
       "    <tr>\n",
       "      <th>1248</th>\n",
       "      <td>DVTC</td>\n",
       "      <td>DivotyCoin</td>\n",
       "      <td>Scrypt</td>\n",
       "      <td>False</td>\n",
       "      <td>PoW/PoS</td>\n",
       "      <td>2.149121e+07</td>\n",
       "      <td>100000000</td>\n",
       "    </tr>\n",
       "    <tr>\n",
       "      <th>1249</th>\n",
       "      <td>GIOT</td>\n",
       "      <td>Giotto Coin</td>\n",
       "      <td>Scrypt</td>\n",
       "      <td>False</td>\n",
       "      <td>PoW/PoS</td>\n",
       "      <td>NaN</td>\n",
       "      <td>233100000</td>\n",
       "    </tr>\n",
       "    <tr>\n",
       "      <th>1250</th>\n",
       "      <td>OPSC</td>\n",
       "      <td>OpenSourceCoin</td>\n",
       "      <td>SHA-256</td>\n",
       "      <td>False</td>\n",
       "      <td>PoW/PoS</td>\n",
       "      <td>NaN</td>\n",
       "      <td>21000000</td>\n",
       "    </tr>\n",
       "    <tr>\n",
       "      <th>1251</th>\n",
       "      <td>PUNK</td>\n",
       "      <td>SteamPunk</td>\n",
       "      <td>PoS</td>\n",
       "      <td>False</td>\n",
       "      <td>PoS</td>\n",
       "      <td>NaN</td>\n",
       "      <td>40000000</td>\n",
       "    </tr>\n",
       "  </tbody>\n",
       "</table>\n",
       "<p>1252 rows × 7 columns</p>\n",
       "</div>"
      ],
      "text/plain": [
       "     Unnamed: 0        CoinName Algorithm  IsTrading ProofType  \\\n",
       "0            42         42 Coin    Scrypt       True   PoW/PoS   \n",
       "1           365         365Coin       X11       True   PoW/PoS   \n",
       "2           404         404Coin    Scrypt       True   PoW/PoS   \n",
       "3           611       SixEleven   SHA-256       True       PoW   \n",
       "4           808             808   SHA-256       True   PoW/PoS   \n",
       "...         ...             ...       ...        ...       ...   \n",
       "1247        XBC     BitcoinPlus    Scrypt       True       PoS   \n",
       "1248       DVTC      DivotyCoin    Scrypt      False   PoW/PoS   \n",
       "1249       GIOT     Giotto Coin    Scrypt      False   PoW/PoS   \n",
       "1250       OPSC  OpenSourceCoin   SHA-256      False   PoW/PoS   \n",
       "1251       PUNK       SteamPunk       PoS      False       PoS   \n",
       "\n",
       "      TotalCoinsMined TotalCoinSupply  \n",
       "0        4.199995e+01              42  \n",
       "1                 NaN      2300000000  \n",
       "2        1.055185e+09       532000000  \n",
       "3                 NaN          611000  \n",
       "4        0.000000e+00               0  \n",
       "...               ...             ...  \n",
       "1247     1.283270e+05         1000000  \n",
       "1248     2.149121e+07       100000000  \n",
       "1249              NaN       233100000  \n",
       "1250              NaN        21000000  \n",
       "1251              NaN        40000000  \n",
       "\n",
       "[1252 rows x 7 columns]"
      ]
     },
     "execution_count": 6,
     "metadata": {},
     "output_type": "execute_result"
    }
   ],
   "source": [
    "# Load the crypto_data.csv dataset.\n",
    "file_to_load = \"crypto_data.csv\"\n",
    "\n",
    "# Read the CSV into a DataFrame\n",
    "crypto_df = pd.read_csv(file_to_load)\n",
    "crypto_df"
   ]
  },
  {
   "cell_type": "code",
   "execution_count": 7,
   "metadata": {},
   "outputs": [
    {
     "data": {
      "text/html": [
       "<div>\n",
       "<style scoped>\n",
       "    .dataframe tbody tr th:only-of-type {\n",
       "        vertical-align: middle;\n",
       "    }\n",
       "\n",
       "    .dataframe tbody tr th {\n",
       "        vertical-align: top;\n",
       "    }\n",
       "\n",
       "    .dataframe thead th {\n",
       "        text-align: right;\n",
       "    }\n",
       "</style>\n",
       "<table border=\"1\" class=\"dataframe\">\n",
       "  <thead>\n",
       "    <tr style=\"text-align: right;\">\n",
       "      <th></th>\n",
       "      <th>Unnamed: 0</th>\n",
       "      <th>CoinName</th>\n",
       "      <th>Algorithm</th>\n",
       "      <th>IsTrading</th>\n",
       "      <th>ProofType</th>\n",
       "      <th>TotalCoinsMined</th>\n",
       "      <th>TotalCoinSupply</th>\n",
       "    </tr>\n",
       "  </thead>\n",
       "  <tbody>\n",
       "    <tr>\n",
       "      <th>0</th>\n",
       "      <td>42</td>\n",
       "      <td>42 Coin</td>\n",
       "      <td>Scrypt</td>\n",
       "      <td>True</td>\n",
       "      <td>PoW/PoS</td>\n",
       "      <td>4.199995e+01</td>\n",
       "      <td>42</td>\n",
       "    </tr>\n",
       "    <tr>\n",
       "      <th>1</th>\n",
       "      <td>365</td>\n",
       "      <td>365Coin</td>\n",
       "      <td>X11</td>\n",
       "      <td>True</td>\n",
       "      <td>PoW/PoS</td>\n",
       "      <td>NaN</td>\n",
       "      <td>2300000000</td>\n",
       "    </tr>\n",
       "    <tr>\n",
       "      <th>2</th>\n",
       "      <td>404</td>\n",
       "      <td>404Coin</td>\n",
       "      <td>Scrypt</td>\n",
       "      <td>True</td>\n",
       "      <td>PoW/PoS</td>\n",
       "      <td>1.055185e+09</td>\n",
       "      <td>532000000</td>\n",
       "    </tr>\n",
       "    <tr>\n",
       "      <th>3</th>\n",
       "      <td>611</td>\n",
       "      <td>SixEleven</td>\n",
       "      <td>SHA-256</td>\n",
       "      <td>True</td>\n",
       "      <td>PoW</td>\n",
       "      <td>NaN</td>\n",
       "      <td>611000</td>\n",
       "    </tr>\n",
       "    <tr>\n",
       "      <th>4</th>\n",
       "      <td>808</td>\n",
       "      <td>808</td>\n",
       "      <td>SHA-256</td>\n",
       "      <td>True</td>\n",
       "      <td>PoW/PoS</td>\n",
       "      <td>0.000000e+00</td>\n",
       "      <td>0</td>\n",
       "    </tr>\n",
       "    <tr>\n",
       "      <th>...</th>\n",
       "      <td>...</td>\n",
       "      <td>...</td>\n",
       "      <td>...</td>\n",
       "      <td>...</td>\n",
       "      <td>...</td>\n",
       "      <td>...</td>\n",
       "      <td>...</td>\n",
       "    </tr>\n",
       "    <tr>\n",
       "      <th>1243</th>\n",
       "      <td>SERO</td>\n",
       "      <td>Super Zero</td>\n",
       "      <td>Ethash</td>\n",
       "      <td>True</td>\n",
       "      <td>PoW</td>\n",
       "      <td>NaN</td>\n",
       "      <td>1000000000</td>\n",
       "    </tr>\n",
       "    <tr>\n",
       "      <th>1244</th>\n",
       "      <td>UOS</td>\n",
       "      <td>UOS</td>\n",
       "      <td>SHA-256</td>\n",
       "      <td>True</td>\n",
       "      <td>DPoI</td>\n",
       "      <td>NaN</td>\n",
       "      <td>1000000000</td>\n",
       "    </tr>\n",
       "    <tr>\n",
       "      <th>1245</th>\n",
       "      <td>BDX</td>\n",
       "      <td>Beldex</td>\n",
       "      <td>CryptoNight</td>\n",
       "      <td>True</td>\n",
       "      <td>PoW</td>\n",
       "      <td>9.802226e+08</td>\n",
       "      <td>1400222610</td>\n",
       "    </tr>\n",
       "    <tr>\n",
       "      <th>1246</th>\n",
       "      <td>ZEN</td>\n",
       "      <td>Horizen</td>\n",
       "      <td>Equihash</td>\n",
       "      <td>True</td>\n",
       "      <td>PoW</td>\n",
       "      <td>7.296538e+06</td>\n",
       "      <td>21000000</td>\n",
       "    </tr>\n",
       "    <tr>\n",
       "      <th>1247</th>\n",
       "      <td>XBC</td>\n",
       "      <td>BitcoinPlus</td>\n",
       "      <td>Scrypt</td>\n",
       "      <td>True</td>\n",
       "      <td>PoS</td>\n",
       "      <td>1.283270e+05</td>\n",
       "      <td>1000000</td>\n",
       "    </tr>\n",
       "  </tbody>\n",
       "</table>\n",
       "<p>1144 rows × 7 columns</p>\n",
       "</div>"
      ],
      "text/plain": [
       "     Unnamed: 0     CoinName    Algorithm  IsTrading ProofType  \\\n",
       "0            42      42 Coin       Scrypt       True   PoW/PoS   \n",
       "1           365      365Coin          X11       True   PoW/PoS   \n",
       "2           404      404Coin       Scrypt       True   PoW/PoS   \n",
       "3           611    SixEleven      SHA-256       True       PoW   \n",
       "4           808          808      SHA-256       True   PoW/PoS   \n",
       "...         ...          ...          ...        ...       ...   \n",
       "1243       SERO   Super Zero       Ethash       True       PoW   \n",
       "1244        UOS          UOS      SHA-256       True      DPoI   \n",
       "1245        BDX       Beldex  CryptoNight       True       PoW   \n",
       "1246        ZEN      Horizen     Equihash       True       PoW   \n",
       "1247        XBC  BitcoinPlus       Scrypt       True       PoS   \n",
       "\n",
       "      TotalCoinsMined TotalCoinSupply  \n",
       "0        4.199995e+01              42  \n",
       "1                 NaN      2300000000  \n",
       "2        1.055185e+09       532000000  \n",
       "3                 NaN          611000  \n",
       "4        0.000000e+00               0  \n",
       "...               ...             ...  \n",
       "1243              NaN      1000000000  \n",
       "1244              NaN      1000000000  \n",
       "1245     9.802226e+08      1400222610  \n",
       "1246     7.296538e+06        21000000  \n",
       "1247     1.283270e+05         1000000  \n",
       "\n",
       "[1144 rows x 7 columns]"
      ]
     },
     "execution_count": 7,
     "metadata": {},
     "output_type": "execute_result"
    }
   ],
   "source": [
    "# Keep all the cryptocurrencies that are being traded.\n",
    "crypto_df = crypto_df[crypto_df['IsTrading'] == True]\n",
    "crypto_df"
   ]
  },
  {
   "cell_type": "code",
   "execution_count": 8,
   "metadata": {},
   "outputs": [
    {
     "data": {
      "text/html": [
       "<div>\n",
       "<style scoped>\n",
       "    .dataframe tbody tr th:only-of-type {\n",
       "        vertical-align: middle;\n",
       "    }\n",
       "\n",
       "    .dataframe tbody tr th {\n",
       "        vertical-align: top;\n",
       "    }\n",
       "\n",
       "    .dataframe thead th {\n",
       "        text-align: right;\n",
       "    }\n",
       "</style>\n",
       "<table border=\"1\" class=\"dataframe\">\n",
       "  <thead>\n",
       "    <tr style=\"text-align: right;\">\n",
       "      <th></th>\n",
       "      <th>Unnamed: 0</th>\n",
       "      <th>CoinName</th>\n",
       "      <th>Algorithm</th>\n",
       "      <th>IsTrading</th>\n",
       "      <th>ProofType</th>\n",
       "      <th>TotalCoinsMined</th>\n",
       "      <th>TotalCoinSupply</th>\n",
       "    </tr>\n",
       "  </thead>\n",
       "  <tbody>\n",
       "    <tr>\n",
       "      <th>0</th>\n",
       "      <td>42</td>\n",
       "      <td>42 Coin</td>\n",
       "      <td>Scrypt</td>\n",
       "      <td>True</td>\n",
       "      <td>PoW/PoS</td>\n",
       "      <td>4.199995e+01</td>\n",
       "      <td>42</td>\n",
       "    </tr>\n",
       "    <tr>\n",
       "      <th>1</th>\n",
       "      <td>365</td>\n",
       "      <td>365Coin</td>\n",
       "      <td>X11</td>\n",
       "      <td>True</td>\n",
       "      <td>PoW/PoS</td>\n",
       "      <td>NaN</td>\n",
       "      <td>2300000000</td>\n",
       "    </tr>\n",
       "    <tr>\n",
       "      <th>2</th>\n",
       "      <td>404</td>\n",
       "      <td>404Coin</td>\n",
       "      <td>Scrypt</td>\n",
       "      <td>True</td>\n",
       "      <td>PoW/PoS</td>\n",
       "      <td>1.055185e+09</td>\n",
       "      <td>532000000</td>\n",
       "    </tr>\n",
       "    <tr>\n",
       "      <th>3</th>\n",
       "      <td>611</td>\n",
       "      <td>SixEleven</td>\n",
       "      <td>SHA-256</td>\n",
       "      <td>True</td>\n",
       "      <td>PoW</td>\n",
       "      <td>NaN</td>\n",
       "      <td>611000</td>\n",
       "    </tr>\n",
       "    <tr>\n",
       "      <th>4</th>\n",
       "      <td>808</td>\n",
       "      <td>808</td>\n",
       "      <td>SHA-256</td>\n",
       "      <td>True</td>\n",
       "      <td>PoW/PoS</td>\n",
       "      <td>0.000000e+00</td>\n",
       "      <td>0</td>\n",
       "    </tr>\n",
       "    <tr>\n",
       "      <th>...</th>\n",
       "      <td>...</td>\n",
       "      <td>...</td>\n",
       "      <td>...</td>\n",
       "      <td>...</td>\n",
       "      <td>...</td>\n",
       "      <td>...</td>\n",
       "      <td>...</td>\n",
       "    </tr>\n",
       "    <tr>\n",
       "      <th>1243</th>\n",
       "      <td>SERO</td>\n",
       "      <td>Super Zero</td>\n",
       "      <td>Ethash</td>\n",
       "      <td>True</td>\n",
       "      <td>PoW</td>\n",
       "      <td>NaN</td>\n",
       "      <td>1000000000</td>\n",
       "    </tr>\n",
       "    <tr>\n",
       "      <th>1244</th>\n",
       "      <td>UOS</td>\n",
       "      <td>UOS</td>\n",
       "      <td>SHA-256</td>\n",
       "      <td>True</td>\n",
       "      <td>DPoI</td>\n",
       "      <td>NaN</td>\n",
       "      <td>1000000000</td>\n",
       "    </tr>\n",
       "    <tr>\n",
       "      <th>1245</th>\n",
       "      <td>BDX</td>\n",
       "      <td>Beldex</td>\n",
       "      <td>CryptoNight</td>\n",
       "      <td>True</td>\n",
       "      <td>PoW</td>\n",
       "      <td>9.802226e+08</td>\n",
       "      <td>1400222610</td>\n",
       "    </tr>\n",
       "    <tr>\n",
       "      <th>1246</th>\n",
       "      <td>ZEN</td>\n",
       "      <td>Horizen</td>\n",
       "      <td>Equihash</td>\n",
       "      <td>True</td>\n",
       "      <td>PoW</td>\n",
       "      <td>7.296538e+06</td>\n",
       "      <td>21000000</td>\n",
       "    </tr>\n",
       "    <tr>\n",
       "      <th>1247</th>\n",
       "      <td>XBC</td>\n",
       "      <td>BitcoinPlus</td>\n",
       "      <td>Scrypt</td>\n",
       "      <td>True</td>\n",
       "      <td>PoS</td>\n",
       "      <td>1.283270e+05</td>\n",
       "      <td>1000000</td>\n",
       "    </tr>\n",
       "  </tbody>\n",
       "</table>\n",
       "<p>1144 rows × 7 columns</p>\n",
       "</div>"
      ],
      "text/plain": [
       "     Unnamed: 0     CoinName    Algorithm  IsTrading ProofType  \\\n",
       "0            42      42 Coin       Scrypt       True   PoW/PoS   \n",
       "1           365      365Coin          X11       True   PoW/PoS   \n",
       "2           404      404Coin       Scrypt       True   PoW/PoS   \n",
       "3           611    SixEleven      SHA-256       True       PoW   \n",
       "4           808          808      SHA-256       True   PoW/PoS   \n",
       "...         ...          ...          ...        ...       ...   \n",
       "1243       SERO   Super Zero       Ethash       True       PoW   \n",
       "1244        UOS          UOS      SHA-256       True      DPoI   \n",
       "1245        BDX       Beldex  CryptoNight       True       PoW   \n",
       "1246        ZEN      Horizen     Equihash       True       PoW   \n",
       "1247        XBC  BitcoinPlus       Scrypt       True       PoS   \n",
       "\n",
       "      TotalCoinsMined TotalCoinSupply  \n",
       "0        4.199995e+01              42  \n",
       "1                 NaN      2300000000  \n",
       "2        1.055185e+09       532000000  \n",
       "3                 NaN          611000  \n",
       "4        0.000000e+00               0  \n",
       "...               ...             ...  \n",
       "1243              NaN      1000000000  \n",
       "1244              NaN      1000000000  \n",
       "1245     9.802226e+08      1400222610  \n",
       "1246     7.296538e+06        21000000  \n",
       "1247     1.283270e+05         1000000  \n",
       "\n",
       "[1144 rows x 7 columns]"
      ]
     },
     "execution_count": 8,
     "metadata": {},
     "output_type": "execute_result"
    }
   ],
   "source": [
    "# Keep all the cryptocurrencies that have a working algorithm.\n",
    "crypto_df = crypto_df[crypto_df[\"Algorithm\"] != \"N/A\"]\n",
    "crypto_df"
   ]
  },
  {
   "cell_type": "code",
   "execution_count": 9,
   "metadata": {},
   "outputs": [
    {
     "data": {
      "text/html": [
       "<div>\n",
       "<style scoped>\n",
       "    .dataframe tbody tr th:only-of-type {\n",
       "        vertical-align: middle;\n",
       "    }\n",
       "\n",
       "    .dataframe tbody tr th {\n",
       "        vertical-align: top;\n",
       "    }\n",
       "\n",
       "    .dataframe thead th {\n",
       "        text-align: right;\n",
       "    }\n",
       "</style>\n",
       "<table border=\"1\" class=\"dataframe\">\n",
       "  <thead>\n",
       "    <tr style=\"text-align: right;\">\n",
       "      <th></th>\n",
       "      <th>CoinName</th>\n",
       "      <th>Algorithm</th>\n",
       "      <th>ProofType</th>\n",
       "      <th>TotalCoinsMined</th>\n",
       "      <th>TotalCoinSupply</th>\n",
       "    </tr>\n",
       "  </thead>\n",
       "  <tbody>\n",
       "    <tr>\n",
       "      <th>0</th>\n",
       "      <td>42 Coin</td>\n",
       "      <td>Scrypt</td>\n",
       "      <td>PoW/PoS</td>\n",
       "      <td>4.199995e+01</td>\n",
       "      <td>42</td>\n",
       "    </tr>\n",
       "    <tr>\n",
       "      <th>1</th>\n",
       "      <td>365Coin</td>\n",
       "      <td>X11</td>\n",
       "      <td>PoW/PoS</td>\n",
       "      <td>NaN</td>\n",
       "      <td>2300000000</td>\n",
       "    </tr>\n",
       "    <tr>\n",
       "      <th>2</th>\n",
       "      <td>404Coin</td>\n",
       "      <td>Scrypt</td>\n",
       "      <td>PoW/PoS</td>\n",
       "      <td>1.055185e+09</td>\n",
       "      <td>532000000</td>\n",
       "    </tr>\n",
       "    <tr>\n",
       "      <th>3</th>\n",
       "      <td>SixEleven</td>\n",
       "      <td>SHA-256</td>\n",
       "      <td>PoW</td>\n",
       "      <td>NaN</td>\n",
       "      <td>611000</td>\n",
       "    </tr>\n",
       "    <tr>\n",
       "      <th>4</th>\n",
       "      <td>808</td>\n",
       "      <td>SHA-256</td>\n",
       "      <td>PoW/PoS</td>\n",
       "      <td>0.000000e+00</td>\n",
       "      <td>0</td>\n",
       "    </tr>\n",
       "    <tr>\n",
       "      <th>...</th>\n",
       "      <td>...</td>\n",
       "      <td>...</td>\n",
       "      <td>...</td>\n",
       "      <td>...</td>\n",
       "      <td>...</td>\n",
       "    </tr>\n",
       "    <tr>\n",
       "      <th>1243</th>\n",
       "      <td>Super Zero</td>\n",
       "      <td>Ethash</td>\n",
       "      <td>PoW</td>\n",
       "      <td>NaN</td>\n",
       "      <td>1000000000</td>\n",
       "    </tr>\n",
       "    <tr>\n",
       "      <th>1244</th>\n",
       "      <td>UOS</td>\n",
       "      <td>SHA-256</td>\n",
       "      <td>DPoI</td>\n",
       "      <td>NaN</td>\n",
       "      <td>1000000000</td>\n",
       "    </tr>\n",
       "    <tr>\n",
       "      <th>1245</th>\n",
       "      <td>Beldex</td>\n",
       "      <td>CryptoNight</td>\n",
       "      <td>PoW</td>\n",
       "      <td>9.802226e+08</td>\n",
       "      <td>1400222610</td>\n",
       "    </tr>\n",
       "    <tr>\n",
       "      <th>1246</th>\n",
       "      <td>Horizen</td>\n",
       "      <td>Equihash</td>\n",
       "      <td>PoW</td>\n",
       "      <td>7.296538e+06</td>\n",
       "      <td>21000000</td>\n",
       "    </tr>\n",
       "    <tr>\n",
       "      <th>1247</th>\n",
       "      <td>BitcoinPlus</td>\n",
       "      <td>Scrypt</td>\n",
       "      <td>PoS</td>\n",
       "      <td>1.283270e+05</td>\n",
       "      <td>1000000</td>\n",
       "    </tr>\n",
       "  </tbody>\n",
       "</table>\n",
       "<p>1144 rows × 5 columns</p>\n",
       "</div>"
      ],
      "text/plain": [
       "         CoinName    Algorithm ProofType  TotalCoinsMined TotalCoinSupply\n",
       "0         42 Coin       Scrypt   PoW/PoS     4.199995e+01              42\n",
       "1         365Coin          X11   PoW/PoS              NaN      2300000000\n",
       "2         404Coin       Scrypt   PoW/PoS     1.055185e+09       532000000\n",
       "3       SixEleven      SHA-256       PoW              NaN          611000\n",
       "4             808      SHA-256   PoW/PoS     0.000000e+00               0\n",
       "...           ...          ...       ...              ...             ...\n",
       "1243   Super Zero       Ethash       PoW              NaN      1000000000\n",
       "1244          UOS      SHA-256      DPoI              NaN      1000000000\n",
       "1245       Beldex  CryptoNight       PoW     9.802226e+08      1400222610\n",
       "1246      Horizen     Equihash       PoW     7.296538e+06        21000000\n",
       "1247  BitcoinPlus       Scrypt       PoS     1.283270e+05         1000000\n",
       "\n",
       "[1144 rows x 5 columns]"
      ]
     },
     "execution_count": 9,
     "metadata": {},
     "output_type": "execute_result"
    }
   ],
   "source": [
    "# Remove the \"IsTrading\" column. \n",
    "crypto_df = crypto_df.drop(columns='IsTrading')\n",
    "crypto_df\n",
    "\n",
    "crypto_df = crypto_df.drop(columns='Unnamed: 0')\n",
    "crypto_df"
   ]
  },
  {
   "cell_type": "code",
   "execution_count": 10,
   "metadata": {},
   "outputs": [
    {
     "data": {
      "text/html": [
       "<div>\n",
       "<style scoped>\n",
       "    .dataframe tbody tr th:only-of-type {\n",
       "        vertical-align: middle;\n",
       "    }\n",
       "\n",
       "    .dataframe tbody tr th {\n",
       "        vertical-align: top;\n",
       "    }\n",
       "\n",
       "    .dataframe thead th {\n",
       "        text-align: right;\n",
       "    }\n",
       "</style>\n",
       "<table border=\"1\" class=\"dataframe\">\n",
       "  <thead>\n",
       "    <tr style=\"text-align: right;\">\n",
       "      <th></th>\n",
       "      <th>CoinName</th>\n",
       "      <th>Algorithm</th>\n",
       "      <th>ProofType</th>\n",
       "      <th>TotalCoinsMined</th>\n",
       "      <th>TotalCoinSupply</th>\n",
       "    </tr>\n",
       "  </thead>\n",
       "  <tbody>\n",
       "    <tr>\n",
       "      <th>0</th>\n",
       "      <td>42 Coin</td>\n",
       "      <td>Scrypt</td>\n",
       "      <td>PoW/PoS</td>\n",
       "      <td>4.199995e+01</td>\n",
       "      <td>42</td>\n",
       "    </tr>\n",
       "    <tr>\n",
       "      <th>2</th>\n",
       "      <td>404Coin</td>\n",
       "      <td>Scrypt</td>\n",
       "      <td>PoW/PoS</td>\n",
       "      <td>1.055185e+09</td>\n",
       "      <td>532000000</td>\n",
       "    </tr>\n",
       "    <tr>\n",
       "      <th>4</th>\n",
       "      <td>808</td>\n",
       "      <td>SHA-256</td>\n",
       "      <td>PoW/PoS</td>\n",
       "      <td>0.000000e+00</td>\n",
       "      <td>0</td>\n",
       "    </tr>\n",
       "    <tr>\n",
       "      <th>5</th>\n",
       "      <td>EliteCoin</td>\n",
       "      <td>X13</td>\n",
       "      <td>PoW/PoS</td>\n",
       "      <td>2.927942e+10</td>\n",
       "      <td>314159265359</td>\n",
       "    </tr>\n",
       "    <tr>\n",
       "      <th>7</th>\n",
       "      <td>Bitcoin</td>\n",
       "      <td>SHA-256</td>\n",
       "      <td>PoW</td>\n",
       "      <td>1.792718e+07</td>\n",
       "      <td>21000000</td>\n",
       "    </tr>\n",
       "    <tr>\n",
       "      <th>...</th>\n",
       "      <td>...</td>\n",
       "      <td>...</td>\n",
       "      <td>...</td>\n",
       "      <td>...</td>\n",
       "      <td>...</td>\n",
       "    </tr>\n",
       "    <tr>\n",
       "      <th>1238</th>\n",
       "      <td>ZEPHYR</td>\n",
       "      <td>SHA-256</td>\n",
       "      <td>DPoS</td>\n",
       "      <td>2.000000e+09</td>\n",
       "      <td>2000000000</td>\n",
       "    </tr>\n",
       "    <tr>\n",
       "      <th>1242</th>\n",
       "      <td>Gapcoin</td>\n",
       "      <td>Scrypt</td>\n",
       "      <td>PoW/PoS</td>\n",
       "      <td>1.493105e+07</td>\n",
       "      <td>250000000</td>\n",
       "    </tr>\n",
       "    <tr>\n",
       "      <th>1245</th>\n",
       "      <td>Beldex</td>\n",
       "      <td>CryptoNight</td>\n",
       "      <td>PoW</td>\n",
       "      <td>9.802226e+08</td>\n",
       "      <td>1400222610</td>\n",
       "    </tr>\n",
       "    <tr>\n",
       "      <th>1246</th>\n",
       "      <td>Horizen</td>\n",
       "      <td>Equihash</td>\n",
       "      <td>PoW</td>\n",
       "      <td>7.296538e+06</td>\n",
       "      <td>21000000</td>\n",
       "    </tr>\n",
       "    <tr>\n",
       "      <th>1247</th>\n",
       "      <td>BitcoinPlus</td>\n",
       "      <td>Scrypt</td>\n",
       "      <td>PoS</td>\n",
       "      <td>1.283270e+05</td>\n",
       "      <td>1000000</td>\n",
       "    </tr>\n",
       "  </tbody>\n",
       "</table>\n",
       "<p>685 rows × 5 columns</p>\n",
       "</div>"
      ],
      "text/plain": [
       "         CoinName    Algorithm ProofType  TotalCoinsMined TotalCoinSupply\n",
       "0         42 Coin       Scrypt   PoW/PoS     4.199995e+01              42\n",
       "2         404Coin       Scrypt   PoW/PoS     1.055185e+09       532000000\n",
       "4             808      SHA-256   PoW/PoS     0.000000e+00               0\n",
       "5       EliteCoin          X13   PoW/PoS     2.927942e+10    314159265359\n",
       "7         Bitcoin      SHA-256       PoW     1.792718e+07        21000000\n",
       "...           ...          ...       ...              ...             ...\n",
       "1238       ZEPHYR      SHA-256      DPoS     2.000000e+09      2000000000\n",
       "1242      Gapcoin       Scrypt   PoW/PoS     1.493105e+07       250000000\n",
       "1245       Beldex  CryptoNight       PoW     9.802226e+08      1400222610\n",
       "1246      Horizen     Equihash       PoW     7.296538e+06        21000000\n",
       "1247  BitcoinPlus       Scrypt       PoS     1.283270e+05         1000000\n",
       "\n",
       "[685 rows x 5 columns]"
      ]
     },
     "execution_count": 10,
     "metadata": {},
     "output_type": "execute_result"
    }
   ],
   "source": [
    "# Remove rows that have at least 1 null value.\n",
    "crypto_df = crypto_df.dropna()\n",
    "crypto_df"
   ]
  },
  {
   "cell_type": "code",
   "execution_count": 11,
   "metadata": {},
   "outputs": [
    {
     "data": {
      "text/html": [
       "<div>\n",
       "<style scoped>\n",
       "    .dataframe tbody tr th:only-of-type {\n",
       "        vertical-align: middle;\n",
       "    }\n",
       "\n",
       "    .dataframe tbody tr th {\n",
       "        vertical-align: top;\n",
       "    }\n",
       "\n",
       "    .dataframe thead th {\n",
       "        text-align: right;\n",
       "    }\n",
       "</style>\n",
       "<table border=\"1\" class=\"dataframe\">\n",
       "  <thead>\n",
       "    <tr style=\"text-align: right;\">\n",
       "      <th></th>\n",
       "      <th>CoinName</th>\n",
       "      <th>Algorithm</th>\n",
       "      <th>ProofType</th>\n",
       "      <th>TotalCoinsMined</th>\n",
       "      <th>TotalCoinSupply</th>\n",
       "    </tr>\n",
       "  </thead>\n",
       "  <tbody>\n",
       "    <tr>\n",
       "      <th>0</th>\n",
       "      <td>42 Coin</td>\n",
       "      <td>Scrypt</td>\n",
       "      <td>PoW/PoS</td>\n",
       "      <td>4.199995e+01</td>\n",
       "      <td>42</td>\n",
       "    </tr>\n",
       "    <tr>\n",
       "      <th>2</th>\n",
       "      <td>404Coin</td>\n",
       "      <td>Scrypt</td>\n",
       "      <td>PoW/PoS</td>\n",
       "      <td>1.055185e+09</td>\n",
       "      <td>532000000</td>\n",
       "    </tr>\n",
       "    <tr>\n",
       "      <th>5</th>\n",
       "      <td>EliteCoin</td>\n",
       "      <td>X13</td>\n",
       "      <td>PoW/PoS</td>\n",
       "      <td>2.927942e+10</td>\n",
       "      <td>314159265359</td>\n",
       "    </tr>\n",
       "    <tr>\n",
       "      <th>7</th>\n",
       "      <td>Bitcoin</td>\n",
       "      <td>SHA-256</td>\n",
       "      <td>PoW</td>\n",
       "      <td>1.792718e+07</td>\n",
       "      <td>21000000</td>\n",
       "    </tr>\n",
       "    <tr>\n",
       "      <th>8</th>\n",
       "      <td>Ethereum</td>\n",
       "      <td>Ethash</td>\n",
       "      <td>PoW</td>\n",
       "      <td>1.076842e+08</td>\n",
       "      <td>0</td>\n",
       "    </tr>\n",
       "    <tr>\n",
       "      <th>...</th>\n",
       "      <td>...</td>\n",
       "      <td>...</td>\n",
       "      <td>...</td>\n",
       "      <td>...</td>\n",
       "      <td>...</td>\n",
       "    </tr>\n",
       "    <tr>\n",
       "      <th>1238</th>\n",
       "      <td>ZEPHYR</td>\n",
       "      <td>SHA-256</td>\n",
       "      <td>DPoS</td>\n",
       "      <td>2.000000e+09</td>\n",
       "      <td>2000000000</td>\n",
       "    </tr>\n",
       "    <tr>\n",
       "      <th>1242</th>\n",
       "      <td>Gapcoin</td>\n",
       "      <td>Scrypt</td>\n",
       "      <td>PoW/PoS</td>\n",
       "      <td>1.493105e+07</td>\n",
       "      <td>250000000</td>\n",
       "    </tr>\n",
       "    <tr>\n",
       "      <th>1245</th>\n",
       "      <td>Beldex</td>\n",
       "      <td>CryptoNight</td>\n",
       "      <td>PoW</td>\n",
       "      <td>9.802226e+08</td>\n",
       "      <td>1400222610</td>\n",
       "    </tr>\n",
       "    <tr>\n",
       "      <th>1246</th>\n",
       "      <td>Horizen</td>\n",
       "      <td>Equihash</td>\n",
       "      <td>PoW</td>\n",
       "      <td>7.296538e+06</td>\n",
       "      <td>21000000</td>\n",
       "    </tr>\n",
       "    <tr>\n",
       "      <th>1247</th>\n",
       "      <td>BitcoinPlus</td>\n",
       "      <td>Scrypt</td>\n",
       "      <td>PoS</td>\n",
       "      <td>1.283270e+05</td>\n",
       "      <td>1000000</td>\n",
       "    </tr>\n",
       "  </tbody>\n",
       "</table>\n",
       "<p>532 rows × 5 columns</p>\n",
       "</div>"
      ],
      "text/plain": [
       "         CoinName    Algorithm ProofType  TotalCoinsMined TotalCoinSupply\n",
       "0         42 Coin       Scrypt   PoW/PoS     4.199995e+01              42\n",
       "2         404Coin       Scrypt   PoW/PoS     1.055185e+09       532000000\n",
       "5       EliteCoin          X13   PoW/PoS     2.927942e+10    314159265359\n",
       "7         Bitcoin      SHA-256       PoW     1.792718e+07        21000000\n",
       "8        Ethereum       Ethash       PoW     1.076842e+08               0\n",
       "...           ...          ...       ...              ...             ...\n",
       "1238       ZEPHYR      SHA-256      DPoS     2.000000e+09      2000000000\n",
       "1242      Gapcoin       Scrypt   PoW/PoS     1.493105e+07       250000000\n",
       "1245       Beldex  CryptoNight       PoW     9.802226e+08      1400222610\n",
       "1246      Horizen     Equihash       PoW     7.296538e+06        21000000\n",
       "1247  BitcoinPlus       Scrypt       PoS     1.283270e+05         1000000\n",
       "\n",
       "[532 rows x 5 columns]"
      ]
     },
     "execution_count": 11,
     "metadata": {},
     "output_type": "execute_result"
    }
   ],
   "source": [
    "# Keep the rows where coins are mined.\n",
    "crypto_df = crypto_df[crypto_df[\"TotalCoinsMined\"]> 0]\n",
    "crypto_df"
   ]
  },
  {
   "cell_type": "code",
   "execution_count": 12,
   "metadata": {},
   "outputs": [
    {
     "data": {
      "text/plain": [
       "0           42 Coin\n",
       "2           404Coin\n",
       "5         EliteCoin\n",
       "7           Bitcoin\n",
       "8          Ethereum\n",
       "           ...     \n",
       "1238         ZEPHYR\n",
       "1242        Gapcoin\n",
       "1245         Beldex\n",
       "1246        Horizen\n",
       "1247    BitcoinPlus\n",
       "Name: CoinName, Length: 532, dtype: object"
      ]
     },
     "execution_count": 12,
     "metadata": {},
     "output_type": "execute_result"
    }
   ],
   "source": [
    "# Create a new DataFrame that holds only the cryptocurrencies names.\n",
    "coin_name = crypto_df['CoinName']\n",
    "coin_name"
   ]
  },
  {
   "cell_type": "code",
   "execution_count": 13,
   "metadata": {},
   "outputs": [
    {
     "name": "stderr",
     "output_type": "stream",
     "text": [
      "/Users/grahamcaplan1/opt/anaconda3/lib/python3.8/site-packages/pandas/core/frame.py:4308: SettingWithCopyWarning: \n",
      "A value is trying to be set on a copy of a slice from a DataFrame\n",
      "\n",
      "See the caveats in the documentation: https://pandas.pydata.org/pandas-docs/stable/user_guide/indexing.html#returning-a-view-versus-a-copy\n",
      "  return super().drop(\n"
     ]
    }
   ],
   "source": [
    "# Drop the 'CoinName' column since it's not going to be used on the clustering algorithm.\n",
    "crypto_df.drop(columns='CoinName', inplace=True)"
   ]
  },
  {
   "cell_type": "code",
   "execution_count": 14,
   "metadata": {},
   "outputs": [
    {
     "data": {
      "text/html": [
       "<div>\n",
       "<style scoped>\n",
       "    .dataframe tbody tr th:only-of-type {\n",
       "        vertical-align: middle;\n",
       "    }\n",
       "\n",
       "    .dataframe tbody tr th {\n",
       "        vertical-align: top;\n",
       "    }\n",
       "\n",
       "    .dataframe thead th {\n",
       "        text-align: right;\n",
       "    }\n",
       "</style>\n",
       "<table border=\"1\" class=\"dataframe\">\n",
       "  <thead>\n",
       "    <tr style=\"text-align: right;\">\n",
       "      <th></th>\n",
       "      <th>TotalCoinsMined</th>\n",
       "      <th>TotalCoinSupply</th>\n",
       "      <th>Algorithm_1GB AES Pattern Search</th>\n",
       "      <th>Algorithm_536</th>\n",
       "      <th>Algorithm_Argon2d</th>\n",
       "      <th>Algorithm_BLAKE256</th>\n",
       "      <th>Algorithm_Blake</th>\n",
       "      <th>Algorithm_Blake2S</th>\n",
       "      <th>Algorithm_Blake2b</th>\n",
       "      <th>Algorithm_C11</th>\n",
       "      <th>...</th>\n",
       "      <th>ProofType_PoW/PoS</th>\n",
       "      <th>ProofType_PoW/PoS</th>\n",
       "      <th>ProofType_PoW/PoW</th>\n",
       "      <th>ProofType_PoW/nPoS</th>\n",
       "      <th>ProofType_Pos</th>\n",
       "      <th>ProofType_Proof of Authority</th>\n",
       "      <th>ProofType_Proof of Trust</th>\n",
       "      <th>ProofType_TPoS</th>\n",
       "      <th>ProofType_Zero-Knowledge Proof</th>\n",
       "      <th>ProofType_dPoW/PoW</th>\n",
       "    </tr>\n",
       "  </thead>\n",
       "  <tbody>\n",
       "    <tr>\n",
       "      <th>0</th>\n",
       "      <td>4.199995e+01</td>\n",
       "      <td>42</td>\n",
       "      <td>0</td>\n",
       "      <td>0</td>\n",
       "      <td>0</td>\n",
       "      <td>0</td>\n",
       "      <td>0</td>\n",
       "      <td>0</td>\n",
       "      <td>0</td>\n",
       "      <td>0</td>\n",
       "      <td>...</td>\n",
       "      <td>1</td>\n",
       "      <td>0</td>\n",
       "      <td>0</td>\n",
       "      <td>0</td>\n",
       "      <td>0</td>\n",
       "      <td>0</td>\n",
       "      <td>0</td>\n",
       "      <td>0</td>\n",
       "      <td>0</td>\n",
       "      <td>0</td>\n",
       "    </tr>\n",
       "    <tr>\n",
       "      <th>2</th>\n",
       "      <td>1.055185e+09</td>\n",
       "      <td>532000000</td>\n",
       "      <td>0</td>\n",
       "      <td>0</td>\n",
       "      <td>0</td>\n",
       "      <td>0</td>\n",
       "      <td>0</td>\n",
       "      <td>0</td>\n",
       "      <td>0</td>\n",
       "      <td>0</td>\n",
       "      <td>...</td>\n",
       "      <td>1</td>\n",
       "      <td>0</td>\n",
       "      <td>0</td>\n",
       "      <td>0</td>\n",
       "      <td>0</td>\n",
       "      <td>0</td>\n",
       "      <td>0</td>\n",
       "      <td>0</td>\n",
       "      <td>0</td>\n",
       "      <td>0</td>\n",
       "    </tr>\n",
       "    <tr>\n",
       "      <th>5</th>\n",
       "      <td>2.927942e+10</td>\n",
       "      <td>314159265359</td>\n",
       "      <td>0</td>\n",
       "      <td>0</td>\n",
       "      <td>0</td>\n",
       "      <td>0</td>\n",
       "      <td>0</td>\n",
       "      <td>0</td>\n",
       "      <td>0</td>\n",
       "      <td>0</td>\n",
       "      <td>...</td>\n",
       "      <td>1</td>\n",
       "      <td>0</td>\n",
       "      <td>0</td>\n",
       "      <td>0</td>\n",
       "      <td>0</td>\n",
       "      <td>0</td>\n",
       "      <td>0</td>\n",
       "      <td>0</td>\n",
       "      <td>0</td>\n",
       "      <td>0</td>\n",
       "    </tr>\n",
       "    <tr>\n",
       "      <th>7</th>\n",
       "      <td>1.792718e+07</td>\n",
       "      <td>21000000</td>\n",
       "      <td>0</td>\n",
       "      <td>0</td>\n",
       "      <td>0</td>\n",
       "      <td>0</td>\n",
       "      <td>0</td>\n",
       "      <td>0</td>\n",
       "      <td>0</td>\n",
       "      <td>0</td>\n",
       "      <td>...</td>\n",
       "      <td>0</td>\n",
       "      <td>0</td>\n",
       "      <td>0</td>\n",
       "      <td>0</td>\n",
       "      <td>0</td>\n",
       "      <td>0</td>\n",
       "      <td>0</td>\n",
       "      <td>0</td>\n",
       "      <td>0</td>\n",
       "      <td>0</td>\n",
       "    </tr>\n",
       "    <tr>\n",
       "      <th>8</th>\n",
       "      <td>1.076842e+08</td>\n",
       "      <td>0</td>\n",
       "      <td>0</td>\n",
       "      <td>0</td>\n",
       "      <td>0</td>\n",
       "      <td>0</td>\n",
       "      <td>0</td>\n",
       "      <td>0</td>\n",
       "      <td>0</td>\n",
       "      <td>0</td>\n",
       "      <td>...</td>\n",
       "      <td>0</td>\n",
       "      <td>0</td>\n",
       "      <td>0</td>\n",
       "      <td>0</td>\n",
       "      <td>0</td>\n",
       "      <td>0</td>\n",
       "      <td>0</td>\n",
       "      <td>0</td>\n",
       "      <td>0</td>\n",
       "      <td>0</td>\n",
       "    </tr>\n",
       "  </tbody>\n",
       "</table>\n",
       "<p>5 rows × 98 columns</p>\n",
       "</div>"
      ],
      "text/plain": [
       "   TotalCoinsMined TotalCoinSupply  Algorithm_1GB AES Pattern Search  \\\n",
       "0     4.199995e+01              42                                 0   \n",
       "2     1.055185e+09       532000000                                 0   \n",
       "5     2.927942e+10    314159265359                                 0   \n",
       "7     1.792718e+07        21000000                                 0   \n",
       "8     1.076842e+08               0                                 0   \n",
       "\n",
       "   Algorithm_536  Algorithm_Argon2d  Algorithm_BLAKE256  Algorithm_Blake  \\\n",
       "0              0                  0                   0                0   \n",
       "2              0                  0                   0                0   \n",
       "5              0                  0                   0                0   \n",
       "7              0                  0                   0                0   \n",
       "8              0                  0                   0                0   \n",
       "\n",
       "   Algorithm_Blake2S  Algorithm_Blake2b  Algorithm_C11  ...  \\\n",
       "0                  0                  0              0  ...   \n",
       "2                  0                  0              0  ...   \n",
       "5                  0                  0              0  ...   \n",
       "7                  0                  0              0  ...   \n",
       "8                  0                  0              0  ...   \n",
       "\n",
       "   ProofType_PoW/PoS  ProofType_PoW/PoS   ProofType_PoW/PoW  \\\n",
       "0                  1                   0                  0   \n",
       "2                  1                   0                  0   \n",
       "5                  1                   0                  0   \n",
       "7                  0                   0                  0   \n",
       "8                  0                   0                  0   \n",
       "\n",
       "   ProofType_PoW/nPoS  ProofType_Pos  ProofType_Proof of Authority  \\\n",
       "0                   0              0                             0   \n",
       "2                   0              0                             0   \n",
       "5                   0              0                             0   \n",
       "7                   0              0                             0   \n",
       "8                   0              0                             0   \n",
       "\n",
       "   ProofType_Proof of Trust  ProofType_TPoS  ProofType_Zero-Knowledge Proof  \\\n",
       "0                         0               0                               0   \n",
       "2                         0               0                               0   \n",
       "5                         0               0                               0   \n",
       "7                         0               0                               0   \n",
       "8                         0               0                               0   \n",
       "\n",
       "   ProofType_dPoW/PoW  \n",
       "0                   0  \n",
       "2                   0  \n",
       "5                   0  \n",
       "7                   0  \n",
       "8                   0  \n",
       "\n",
       "[5 rows x 98 columns]"
      ]
     },
     "execution_count": 14,
     "metadata": {},
     "output_type": "execute_result"
    }
   ],
   "source": [
    "# Use get_dummies() to create variables for text features.\n",
    "X = pd.get_dummies(crypto_df, columns=['Algorithm', 'ProofType'])\n",
    "X.head()"
   ]
  },
  {
   "cell_type": "code",
   "execution_count": 15,
   "metadata": {},
   "outputs": [
    {
     "data": {
      "text/plain": [
       "array([[-0.11710817, -0.1528703 , -0.0433963 , ..., -0.0433963 ,\n",
       "        -0.0433963 , -0.0433963 ],\n",
       "       [-0.09396955, -0.145009  , -0.0433963 , ..., -0.0433963 ,\n",
       "        -0.0433963 , -0.0433963 ],\n",
       "       [ 0.52494561,  4.48942416, -0.0433963 , ..., -0.0433963 ,\n",
       "        -0.0433963 , -0.0433963 ],\n",
       "       ...,\n",
       "       [-0.09561336, -0.13217937, -0.0433963 , ..., -0.0433963 ,\n",
       "        -0.0433963 , -0.0433963 ],\n",
       "       [-0.11694817, -0.15255998, -0.0433963 , ..., -0.0433963 ,\n",
       "        -0.0433963 , -0.0433963 ],\n",
       "       [-0.11710536, -0.15285552, -0.0433963 , ..., -0.0433963 ,\n",
       "        -0.0433963 , -0.0433963 ]])"
      ]
     },
     "execution_count": 15,
     "metadata": {},
     "output_type": "execute_result"
    }
   ],
   "source": [
    "# Standardize the data with StandardScaler().\n",
    "X_scaled = StandardScaler().fit_transform(X)\n",
    "X_scaled"
   ]
  },
  {
   "cell_type": "markdown",
   "metadata": {},
   "source": [
    "### Deliverable 2: Reducing Data Dimensions Using PCA"
   ]
  },
  {
   "cell_type": "code",
   "execution_count": 16,
   "metadata": {},
   "outputs": [],
   "source": [
    "# Using PCA to reduce dimension to three principal components.\n",
    "pca = PCA(n_components=3)\n",
    "crypto_pca = pca.fit_transform(X_scaled)"
   ]
  },
  {
   "cell_type": "code",
   "execution_count": 17,
   "metadata": {},
   "outputs": [
    {
     "data": {
      "text/html": [
       "<div>\n",
       "<style scoped>\n",
       "    .dataframe tbody tr th:only-of-type {\n",
       "        vertical-align: middle;\n",
       "    }\n",
       "\n",
       "    .dataframe tbody tr th {\n",
       "        vertical-align: top;\n",
       "    }\n",
       "\n",
       "    .dataframe thead th {\n",
       "        text-align: right;\n",
       "    }\n",
       "</style>\n",
       "<table border=\"1\" class=\"dataframe\">\n",
       "  <thead>\n",
       "    <tr style=\"text-align: right;\">\n",
       "      <th></th>\n",
       "      <th>principal component 1</th>\n",
       "      <th>principal component 2</th>\n",
       "      <th>principal component 3</th>\n",
       "    </tr>\n",
       "  </thead>\n",
       "  <tbody>\n",
       "    <tr>\n",
       "      <th>0</th>\n",
       "      <td>-0.344277</td>\n",
       "      <td>1.069899</td>\n",
       "      <td>-0.525168</td>\n",
       "    </tr>\n",
       "    <tr>\n",
       "      <th>2</th>\n",
       "      <td>-0.327554</td>\n",
       "      <td>1.070149</td>\n",
       "      <td>-0.525535</td>\n",
       "    </tr>\n",
       "    <tr>\n",
       "      <th>5</th>\n",
       "      <td>2.309733</td>\n",
       "      <td>1.647480</td>\n",
       "      <td>-0.572824</td>\n",
       "    </tr>\n",
       "    <tr>\n",
       "      <th>7</th>\n",
       "      <td>-0.148872</td>\n",
       "      <td>-1.335559</td>\n",
       "      <td>0.153407</td>\n",
       "    </tr>\n",
       "    <tr>\n",
       "      <th>8</th>\n",
       "      <td>-0.147123</td>\n",
       "      <td>-2.065482</td>\n",
       "      <td>0.318752</td>\n",
       "    </tr>\n",
       "  </tbody>\n",
       "</table>\n",
       "</div>"
      ],
      "text/plain": [
       "   principal component 1  principal component 2  principal component 3\n",
       "0              -0.344277               1.069899              -0.525168\n",
       "2              -0.327554               1.070149              -0.525535\n",
       "5               2.309733               1.647480              -0.572824\n",
       "7              -0.148872              -1.335559               0.153407\n",
       "8              -0.147123              -2.065482               0.318752"
      ]
     },
     "execution_count": 17,
     "metadata": {},
     "output_type": "execute_result"
    }
   ],
   "source": [
    "# Create a DataFrame with the three principal components.\n",
    "pcs_df = pd.DataFrame(\n",
    "    data=crypto_pca, columns=[\"principal component 1\", \"principal component 2\", \"principal component 3\"],\n",
    "    index= crypto_df.index\n",
    ")\n",
    "pcs_df.head()"
   ]
  },
  {
   "cell_type": "markdown",
   "metadata": {},
   "source": [
    "### Deliverable 3: Clustering Crytocurrencies Using K-Means\n",
    "\n",
    "#### Finding the Best Value for `k` Using the Elbow Curve"
   ]
  },
  {
   "cell_type": "code",
   "execution_count": 18,
   "metadata": {},
   "outputs": [
    {
     "data": {},
     "metadata": {},
     "output_type": "display_data"
    },
    {
     "data": {
      "application/vnd.holoviews_exec.v0+json": "",
      "text/html": [
       "<div id='1002'>\n",
       "\n",
       "\n",
       "\n",
       "\n",
       "\n",
       "  <div class=\"bk-root\" id=\"900114ae-dee2-4240-98af-16d69123aeda\" data-root-id=\"1002\"></div>\n",
       "</div>\n",
       "<script type=\"application/javascript\">(function(root) {\n",
       "  function embed_document(root) {\n",
       "    var docs_json = {\"f3c7ae19-7efb-4d48-86b0-97f06cace1ee\":{\"defs\":[{\"extends\":null,\"module\":null,\"name\":\"ReactiveHTML1\",\"overrides\":[],\"properties\":[]},{\"extends\":null,\"module\":null,\"name\":\"FlexBox1\",\"overrides\":[],\"properties\":[{\"default\":\"flex-start\",\"kind\":null,\"name\":\"align_content\"},{\"default\":\"flex-start\",\"kind\":null,\"name\":\"align_items\"},{\"default\":\"row\",\"kind\":null,\"name\":\"flex_direction\"},{\"default\":\"wrap\",\"kind\":null,\"name\":\"flex_wrap\"},{\"default\":\"flex-start\",\"kind\":null,\"name\":\"justify_content\"}]},{\"extends\":null,\"module\":null,\"name\":\"TemplateActions1\",\"overrides\":[],\"properties\":[{\"default\":0,\"kind\":null,\"name\":\"open_modal\"},{\"default\":0,\"kind\":null,\"name\":\"close_modal\"}]},{\"extends\":null,\"module\":null,\"name\":\"MaterialTemplateActions1\",\"overrides\":[],\"properties\":[{\"default\":0,\"kind\":null,\"name\":\"open_modal\"},{\"default\":0,\"kind\":null,\"name\":\"close_modal\"}]}],\"roots\":{\"references\":[{\"attributes\":{},\"id\":\"1025\",\"type\":\"PanTool\"},{\"attributes\":{},\"id\":\"1026\",\"type\":\"WheelZoomTool\"},{\"attributes\":{},\"id\":\"1048\",\"type\":\"BasicTickFormatter\"},{\"attributes\":{},\"id\":\"1024\",\"type\":\"SaveTool\"},{\"attributes\":{\"line_color\":\"#30a2da\",\"line_width\":2,\"x\":{\"field\":\"k\"},\"y\":{\"field\":\"inertia\"}},\"id\":\"1045\",\"type\":\"Line\"},{\"attributes\":{\"overlay\":{\"id\":\"1029\"}},\"id\":\"1027\",\"type\":\"BoxZoomTool\"},{\"attributes\":{},\"id\":\"1028\",\"type\":\"ResetTool\"},{\"attributes\":{\"bottom_units\":\"screen\",\"coordinates\":null,\"fill_alpha\":0.5,\"fill_color\":\"lightgrey\",\"group\":null,\"left_units\":\"screen\",\"level\":\"overlay\",\"line_alpha\":1.0,\"line_color\":\"black\",\"line_dash\":[4,4],\"line_width\":2,\"right_units\":\"screen\",\"syncable\":false,\"top_units\":\"screen\"},\"id\":\"1029\",\"type\":\"BoxAnnotation\"},{\"attributes\":{\"margin\":[5,5,5,5],\"name\":\"HSpacer01632\",\"sizing_mode\":\"stretch_width\"},\"id\":\"1073\",\"type\":\"Spacer\"},{\"attributes\":{\"source\":{\"id\":\"1037\"}},\"id\":\"1044\",\"type\":\"CDSView\"},{\"attributes\":{},\"id\":\"1049\",\"type\":\"AllLabels\"},{\"attributes\":{\"coordinates\":null,\"data_source\":{\"id\":\"1037\"},\"glyph\":{\"id\":\"1040\"},\"group\":null,\"hover_glyph\":null,\"muted_glyph\":{\"id\":\"1042\"},\"nonselection_glyph\":{\"id\":\"1041\"},\"selection_glyph\":{\"id\":\"1045\"},\"view\":{\"id\":\"1044\"}},\"id\":\"1043\",\"type\":\"GlyphRenderer\"},{\"attributes\":{\"ticks\":[1,2,3,4,5,6,7,8,9,10]},\"id\":\"1046\",\"type\":\"FixedTicker\"},{\"attributes\":{\"line_alpha\":0.1,\"line_color\":\"#30a2da\",\"line_width\":2,\"x\":{\"field\":\"k\"},\"y\":{\"field\":\"inertia\"}},\"id\":\"1041\",\"type\":\"Line\"},{\"attributes\":{\"below\":[{\"id\":\"1016\"}],\"center\":[{\"id\":\"1019\"},{\"id\":\"1023\"}],\"height\":300,\"left\":[{\"id\":\"1020\"}],\"margin\":[5,5,5,5],\"min_border_bottom\":10,\"min_border_left\":10,\"min_border_right\":10,\"min_border_top\":10,\"renderers\":[{\"id\":\"1043\"}],\"sizing_mode\":\"fixed\",\"title\":{\"id\":\"1008\"},\"toolbar\":{\"id\":\"1030\"},\"width\":700,\"x_range\":{\"id\":\"1004\"},\"x_scale\":{\"id\":\"1012\"},\"y_range\":{\"id\":\"1005\"},\"y_scale\":{\"id\":\"1014\"}},\"id\":\"1007\",\"subtype\":\"Figure\",\"type\":\"Plot\"},{\"attributes\":{\"line_alpha\":0.2,\"line_color\":\"#30a2da\",\"line_width\":2,\"x\":{\"field\":\"k\"},\"y\":{\"field\":\"inertia\"}},\"id\":\"1042\",\"type\":\"Line\"},{\"attributes\":{},\"id\":\"1012\",\"type\":\"LinearScale\"},{\"attributes\":{\"coordinates\":null,\"group\":null,\"text\":\"Elbow Curve\",\"text_color\":\"black\",\"text_font_size\":\"12pt\"},\"id\":\"1008\",\"type\":\"Title\"},{\"attributes\":{},\"id\":\"1061\",\"type\":\"UnionRenderers\"},{\"attributes\":{\"end\":10.0,\"reset_end\":10.0,\"reset_start\":1.0,\"start\":1.0,\"tags\":[[[\"k\",\"k\",null]]]},\"id\":\"1004\",\"type\":\"Range1d\"},{\"attributes\":{\"end\":3988.529836157963,\"reset_end\":3988.529836157963,\"reset_start\":-230.0681489788547,\"start\":-230.0681489788547,\"tags\":[[[\"inertia\",\"inertia\",null]]]},\"id\":\"1005\",\"type\":\"Range1d\"},{\"attributes\":{},\"id\":\"1014\",\"type\":\"LinearScale\"},{\"attributes\":{},\"id\":\"1053\",\"type\":\"BasicTickFormatter\"},{\"attributes\":{\"children\":[{\"id\":\"1003\"},{\"id\":\"1007\"},{\"id\":\"1073\"}],\"margin\":[0,0,0,0],\"name\":\"Row01627\",\"tags\":[\"embedded\"]},\"id\":\"1002\",\"type\":\"Row\"},{\"attributes\":{\"axis_label\":\"k\",\"coordinates\":null,\"formatter\":{\"id\":\"1048\"},\"group\":null,\"major_label_policy\":{\"id\":\"1049\"},\"ticker\":{\"id\":\"1046\"}},\"id\":\"1016\",\"type\":\"LinearAxis\"},{\"attributes\":{\"margin\":[5,5,5,5],\"name\":\"HSpacer01631\",\"sizing_mode\":\"stretch_width\"},\"id\":\"1003\",\"type\":\"Spacer\"},{\"attributes\":{\"callback\":null,\"renderers\":[{\"id\":\"1043\"}],\"tags\":[\"hv_created\"],\"tooltips\":[[\"k\",\"@{k}\"],[\"inertia\",\"@{inertia}\"]]},\"id\":\"1006\",\"type\":\"HoverTool\"},{\"attributes\":{\"axis\":{\"id\":\"1016\"},\"coordinates\":null,\"grid_line_color\":null,\"group\":null,\"ticker\":null},\"id\":\"1019\",\"type\":\"Grid\"},{\"attributes\":{},\"id\":\"1021\",\"type\":\"BasicTicker\"},{\"attributes\":{},\"id\":\"1038\",\"type\":\"Selection\"},{\"attributes\":{\"data\":{\"inertia\":{\"__ndarray__\":\"BrMXw/VprEBuMqmfE0OjQFjMMRbpKJdAOhkni1MNgkB7vGM0C5d5QECbCCm3WXNAEe10ruPXbkBffnutRghoQBZbKVqvomJAZG9r5dNeXkA=\",\"dtype\":\"float64\",\"order\":\"little\",\"shape\":[10]},\"k\":[1,2,3,4,5,6,7,8,9,10]},\"selected\":{\"id\":\"1038\"},\"selection_policy\":{\"id\":\"1061\"}},\"id\":\"1037\",\"type\":\"ColumnDataSource\"},{\"attributes\":{\"axis_label\":\"inertia\",\"coordinates\":null,\"formatter\":{\"id\":\"1053\"},\"group\":null,\"major_label_policy\":{\"id\":\"1054\"},\"ticker\":{\"id\":\"1021\"}},\"id\":\"1020\",\"type\":\"LinearAxis\"},{\"attributes\":{\"tools\":[{\"id\":\"1006\"},{\"id\":\"1024\"},{\"id\":\"1025\"},{\"id\":\"1026\"},{\"id\":\"1027\"},{\"id\":\"1028\"}]},\"id\":\"1030\",\"type\":\"Toolbar\"},{\"attributes\":{\"axis\":{\"id\":\"1020\"},\"coordinates\":null,\"dimension\":1,\"grid_line_color\":null,\"group\":null,\"ticker\":null},\"id\":\"1023\",\"type\":\"Grid\"},{\"attributes\":{\"line_color\":\"#30a2da\",\"line_width\":2,\"x\":{\"field\":\"k\"},\"y\":{\"field\":\"inertia\"}},\"id\":\"1040\",\"type\":\"Line\"},{\"attributes\":{},\"id\":\"1054\",\"type\":\"AllLabels\"}],\"root_ids\":[\"1002\"]},\"title\":\"Bokeh Application\",\"version\":\"2.4.2\"}};\n",
       "    var render_items = [{\"docid\":\"f3c7ae19-7efb-4d48-86b0-97f06cace1ee\",\"root_ids\":[\"1002\"],\"roots\":{\"1002\":\"900114ae-dee2-4240-98af-16d69123aeda\"}}];\n",
       "    root.Bokeh.embed.embed_items_notebook(docs_json, render_items);\n",
       "  }\n",
       "  if (root.Bokeh !== undefined && root.Bokeh.Panel !== undefined) {\n",
       "    embed_document(root);\n",
       "  } else {\n",
       "    var attempts = 0;\n",
       "    var timer = setInterval(function(root) {\n",
       "      if (root.Bokeh !== undefined && root.Bokeh.Panel !== undefined) {\n",
       "        clearInterval(timer);\n",
       "        embed_document(root);\n",
       "      } else if (document.readyState == \"complete\") {\n",
       "        attempts++;\n",
       "        if (attempts > 200) {\n",
       "          clearInterval(timer);\n",
       "          console.log(\"Bokeh: ERROR: Unable to run BokehJS code because BokehJS library is missing\");\n",
       "        }\n",
       "      }\n",
       "    }, 25, root)\n",
       "  }\n",
       "})(window);</script>"
      ],
      "text/plain": [
       ":Curve   [k]   (inertia)"
      ]
     },
     "execution_count": 18,
     "metadata": {
      "application/vnd.holoviews_exec.v0+json": {
       "id": "1002"
      }
     },
     "output_type": "execute_result"
    }
   ],
   "source": [
    "# Create an elbow curve to find the best value for K.\n",
    "inertia = []\n",
    "k = list(range(1, 11))\n",
    "\n",
    "# Calculate the inertia for the range of k values\n",
    "for i in k:\n",
    "    km = KMeans(n_clusters=i, random_state=0)\n",
    "    km.fit(pcs_df)\n",
    "    inertia.append(km.inertia_)\n",
    "\n",
    "# Create the Elbow Curve using hvPlot\n",
    "elbow_data = {\"k\": k, \"inertia\": inertia}\n",
    "df_elbow = pd.DataFrame(elbow_data)\n",
    "df_elbow.hvplot.line(x=\"k\", y=\"inertia\", xticks=k, title=\"Elbow Curve\")\n"
   ]
  },
  {
   "cell_type": "markdown",
   "metadata": {},
   "source": [
    "Running K-Means with `k=4`"
   ]
  },
  {
   "cell_type": "code",
   "execution_count": 19,
   "metadata": {},
   "outputs": [],
   "source": [
    "# Initialize the K-Means model.\n",
    "model = KMeans(n_clusters=4, random_state=0)\n",
    "\n",
    "# Fit the model\n",
    "model.fit(pcs_df)\n",
    "\n",
    "# Predict clusters\n",
    "predictions = model.predict(pcs_df)"
   ]
  },
  {
   "cell_type": "code",
   "execution_count": 24,
   "metadata": {},
   "outputs": [
    {
     "name": "stdout",
     "output_type": "stream",
     "text": [
      "(532, 9)\n"
     ]
    },
    {
     "data": {
      "text/html": [
       "<div>\n",
       "<style scoped>\n",
       "    .dataframe tbody tr th:only-of-type {\n",
       "        vertical-align: middle;\n",
       "    }\n",
       "\n",
       "    .dataframe tbody tr th {\n",
       "        vertical-align: top;\n",
       "    }\n",
       "\n",
       "    .dataframe thead th {\n",
       "        text-align: right;\n",
       "    }\n",
       "</style>\n",
       "<table border=\"1\" class=\"dataframe\">\n",
       "  <thead>\n",
       "    <tr style=\"text-align: right;\">\n",
       "      <th></th>\n",
       "      <th>Algorithm</th>\n",
       "      <th>Proof Type</th>\n",
       "      <th>Total Coins Mined</th>\n",
       "      <th>Total Coin Supply</th>\n",
       "      <th>PC1</th>\n",
       "      <th>PC2</th>\n",
       "      <th>PC3</th>\n",
       "      <th>Coin Name</th>\n",
       "      <th>Class</th>\n",
       "    </tr>\n",
       "  </thead>\n",
       "  <tbody>\n",
       "    <tr>\n",
       "      <th>0</th>\n",
       "      <td>Scrypt</td>\n",
       "      <td>PoW/PoS</td>\n",
       "      <td>4.199995e+01</td>\n",
       "      <td>42</td>\n",
       "      <td>-0.344277</td>\n",
       "      <td>1.069899</td>\n",
       "      <td>-0.525168</td>\n",
       "      <td>42 Coin</td>\n",
       "      <td>0</td>\n",
       "    </tr>\n",
       "    <tr>\n",
       "      <th>2</th>\n",
       "      <td>Scrypt</td>\n",
       "      <td>PoW/PoS</td>\n",
       "      <td>1.055185e+09</td>\n",
       "      <td>532000000</td>\n",
       "      <td>-0.327554</td>\n",
       "      <td>1.070149</td>\n",
       "      <td>-0.525535</td>\n",
       "      <td>404Coin</td>\n",
       "      <td>0</td>\n",
       "    </tr>\n",
       "    <tr>\n",
       "      <th>5</th>\n",
       "      <td>X13</td>\n",
       "      <td>PoW/PoS</td>\n",
       "      <td>2.927942e+10</td>\n",
       "      <td>314159265359</td>\n",
       "      <td>2.309733</td>\n",
       "      <td>1.647480</td>\n",
       "      <td>-0.572824</td>\n",
       "      <td>EliteCoin</td>\n",
       "      <td>0</td>\n",
       "    </tr>\n",
       "    <tr>\n",
       "      <th>7</th>\n",
       "      <td>SHA-256</td>\n",
       "      <td>PoW</td>\n",
       "      <td>1.792718e+07</td>\n",
       "      <td>21000000</td>\n",
       "      <td>-0.148872</td>\n",
       "      <td>-1.335559</td>\n",
       "      <td>0.153407</td>\n",
       "      <td>Bitcoin</td>\n",
       "      <td>3</td>\n",
       "    </tr>\n",
       "    <tr>\n",
       "      <th>8</th>\n",
       "      <td>Ethash</td>\n",
       "      <td>PoW</td>\n",
       "      <td>1.076842e+08</td>\n",
       "      <td>0</td>\n",
       "      <td>-0.147123</td>\n",
       "      <td>-2.065482</td>\n",
       "      <td>0.318752</td>\n",
       "      <td>Ethereum</td>\n",
       "      <td>3</td>\n",
       "    </tr>\n",
       "    <tr>\n",
       "      <th>9</th>\n",
       "      <td>Scrypt</td>\n",
       "      <td>PoW</td>\n",
       "      <td>6.303924e+07</td>\n",
       "      <td>84000000</td>\n",
       "      <td>-0.168639</td>\n",
       "      <td>-1.114556</td>\n",
       "      <td>-0.038677</td>\n",
       "      <td>Litecoin</td>\n",
       "      <td>3</td>\n",
       "    </tr>\n",
       "    <tr>\n",
       "      <th>10</th>\n",
       "      <td>X11</td>\n",
       "      <td>PoW/PoS</td>\n",
       "      <td>9.031294e+06</td>\n",
       "      <td>22000000</td>\n",
       "      <td>-0.402657</td>\n",
       "      <td>1.210083</td>\n",
       "      <td>-0.473814</td>\n",
       "      <td>Dash</td>\n",
       "      <td>0</td>\n",
       "    </tr>\n",
       "    <tr>\n",
       "      <th>11</th>\n",
       "      <td>CryptoNight-V7</td>\n",
       "      <td>PoW</td>\n",
       "      <td>1.720114e+07</td>\n",
       "      <td>0</td>\n",
       "      <td>-0.158340</td>\n",
       "      <td>-2.300457</td>\n",
       "      <td>0.312994</td>\n",
       "      <td>Monero</td>\n",
       "      <td>3</td>\n",
       "    </tr>\n",
       "    <tr>\n",
       "      <th>12</th>\n",
       "      <td>Ethash</td>\n",
       "      <td>PoW</td>\n",
       "      <td>1.133597e+08</td>\n",
       "      <td>210000000</td>\n",
       "      <td>-0.145558</td>\n",
       "      <td>-2.065568</td>\n",
       "      <td>0.318742</td>\n",
       "      <td>Ethereum Classic</td>\n",
       "      <td>3</td>\n",
       "    </tr>\n",
       "    <tr>\n",
       "      <th>13</th>\n",
       "      <td>Equihash</td>\n",
       "      <td>PoW</td>\n",
       "      <td>7.383056e+06</td>\n",
       "      <td>21000000</td>\n",
       "      <td>-0.161072</td>\n",
       "      <td>-1.744225</td>\n",
       "      <td>0.400116</td>\n",
       "      <td>ZCash</td>\n",
       "      <td>3</td>\n",
       "    </tr>\n",
       "  </tbody>\n",
       "</table>\n",
       "</div>"
      ],
      "text/plain": [
       "         Algorithm Proof Type  Total Coins Mined Total Coin Supply       PC1  \\\n",
       "0           Scrypt    PoW/PoS       4.199995e+01                42 -0.344277   \n",
       "2           Scrypt    PoW/PoS       1.055185e+09         532000000 -0.327554   \n",
       "5              X13    PoW/PoS       2.927942e+10      314159265359  2.309733   \n",
       "7          SHA-256        PoW       1.792718e+07          21000000 -0.148872   \n",
       "8           Ethash        PoW       1.076842e+08                 0 -0.147123   \n",
       "9           Scrypt        PoW       6.303924e+07          84000000 -0.168639   \n",
       "10             X11    PoW/PoS       9.031294e+06          22000000 -0.402657   \n",
       "11  CryptoNight-V7        PoW       1.720114e+07                 0 -0.158340   \n",
       "12          Ethash        PoW       1.133597e+08         210000000 -0.145558   \n",
       "13        Equihash        PoW       7.383056e+06          21000000 -0.161072   \n",
       "\n",
       "         PC2       PC3         Coin Name  Class  \n",
       "0   1.069899 -0.525168           42 Coin      0  \n",
       "2   1.070149 -0.525535           404Coin      0  \n",
       "5   1.647480 -0.572824         EliteCoin      0  \n",
       "7  -1.335559  0.153407           Bitcoin      3  \n",
       "8  -2.065482  0.318752          Ethereum      3  \n",
       "9  -1.114556 -0.038677          Litecoin      3  \n",
       "10  1.210083 -0.473814              Dash      0  \n",
       "11 -2.300457  0.312994            Monero      3  \n",
       "12 -2.065568  0.318742  Ethereum Classic      3  \n",
       "13 -1.744225  0.400116             ZCash      3  "
      ]
     },
     "execution_count": 24,
     "metadata": {},
     "output_type": "execute_result"
    }
   ],
   "source": [
    "# Create a new DataFrame including predicted clusters and cryptocurrencies features.\n",
    "# Concatentate the crypto_df and pcs_df DataFrames on the same columns.\n",
    "clustered_df=pd.DataFrame({\n",
    "    \"Algorithm\": crypto_df.Algorithm,\n",
    "    \"Proof Type\": crypto_df.ProofType,\n",
    "    \"Total Coins Mined\": crypto_df.TotalCoinsMined,\n",
    "    \"Total Coin Supply\": crypto_df.TotalCoinSupply,\n",
    "    \"PC1\": pcs_df[\"principal component 1\"],\n",
    "    \"PC2\": pcs_df[\"principal component 2\"],\n",
    "    \"PC3\": pcs_df[\"principal component 3\"],\n",
    "    \"Coin Name\": coin_name,\n",
    "    \"Class\": model.labels_,\n",
    "    },index= crypto_df.index)\n",
    "\n",
    "#  Add a new column, \"CoinName\" to the clustered_df DataFrame that holds the names of the cryptocurrencies. \n",
    "\n",
    "#  Add a new column, \"Class\" to the clustered_df DataFrame that holds the predictions.\n",
    "\n",
    "\n",
    "# Print the shape of the clustered_df\n",
    "print(clustered_df.shape)\n",
    "clustered_df.head(10)"
   ]
  },
  {
   "cell_type": "markdown",
   "metadata": {},
   "source": [
    "### Deliverable 4: Visualizing Cryptocurrencies Results\n",
    "\n",
    "#### 3D-Scatter with Clusters"
   ]
  },
  {
   "cell_type": "code",
   "execution_count": 25,
   "metadata": {},
   "outputs": [
    {
     "data": {
      "application/vnd.plotly.v1+json": {
       "config": {
        "plotlyServerURL": "https://plot.ly"
       },
       "data": [
        {
         "customdata": [
          [
           "Scrypt"
          ],
          [
           "Scrypt"
          ],
          [
           "X13"
          ],
          [
           "X11"
          ],
          [
           "SHA-512"
          ],
          [
           "SHA-256"
          ],
          [
           "SHA-256"
          ],
          [
           "X15"
          ],
          [
           "Scrypt"
          ],
          [
           "Scrypt"
          ],
          [
           "Scrypt"
          ],
          [
           "Scrypt"
          ],
          [
           "Scrypt"
          ],
          [
           "Scrypt"
          ],
          [
           "Groestl"
          ],
          [
           "PoS"
          ],
          [
           "Scrypt"
          ],
          [
           "Scrypt"
          ],
          [
           "X11"
          ],
          [
           "X11"
          ],
          [
           "SHA3"
          ],
          [
           "Scrypt"
          ],
          [
           "SHA-256"
          ],
          [
           "Scrypt"
          ],
          [
           "X13"
          ],
          [
           "X13"
          ],
          [
           "NeoScrypt"
          ],
          [
           "Scrypt"
          ],
          [
           "Scrypt"
          ],
          [
           "Scrypt"
          ],
          [
           "X11"
          ],
          [
           "X11"
          ],
          [
           "Multiple"
          ],
          [
           "PHI1612"
          ],
          [
           "X11"
          ],
          [
           "Scrypt"
          ],
          [
           "Scrypt"
          ],
          [
           "Scrypt"
          ],
          [
           "X11"
          ],
          [
           "Multiple"
          ],
          [
           "X13"
          ],
          [
           "Scrypt"
          ],
          [
           "Shabal256"
          ],
          [
           "Counterparty"
          ],
          [
           "SHA-256"
          ],
          [
           "Groestl"
          ],
          [
           "Scrypt"
          ],
          [
           "X13"
          ],
          [
           "Scrypt"
          ],
          [
           "Scrypt"
          ],
          [
           "X13"
          ],
          [
           "X11"
          ],
          [
           "Scrypt"
          ],
          [
           "X11"
          ],
          [
           "SHA3"
          ],
          [
           "QUAIT"
          ],
          [
           "X11"
          ],
          [
           "Scrypt"
          ],
          [
           "X13"
          ],
          [
           "SHA-256"
          ],
          [
           "X15"
          ],
          [
           "BLAKE256"
          ],
          [
           "SHA-256"
          ],
          [
           "X11"
          ],
          [
           "SHA-256"
          ],
          [
           "NIST5"
          ],
          [
           "Scrypt"
          ],
          [
           "Scrypt"
          ],
          [
           "X11"
          ],
          [
           "Scrypt"
          ],
          [
           "SHA-256"
          ],
          [
           "Scrypt"
          ],
          [
           "PoS"
          ],
          [
           "X11"
          ],
          [
           "SHA-256"
          ],
          [
           "SHA-256"
          ],
          [
           "NIST5"
          ],
          [
           "X11"
          ],
          [
           "POS 3.0"
          ],
          [
           "Scrypt"
          ],
          [
           "Scrypt"
          ],
          [
           "Scrypt"
          ],
          [
           "X13"
          ],
          [
           "X11"
          ],
          [
           "Equihash"
          ],
          [
           "X11"
          ],
          [
           "Scrypt"
          ],
          [
           "SHA-256"
          ],
          [
           "X11"
          ],
          [
           "Scrypt"
          ],
          [
           "Scrypt"
          ],
          [
           "Scrypt"
          ],
          [
           "Scrypt"
          ],
          [
           "SHA-256D"
          ],
          [
           "PoS"
          ],
          [
           "Scrypt"
          ],
          [
           "X11"
          ],
          [
           "PoS"
          ],
          [
           "X13"
          ],
          [
           "X14"
          ],
          [
           "PoS"
          ],
          [
           "SHA-256D"
          ],
          [
           "DPoS"
          ],
          [
           "X11"
          ],
          [
           "X13"
          ],
          [
           "X11"
          ],
          [
           "PoS"
          ],
          [
           "Scrypt"
          ],
          [
           "Scrypt"
          ],
          [
           "PoS"
          ],
          [
           "X11"
          ],
          [
           "SHA-256"
          ],
          [
           "Scrypt"
          ],
          [
           "X11"
          ],
          [
           "Scrypt"
          ],
          [
           "Scrypt"
          ],
          [
           "X11"
          ],
          [
           "Scrypt"
          ],
          [
           "Scrypt"
          ],
          [
           "Scrypt"
          ],
          [
           "Scrypt"
          ],
          [
           "Quark"
          ],
          [
           "QuBit"
          ],
          [
           "Scrypt"
          ],
          [
           "SHA-256"
          ],
          [
           "X11"
          ],
          [
           "Scrypt"
          ],
          [
           "Scrypt"
          ],
          [
           "Scrypt"
          ],
          [
           "Scrypt"
          ],
          [
           "X13"
          ],
          [
           "Scrypt"
          ],
          [
           "Scrypt"
          ],
          [
           "X11"
          ],
          [
           "Blake2S"
          ],
          [
           "X11"
          ],
          [
           "PoS"
          ],
          [
           "X11"
          ],
          [
           "PoS"
          ],
          [
           "X11"
          ],
          [
           "Scrypt"
          ],
          [
           "Scrypt"
          ],
          [
           "Scrypt"
          ],
          [
           "SHA-256"
          ],
          [
           "X11"
          ],
          [
           "Scrypt"
          ],
          [
           "PoS"
          ],
          [
           "Scrypt"
          ],
          [
           "X15"
          ],
          [
           "SHA-256"
          ],
          [
           "POS 3.0"
          ],
          [
           "536"
          ],
          [
           "NIST5"
          ],
          [
           "NIST5"
          ],
          [
           "Skein"
          ],
          [
           "X13"
          ],
          [
           "Scrypt"
          ],
          [
           "X13"
          ],
          [
           "SkunkHash v2 Raptor"
          ],
          [
           "Skein"
          ],
          [
           "X11"
          ],
          [
           "Scrypt"
          ],
          [
           "PoS"
          ],
          [
           "Scrypt"
          ],
          [
           "Scrypt"
          ],
          [
           "SHA-512"
          ],
          [
           "Ouroboros"
          ],
          [
           "X11"
          ],
          [
           "NeoScrypt"
          ],
          [
           "Scrypt"
          ],
          [
           "Lyra2REv2"
          ],
          [
           "Scrypt"
          ],
          [
           "SHA-256"
          ],
          [
           "NIST5"
          ],
          [
           "PHI1612"
          ],
          [
           "Scrypt"
          ],
          [
           "Quark"
          ],
          [
           "POS 2.0"
          ],
          [
           "Scrypt"
          ],
          [
           "SHA-256"
          ],
          [
           "X11"
          ],
          [
           "DPoS"
          ],
          [
           "NIST5"
          ],
          [
           "X13"
          ],
          [
           "Scrypt"
          ],
          [
           "NIST5"
          ],
          [
           "Quark"
          ],
          [
           "Scrypt"
          ],
          [
           "Scrypt"
          ],
          [
           "X11"
          ],
          [
           "Quark"
          ],
          [
           "Scrypt"
          ],
          [
           "Scrypt"
          ],
          [
           "X11"
          ],
          [
           "POS 3.0"
          ],
          [
           "Scrypt"
          ],
          [
           "Scrypt"
          ],
          [
           "X13"
          ],
          [
           "C11"
          ],
          [
           "X11"
          ],
          [
           "XEVAN"
          ],
          [
           "Scrypt"
          ],
          [
           "VBFT"
          ],
          [
           "NIST5"
          ],
          [
           "Scrypt"
          ],
          [
           "Scrypt"
          ],
          [
           "Scrypt"
          ],
          [
           "Green Protocol"
          ],
          [
           "PoS"
          ],
          [
           "Scrypt"
          ],
          [
           "Semux BFT consensus"
          ],
          [
           "Quark"
          ],
          [
           "PoS"
          ],
          [
           "X16R"
          ],
          [
           "Scrypt"
          ],
          [
           "XEVAN"
          ],
          [
           "Scrypt"
          ],
          [
           "Scrypt"
          ],
          [
           "Scrypt"
          ],
          [
           "SHA-256D"
          ],
          [
           "Scrypt"
          ],
          [
           "X15"
          ],
          [
           "Scrypt"
          ],
          [
           "Quark"
          ],
          [
           "SHA-256"
          ],
          [
           "DPoS"
          ],
          [
           "X16R"
          ],
          [
           "Quark"
          ],
          [
           "Quark"
          ],
          [
           "Scrypt"
          ],
          [
           "Lyra2REv2"
          ],
          [
           "Quark"
          ],
          [
           "Scrypt"
          ],
          [
           "X11"
          ],
          [
           "X11"
          ],
          [
           "Scrypt"
          ],
          [
           "PoS"
          ],
          [
           "Keccak"
          ],
          [
           "X11"
          ],
          [
           "Scrypt"
          ],
          [
           "SHA-512"
          ],
          [
           "ECC 256K1"
          ],
          [
           "XEVAN"
          ],
          [
           "XEVAN"
          ],
          [
           "X11"
          ],
          [
           "Quark"
          ],
          [
           "Equihash"
          ],
          [
           "Scrypt"
          ],
          [
           "Quark"
          ],
          [
           "Quark"
          ],
          [
           "Scrypt"
          ],
          [
           "X11"
          ],
          [
           "Scrypt"
          ],
          [
           "XEVAN"
          ],
          [
           "SHA-256D"
          ],
          [
           "X11"
          ],
          [
           "X11"
          ],
          [
           "DPoS"
          ],
          [
           "Scrypt"
          ],
          [
           "X11"
          ],
          [
           "Scrypt"
          ],
          [
           "Scrypt"
          ],
          [
           "SHA-256"
          ],
          [
           "Scrypt"
          ],
          [
           "X11"
          ],
          [
           "Scrypt"
          ],
          [
           "SHA-256"
          ],
          [
           "X11"
          ],
          [
           "Scrypt"
          ],
          [
           "Scrypt"
          ],
          [
           "X11"
          ],
          [
           "Scrypt"
          ],
          [
           "PoS"
          ],
          [
           "X11"
          ],
          [
           "SHA-256"
          ],
          [
           "DPoS"
          ],
          [
           "Scrypt"
          ],
          [
           "Scrypt"
          ],
          [
           "NeoScrypt"
          ],
          [
           "X13"
          ],
          [
           "DPoS"
          ],
          [
           "DPoS"
          ],
          [
           "SHA-256"
          ],
          [
           "Leased POS"
          ],
          [
           "PoS"
          ],
          [
           "PoS"
          ],
          [
           "SHA-256"
          ],
          [
           "Scrypt"
          ],
          [
           "Scrypt"
          ]
         ],
         "hovertemplate": "<b>%{hovertext}</b><br><br>Class=%{marker.color}<br>PC3=%{x}<br>PC2=%{y}<br>PC1=%{z}<br>Algorithm=%{customdata[0]}<extra></extra>",
         "hovertext": [
          "42 Coin",
          "404Coin",
          "EliteCoin",
          "Dash",
          "Bitshares",
          "BitcoinDark",
          "PayCoin",
          "KoboCoin",
          "Aurora Coin",
          "BlueCoin",
          "EnergyCoin",
          "BitBar",
          "CryptoBullion",
          "CasinoCoin",
          "Diamond",
          "Exclusive Coin",
          "FlutterCoin",
          "HoboNickels",
          "HyperStake",
          "IOCoin",
          "MaxCoin",
          "MintCoin",
          "MazaCoin",
          "Nautilus Coin",
          "NavCoin",
          "OpalCoin",
          "Orbitcoin",
          "PotCoin",
          "PhoenixCoin",
          "Reddcoin",
          "SuperCoin",
          "SyncCoin",
          "TeslaCoin",
          "TittieCoin",
          "TorCoin",
          "UnitaryStatus Dollar",
          "UltraCoin",
          "VeriCoin",
          "X11 Coin",
          "Crypti",
          "StealthCoin",
          "ZCC Coin",
          "BurstCoin",
          "StorjCoin",
          "Neutron",
          "FairCoin",
          "RubyCoin",
          "Kore",
          "Dnotes",
          "8BIT Coin",
          "Sativa Coin",
          "Ucoin",
          "Vtorrent",
          "IslaCoin",
          "Nexus",
          "Droidz",
          "Squall Coin",
          "Diggits",
          "Paycon",
          "Emercoin",
          "EverGreenCoin",
          "Decred",
          "EDRCoin",
          "Hitcoin",
          "DubaiCoin",
          "PWR Coin",
          "BillaryCoin",
          "GPU Coin",
          "EuropeCoin",
          "ZeitCoin",
          "SwingCoin",
          "SafeExchangeCoin",
          "Nebuchadnezzar",
          "Ratecoin",
          "Revenu",
          "Clockcoin",
          "VIP Tokens",
          "BitSend",
          "Let it Ride",
          "PutinCoin",
          "iBankCoin",
          "Frankywillcoin",
          "MudraCoin",
          "Lutetium Coin",
          "Komodo",
          "GoldBlocks",
          "CarterCoin",
          "BitTokens",
          "MustangCoin",
          "ZoneCoin",
          "RootCoin",
          "BitCurrency",
          "Swiscoin",
          "BuzzCoin",
          "Opair",
          "PesoBit",
          "Halloween Coin",
          "CoffeeCoin",
          "RoyalCoin",
          "GanjaCoin V2",
          "TeamUP",
          "LanaCoin",
          "ARK",
          "InsaneCoin",
          "EmberCoin",
          "XenixCoin",
          "FreeCoin",
          "PLNCoin",
          "AquariusCoin",
          "Creatio",
          "Eternity",
          "Eurocoin",
          "BitcoinFast",
          "Stakenet",
          "BitConnect Coin",
          "MoneyCoin",
          "Enigma",
          "Russiacoin",
          "PandaCoin",
          "GameUnits",
          "GAKHcoin",
          "Allsafe",
          "LiteCreed",
          "Klingon Empire Darsek",
          "Internet of People",
          "KushCoin",
          "Printerium",
          "Impeach",
          "Zilbercoin",
          "FirstCoin",
          "FindCoin",
          "OpenChat",
          "RenosCoin",
          "VirtacoinPlus",
          "TajCoin",
          "Impact",
          "Atmos",
          "HappyCoin",
          "MacronCoin",
          "Condensate",
          "Independent Money System",
          "ArgusCoin",
          "LomoCoin",
          "ProCurrency",
          "GoldReserve",
          "GrowthCoin",
          "Phreak",
          "Degas Coin",
          "HTML5 Coin",
          "Ultimate Secure Cash",
          "QTUM",
          "Espers",
          "Denarius",
          "Virta Unique Coin",
          "Bitcoin Planet",
          "BritCoin",
          "Linda",
          "DeepOnion",
          "Signatum",
          "Cream",
          "Monoeci",
          "Draftcoin",
          "Stakecoin",
          "CoinonatX",
          "Ethereum Dark",
          "Obsidian",
          "Cardano",
          "Regalcoin",
          "TrezarCoin",
          "TerraNovaCoin",
          "Rupee",
          "WomenCoin",
          "Theresa May Coin",
          "NamoCoin",
          "LUXCoin",
          "Xios",
          "Bitcloud 2.0",
          "KekCoin",
          "BlackholeCoin",
          "Infinity Economics",
          "Magnet",
          "Lamden Tau",
          "Electra",
          "Bitcoin Diamond",
          "Cash & Back Coin",
          "Bulwark",
          "Kalkulus",
          "GermanCoin",
          "LiteCoin Ultra",
          "PhantomX",
          "Digiwage",
          "Trollcoin",
          "Litecoin Plus",
          "Monkey Project",
          "TokenPay",
          "My Big Coin",
          "Unified Society USDEX",
          "Tokyo Coin",
          "Stipend",
          "Pushi",
          "Ellerium",
          "Velox",
          "Ontology",
          "Bitspace",
          "Briacoin",
          "Ignition",
          "MedicCoin",
          "Bitcoin Green",
          "Deviant Coin",
          "Abjcoin",
          "Semux",
          "Carebit",
          "Zealium",
          "Proton",
          "iDealCash",
          "Bitcoin Incognito",
          "HollyWoodCoin",
          "Swisscoin",
          "Xt3ch",
          "TheVig",
          "EmaratCoin",
          "Dekado",
          "Lynx",
          "Poseidon Quark",
          "BitcoinWSpectrum",
          "Muse",
          "Trivechain",
          "Dystem",
          "Giant",
          "Peony Coin",
          "Absolute Coin",
          "Vitae",
          "TPCash",
          "ARENON",
          "EUNO",
          "MMOCoin",
          "Ketan",
          "XDNA",
          "PAXEX",
          "ThunderStake",
          "Kcash",
          "Acute Angle Cloud",
          "Bettex coin",
          "BitMoney",
          "Junson Ming Chan Coin",
          "HerbCoin",
          "PirateCash",
          "Oduwa",
          "Galilel",
          "Crypto Sports",
          "Credit",
          "Dash Platinum",
          "Nasdacoin",
          "Beetle Coin",
          "Titan Coin",
          "Award",
          "Insane Coin",
          "ALAX",
          "LiteDoge",
          "TruckCoin",
          "OrangeCoin",
          "BitstarCoin",
          "NeosCoin",
          "HyperCoin",
          "PinkCoin",
          "AudioCoin",
          "IncaKoin",
          "Piggy Coin",
          "Genstake",
          "XiaoMiCoin",
          "CapriCoin",
          " ClubCoin",
          "Radium",
          "Creditbit ",
          "OKCash",
          "Lisk",
          "HiCoin",
          "WhiteCoin",
          "FriendshipCoin",
          "Triangles Coin",
          "EOS",
          "Oxycoin",
          "TigerCash",
          "Waves",
          "Particl",
          "Nxt",
          "ZEPHYR",
          "Gapcoin",
          "BitcoinPlus"
         ],
         "legendgroup": "0",
         "marker": {
          "color": [
           0,
           0,
           0,
           0,
           0,
           0,
           0,
           0,
           0,
           0,
           0,
           0,
           0,
           0,
           0,
           0,
           0,
           0,
           0,
           0,
           0,
           0,
           0,
           0,
           0,
           0,
           0,
           0,
           0,
           0,
           0,
           0,
           0,
           0,
           0,
           0,
           0,
           0,
           0,
           0,
           0,
           0,
           0,
           0,
           0,
           0,
           0,
           0,
           0,
           0,
           0,
           0,
           0,
           0,
           0,
           0,
           0,
           0,
           0,
           0,
           0,
           0,
           0,
           0,
           0,
           0,
           0,
           0,
           0,
           0,
           0,
           0,
           0,
           0,
           0,
           0,
           0,
           0,
           0,
           0,
           0,
           0,
           0,
           0,
           0,
           0,
           0,
           0,
           0,
           0,
           0,
           0,
           0,
           0,
           0,
           0,
           0,
           0,
           0,
           0,
           0,
           0,
           0,
           0,
           0,
           0,
           0,
           0,
           0,
           0,
           0,
           0,
           0,
           0,
           0,
           0,
           0,
           0,
           0,
           0,
           0,
           0,
           0,
           0,
           0,
           0,
           0,
           0,
           0,
           0,
           0,
           0,
           0,
           0,
           0,
           0,
           0,
           0,
           0,
           0,
           0,
           0,
           0,
           0,
           0,
           0,
           0,
           0,
           0,
           0,
           0,
           0,
           0,
           0,
           0,
           0,
           0,
           0,
           0,
           0,
           0,
           0,
           0,
           0,
           0,
           0,
           0,
           0,
           0,
           0,
           0,
           0,
           0,
           0,
           0,
           0,
           0,
           0,
           0,
           0,
           0,
           0,
           0,
           0,
           0,
           0,
           0,
           0,
           0,
           0,
           0,
           0,
           0,
           0,
           0,
           0,
           0,
           0,
           0,
           0,
           0,
           0,
           0,
           0,
           0,
           0,
           0,
           0,
           0,
           0,
           0,
           0,
           0,
           0,
           0,
           0,
           0,
           0,
           0,
           0,
           0,
           0,
           0,
           0,
           0,
           0,
           0,
           0,
           0,
           0,
           0,
           0,
           0,
           0,
           0,
           0,
           0,
           0,
           0,
           0,
           0,
           0,
           0,
           0,
           0,
           0,
           0,
           0,
           0,
           0,
           0,
           0,
           0,
           0,
           0,
           0,
           0,
           0,
           0,
           0,
           0,
           0,
           0,
           0,
           0,
           0,
           0,
           0,
           0,
           0,
           0,
           0,
           0,
           0,
           0,
           0,
           0,
           0,
           0,
           0,
           0,
           0,
           0,
           0,
           0,
           0,
           0,
           0,
           0
          ],
          "coloraxis": "coloraxis",
          "symbol": "circle"
         },
         "mode": "markers",
         "name": "0",
         "scene": "scene",
         "showlegend": true,
         "type": "scatter3d",
         "x": [
          -0.5251676980640189,
          -0.5255347856126578,
          -0.5728237841358926,
          -0.47381374110709434,
          -0.14541083272766686,
          -0.33310264566876097,
          -0.04396205902941621,
          -0.5295262848226213,
          -0.525174313444791,
          -0.5253758827343029,
          -0.5252080172600139,
          -0.5251677320892428,
          -0.5251680786762031,
          0.36896329389893073,
          -0.380168777801248,
          -0.047558966378437546,
          -0.3665153176516243,
          -0.5252017663528838,
          -0.18521612102948784,
          -0.47381656516328635,
          -0.14218976233258912,
          -0.24300053939082536,
          -0.33372728738630153,
          -0.2360299365454273,
          -0.5506294733582408,
          -0.5506127868621713,
          -0.3001371566610325,
          -0.5252575299076072,
          -0.5251958671130155,
          -0.5347723920773204,
          -0.1846827989133996,
          -0.47380989862583484,
          0.09315235383344123,
          -0.16975870761924652,
          -0.47381076912515546,
          -0.5255920381626211,
          -0.5251881747311853,
          -0.3641373002499228,
          -0.4738123965024109,
          0.09314990460659517,
          -0.5506186637010492,
          -0.5252563648739488,
          1.669642879961163,
          -0.10764674878364135,
          -0.3331168891923439,
          -0.3801849471148633,
          -0.2360328918374203,
          -0.5506089659544238,
          -0.23610129516809764,
          -0.5251681789590614,
          -0.5506105481147758,
          -0.1846678703805201,
          -0.5251723037295671,
          -0.4738103941366684,
          0.6106011396202405,
          -0.6464284317747436,
          -0.2527472075786836,
          -0.2360607665299893,
          -0.5506173796706365,
          -0.3331556277638641,
          -0.5295093427803942,
          -0.3929549176862043,
          -0.33310342570286583,
          -0.4784794300851776,
          -0.333103441745319,
          -0.5195521068850467,
          -0.5251723339030379,
          -0.23604612892107157,
          -0.4738287372997381,
          -0.25211479546674775,
          -0.33310438071676157,
          0.3828858949564067,
          -0.04756446176583206,
          -0.4738569961405512,
          -0.3331106803412392,
          -0.33312789350279565,
          -0.5162839985693896,
          -0.4738234734836711,
          -0.07400446359229747,
          -0.5255144536719711,
          -0.5251709623537584,
          -0.5252044792279609,
          -0.26147378274416144,
          -0.18490783785063034,
          0.7098184557320759,
          -0.4738170064406083,
          -0.5251854566672594,
          -0.3331023782978768,
          -0.4738102342040324,
          -0.5251693877752398,
          -0.5251683336167073,
          -0.2360795511462424,
          -0.3312972432477142,
          -0.6409966481567402,
          -0.04758433467886108,
          -0.5251786812147218,
          -0.47395688602949726,
          -0.04760743701693417,
          -0.26146502804167776,
          -0.5579056111819866,
          -0.04757503784900033,
          -0.6344348882131476,
          -0.6447491627843993,
          -0.47381711329585036,
          -0.5808472184960018,
          -0.4738113154990664,
          -0.04757549611964806,
          -0.5251748456951258,
          -0.5251701881920737,
          -0.04756446176583206,
          -0.47381429758813587,
          -0.3331062110864678,
          -0.5251756565821133,
          -0.3762835773727346,
          -0.5251724534958151,
          -0.5251974178601346,
          -0.4738103660146991,
          -0.5251762289086256,
          -0.24840869488851028,
          -0.5251693582540193,
          -0.5251689176348744,
          -0.14370061431310804,
          -0.30029002906759655,
          -0.5251956401559391,
          -0.3331030108388534,
          -0.4738121281460875,
          -0.5251723748275001,
          -0.5251686803122861,
          -0.23602715282353456,
          -0.3857653170767262,
          -0.2614694508782641,
          -0.52553550984244,
          -0.23603717984904557,
          -0.4738182287879459,
          -0.6119446760861389,
          -0.47385056403207637,
          -0.04759794861644854,
          -0.47382096731710327,
          -0.04770469594279587,
          -0.473869849900326,
          -0.5251703093947101,
          -0.5251692234407237,
          -0.5252080424724122,
          -0.04700411426605588,
          -0.4738171313046056,
          -0.236201042149856,
          -0.04756204274144276,
          -0.525178914809613,
          -0.5464412707493521,
          -0.04396905495725439,
          -0.07402725549654139,
          -0.6165560163682451,
          -0.5162548098410845,
          -0.516278484819819,
          -0.6176230703310375,
          -0.5506159946730012,
          -0.530140129909624,
          -0.5506157612038383,
          -0.05346434909181678,
          -0.6176363483844112,
          -0.47381439829035094,
          -0.23603079940813626,
          -0.047560891178758745,
          -0.5251760386216664,
          -0.5251692428581085,
          -0.14437979862838382,
          -0.1179782296480579,
          -0.4738133624658464,
          -0.3002118602846394,
          -0.5251687039637973,
          -0.0052409744543721465,
          -0.5420490476693524,
          -0.3331355161975605,
          -0.5164849160824501,
          -0.45828361223422975,
          -0.5251692461461757,
          -0.4328583765349646,
          0.031216166249950557,
          -0.5251736531305141,
          -0.047267932867537894,
          -0.47382819925853414,
          -0.6448231675896169,
          -0.5267629068607893,
          -0.5506763905624638,
          -0.5252124954949531,
          -0.22711478250172304,
          -0.14370292450315472,
          -0.5287858891172764,
          -0.525176483598576,
          -0.4738267077117721,
          -0.14371033155314675,
          -0.5253974980796509,
          -0.5251686793187996,
          -0.1846684732480319,
          -0.07399817753421635,
          -0.3624319088327634,
          -0.5252539629101842,
          -0.26157170606302554,
          -0.47449796096544683,
          -0.4738116129630013,
          -0.4442369417751533,
          -0.23603734527974482,
          -0.03850031077628442,
          -0.5162595677217432,
          -0.5251680956477186,
          -0.5251682862619683,
          -0.23613165070932912,
          -0.049309166383930264,
          -0.04756780887556807,
          -0.5251721406275283,
          -0.7264165856959678,
          -0.4328940975229342,
          -0.04756394857724409,
          -0.004752770957342024,
          -0.5258335469601711,
          -0.22317601169218845,
          -0.2360377116042942,
          -0.5289193783460044,
          -0.23602825312331685,
          -0.6337936502667098,
          -0.5251781498369326,
          -0.24037367868245002,
          -0.39747162941882497,
          -0.14372357298209815,
          -0.04398059600920364,
          -0.3504242605752494,
          -0.2939086466426628,
          -0.1436997298589742,
          -0.4328424247313676,
          -0.23670257541355677,
          -0.29438233733264724,
          -0.1437222250246975,
          -0.5252096491110383,
          -0.18467470872790204,
          -0.4738219888109309,
          -0.23606973911255935,
          -0.047568599316869846,
          -0.3678098230515018,
          -0.18467167942310148,
          -0.5262382230090641,
          -0.23771692257518648,
          6.578963044054908,
          -0.15509491366901598,
          -0.17413288531506166,
          -0.19030469321761054,
          -0.4328540174777307,
          0.20273998961363363,
          -0.5251733834273762,
          -0.4328470274169126,
          -0.14369773673696778,
          -0.5382726714602184,
          -0.18466721153239465,
          -0.5251778049030635,
          -0.44431966221519453,
          -0.6342733212537862,
          -0.47383182620521974,
          -0.4738188933643486,
          -0.6450765016251658,
          -0.5315929644738957,
          -0.47388937304172746,
          -0.5251768930508718,
          -0.525176619606012,
          -0.04395990955957282,
          -0.5251708535300472,
          -0.47397295155949654,
          -0.5259109129963951,
          -0.33898658712586965,
          -0.47401200746367034,
          -0.5251879586288353,
          -0.5253162369781212,
          -0.473884228999884,
          -0.5252080767040385,
          -0.04755871911470172,
          -0.24586133164384694,
          -0.3331300245955569,
          -0.6447544351695987,
          -0.23970253847449313,
          -0.5252623171128273,
          -0.30013873467154006,
          -0.5506078721094111,
          -0.6450430520433728,
          -0.6450764172695199,
          -0.04432543851988857,
          5.8866429796075455,
          -0.047560493900315415,
          0.041558119792093284,
          -0.33898436733468423,
          -0.52518263507699,
          -0.23602406757513691
         ],
         "y": [
          1.0698991365459511,
          1.0701492249059752,
          1.6474796098898903,
          1.2100826280471852,
          1.781025919706053,
          0.8488815523096358,
          0.5646845789686786,
          1.989664937347709,
          1.0699002172422816,
          1.0701849161207204,
          1.0699544835896793,
          1.0698989447199456,
          1.0698991819340933,
          0.914545449509429,
          0.9868416853743154,
          1.3463417688183301,
          0.5305317962566837,
          1.069888650069045,
          0.9266369603618666,
          1.2100865046895968,
          2.1314449393944517,
          0.7952702046047377,
          0.8485952919372446,
          0.7856937892367353,
          1.7669003966103758,
          1.7668774906999154,
          0.49142230222792177,
          1.069822065978256,
          1.0698910483966952,
          1.0830837057023204,
          0.9259048576731435,
          1.210087849254318,
          -0.028717660356994835,
          1.671401444593859,
          1.2100842736206014,
          1.0697182670847987,
          1.0698795346866647,
          0.3589497545952625,
          1.2100886545349532,
          -0.028666587612052555,
          1.7668855579624836,
          1.0695437450065348,
          2.0235617431261437,
          1.394804669407428,
          0.8488791578056025,
          0.9868659710633269,
          0.7857055656106942,
          1.766866520381377,
          0.7855609111334008,
          1.069899796700908,
          1.7668696464595472,
          0.9258748228286356,
          1.0698959167339437,
          1.210088529929756,
          2.430056392530926,
          2.0473470508233373,
          0.8061289825556354,
          0.7856961191592559,
          1.7668599400270382,
          0.8484876719185662,
          1.9897961209355923,
          0.8643490897439505,
          0.8488826230791545,
          1.2038306409509845,
          0.848888131824436,
          1.5851987443681386,
          1.0698854618131757,
          0.785618270816043,
          1.209930501129469,
          0.7605480066653196,
          0.8488753461321935,
          0.9134932742706412,
          1.3463397703265176,
          1.2101167185192656,
          0.84879681449685,
          0.8486762260388528,
          1.58066960252866,
          1.210040166441514,
          1.4502462102671219,
          1.0694209226379534,
          1.0698824658100312,
          1.0699019162185148,
          1.4825827359315835,
          0.9259003145440626,
          -0.022224789204569998,
          1.2100737514615605,
          1.0698805746059923,
          0.8488816623902861,
          1.2100868790676382,
          1.0698914368346115,
          1.0699000090027704,
          0.785769615843025,
          0.32110437968801947,
          2.079086671023167,
          1.3463412865548143,
          1.0699142133721373,
          1.2095739629057753,
          1.3463892212948334,
          1.4826649466165007,
          1.9076136932339423,
          1.3462202214473045,
          2.0760401698546964,
          1.6780225720987787,
          1.2100834402718001,
          1.8079754019804464,
          1.2100879562568285,
          1.3463406042286363,
          1.0698905605920626,
          1.0698825163497894,
          1.3463397703265176,
          1.2100652618978867,
          0.8488874008476441,
          1.0698943168833837,
          0.4640895063707558,
          1.0698923054701746,
          1.069629499603726,
          1.2100861057941867,
          1.069842143719168,
          0.7871810209015548,
          1.0698952131613046,
          1.0698992287129008,
          1.4560542484627317,
          0.4896417065600807,
          1.0696989400798584,
          0.8488825306928292,
          1.2100864473884623,
          1.0698960143315983,
          1.06989002038593,
          0.7856714466921012,
          0.4345225116090361,
          1.4826652808646912,
          1.0699269332820838,
          0.7856950267897398,
          1.210051574084522,
          2.1465468505304357,
          1.2100911903026503,
          1.346342660493318,
          1.2100553333221356,
          1.3463509723565947,
          1.2099315929356216,
          1.0698926007571088,
          1.0698875852405532,
          1.0694774118112234,
          0.5330834580569608,
          1.2100786939289234,
          0.7849821763690497,
          1.3463316786160593,
          1.0698644378621005,
          1.9701119130389937,
          0.5646046848085071,
          1.4502457696273128,
          1.9974651104073509,
          1.5806677030473457,
          1.580647720494918,
          1.9503783191713406,
          1.766867580938889,
          1.0528695808318582,
          1.7668725571963735,
          1.2297812229381344,
          1.9503965462395279,
          1.2100894905375297,
          0.785694388826331,
          1.3463150212961414,
          1.069887564490628,
          1.0698992532910816,
          1.781284850057756,
          1.4925119375548792,
          1.2100797227463016,
          0.49133580562752854,
          1.0698930109124714,
          0.6700296639467522,
          1.0811448669463746,
          0.8488894600901037,
          1.5804158182103232,
          1.9558265088563715,
          1.069891242417362,
          1.7401910669224785,
          1.543072870755112,
          1.0699002556323356,
          0.564934629111946,
          1.2100442680819208,
          1.6779452451840386,
          1.5807839722572796,
          1.7668646085197546,
          1.0698604386171806,
          1.2964585124842642,
          1.456055034178136,
          1.0510105854979908,
          1.0698396306991884,
          1.210087068604219,
          1.456017491355461,
          1.0697851922188777,
          1.069898575129883,
          0.9258751732913902,
          1.4502416366648903,
          0.30483995667786684,
          1.0699068654854682,
          1.4824308935353772,
          0.915645138892968,
          1.2100782753790607,
          1.6186725343594464,
          0.7856525177542151,
          1.2138789179160197,
          1.5806551500364836,
          1.06989825101848,
          1.0698975584659658,
          0.7856025808348492,
          1.524564004012189,
          1.3463119217413362,
          1.0698909217764017,
          1.6265064455299367,
          1.7402401018875533,
          1.3463104394782706,
          0.701682468955587,
          1.068369445957118,
          1.214734691646036,
          0.7856997770417977,
          1.0701826632652338,
          0.7856782052674418,
          2.078693378704795,
          1.069873407001871,
          1.7055709797308025,
          0.20137402092783638,
          1.4557828017628511,
          0.5646681531691281,
          1.5270452280062152,
          0.9858870487024911,
          1.4560501717152745,
          1.7402621332427122,
          0.7785712987651552,
          0.9542186378261377,
          1.4560433599062939,
          1.069479617278468,
          0.9258675112509338,
          1.2100805908679892,
          0.78563209899339,
          1.3462547998176937,
          0.986601186203102,
          0.9258418830719053,
          1.0627807540960996,
          2.5061638446698735,
          3.710360268852179,
          1.3344738208393503,
          1.6015731428371536,
          0.9336221523655496,
          1.7402547406839295,
          0.1559850879219706,
          1.0698969217518577,
          1.7402618268259955,
          1.456051076035759,
          1.0522010563358353,
          0.9258740615456224,
          1.0698729335037627,
          1.6185761596680301,
          2.07701401203843,
          1.2099175655061958,
          1.2100858838099442,
          1.6780544490452236,
          1.0620205137684442,
          1.2101969459638973,
          1.069816337443719,
          1.0698854974167502,
          0.5646775729410999,
          1.0699034681417707,
          1.2100731227908692,
          1.0659097465434655,
          0.8568784108668185,
          1.2098881824728014,
          1.0699197920813261,
          1.0699121965588,
          1.2100906464987948,
          1.0698782281676753,
          1.3463371354366127,
          0.5547941272757861,
          0.848879536118502,
          1.678013149823141,
          0.7859676887087029,
          1.0698858902439363,
          0.4913975604814811,
          1.7668706868607962,
          1.6784856384760996,
          1.678531439636478,
          0.564712255218052,
          3.87242361781798,
          1.3463397462769713,
          1.07870720843923,
          0.7157220297499651,
          1.0698003643265224,
          0.785692975250517
         ],
         "z": [
          -0.34427718495349563,
          -0.3275544228106197,
          2.3097332139368474,
          -0.4026571200359325,
          -0.2802387128107619,
          -0.32333576713038215,
          -0.25967431984321393,
          -0.2632410514401573,
          -0.3439355004256283,
          -0.3364872464836587,
          -0.3427685051072841,
          -0.34427310475367917,
          -0.34425732875569276,
          0.802051537145917,
          -0.3795482247326412,
          -0.3122523193793793,
          -0.2779433054841583,
          -0.3423286602342839,
          -0.31874891065352867,
          -0.4025514483523163,
          -0.22915569604043443,
          -0.019627834629283226,
          -0.2865035126669368,
          -0.2803658451983891,
          -0.2845998376158541,
          -0.2852242197157349,
          -0.35409887299330806,
          -0.33855771720376354,
          -0.3426729200997405,
          0.015115163677180483,
          -0.338704974609135,
          -0.4029244136564395,
          -0.22608874672003162,
          -0.29368371764092754,
          -0.40283570125154,
          -0.3194158032492852,
          -0.3429495277088685,
          -0.29859526868428854,
          -0.40280007278192664,
          -0.22655855376959508,
          -0.2850043177672307,
          -0.3353448822526228,
          0.3781575361509662,
          -0.32038091228795956,
          -0.3225445286895766,
          -0.37896778642714085,
          -0.2803461060104545,
          -0.2852998176106548,
          -0.27497929626736145,
          -0.34425919086305473,
          -0.28525184475511733,
          -0.33915128588377125,
          -0.34399255787859556,
          -0.402905878044967,
          0.05432586237605223,
          -0.4255071671204345,
          -0.3370877311113652,
          -0.27874162620500964,
          -0.28477163753155044,
          -0.31586224908111965,
          -0.2656924309604429,
          -0.08462149984456915,
          -0.32330657949684044,
          -0.07913216209906711,
          -0.32337054633368106,
          -0.25161117443483805,
          -0.3438679091277921,
          -0.2786096883159298,
          -0.4000635257544911,
          0.8772517920846213,
          -0.32316978281934683,
          0.06856581496609747,
          -0.31193440009445433,
          -0.40074101538847684,
          -0.321908145517732,
          -0.31956692372472567,
          -0.37339327333187855,
          -0.40163604974597805,
          -0.3212047602838147,
          -0.32007307842530186,
          -0.3439061297436544,
          -0.3423394394139993,
          -0.22032731251311743,
          -0.326595628453314,
          -0.30717076392129694,
          -0.40237772955735135,
          -0.34310737865249485,
          -0.32335138625508647,
          -0.40289501887292556,
          -0.34409605371198315,
          -0.3442534038203278,
          -0.27860018900665945,
          -0.2616076553269648,
          0.024659648011796462,
          -0.3108876026113707,
          -0.34386621318725163,
          -0.3890025865448537,
          -0.31021404459094637,
          -0.22176376893908512,
          -0.42358548113671923,
          -0.3099609763730554,
          -0.2910189204710146,
          3.6187675668322385,
          -0.40248602184768656,
          0.8508723982873592,
          -0.40284976750471807,
          -0.31135307618844876,
          -0.34379334815064466,
          -0.3439481982137742,
          -0.31193440009445433,
          -0.4024229451797972,
          -0.323213583944144,
          -0.3437941105595628,
          -0.36588837506224625,
          -0.3439420376068732,
          -0.33951196720534055,
          -0.4028788576634435,
          -0.34314948194313616,
          0.3652927751396333,
          -0.34414207460632495,
          -0.3442129341869186,
          -0.3390207756454204,
          -0.35840595458895924,
          -0.3404243705423775,
          -0.323327717579435,
          -0.4027884758410818,
          -0.34398989750720543,
          -0.3441172856205076,
          -0.28025205149834187,
          -0.2874823734753392,
          -0.22153076022078855,
          -0.3248997222338357,
          -0.27999236718741466,
          -0.40205126465913177,
          -0.44119444777791006,
          -0.4007851860149851,
          -0.3101744392144015,
          -0.40194879326078303,
          -0.3045535383756772,
          -0.3978738720055087,
          -0.3440603772194433,
          -0.3440595324033356,
          -0.3371530295363316,
          0.2751742714395399,
          -0.40242920266713045,
          -0.2628251248708147,
          -0.3119687708117626,
          -0.343267946561433,
          0.8730335833257119,
          -0.2583593458444267,
          -0.3199785571476234,
          0.5796120344820405,
          -0.374934631617916,
          -0.37343115309202535,
          -0.44453821348612255,
          -0.2849357525799076,
          0.12250990111612794,
          -0.285006820106721,
          -0.3163140206311469,
          -0.44404136988196696,
          -0.40270267011432404,
          -0.2803266754448926,
          -0.3118344414330008,
          -0.3436941824035669,
          -0.3441958004205103,
          -0.33852077899173233,
          0.6657981527107973,
          -0.40264321552752264,
          -0.3490789363282833,
          -0.3441512107180568,
          -0.3073145310207204,
          0.42775932766638664,
          -0.32166787079959097,
          -0.35964312937106707,
          -0.3930128955458641,
          -0.34410135324593755,
          -0.40105418960256023,
          -0.31254534784094895,
          -0.34397132683693993,
          -0.08551317954814075,
          -0.4014311461183614,
          3.6236421583086256,
          0.18664143812238762,
          -0.28166521882273854,
          -0.34142188493581405,
          -0.3110994504296746,
          -0.338906259353395,
          0.07183636808958267,
          -0.3431062646579657,
          -0.4020147234453691,
          -0.33806764612645035,
          -0.33062535574900465,
          -0.3442180100701222,
          -0.3391231130097413,
          -0.32148769808634087,
          -0.30603777138902993,
          -0.3397467206114739,
          -0.21329445862367408,
          -0.3779048648844369,
          -0.40271990820120596,
          -0.2970094132983028,
          -0.2794832633051578,
          -0.2945058171317761,
          -0.374532018016871,
          -0.3442454646442965,
          -0.3442271030984061,
          -0.27384344027349233,
          -0.32245711887224365,
          -0.31142736839326457,
          -0.34394251557541294,
          3.7954133204567286,
          -0.399717567139378,
          -0.3116167308640791,
          -0.3099168028036887,
          -0.29060482038762353,
          -0.23132579941856854,
          -0.28001978017609697,
          -0.14662705772549336,
          -0.28027263988715184,
          -0.3565942480794659,
          -0.34341447579588624,
          -0.2014357950327009,
          2.2771058569527862,
          -0.3345964709033503,
          -0.2584879518679012,
          0.9745978597092664,
          -0.3728486900115586,
          -0.3390201833171267,
          -0.40274506665801996,
          -0.1605143105411772,
          -0.3708402565726305,
          -0.33773490201160977,
          -0.3370929116784695,
          -0.33869889719311064,
          -0.4021912971972286,
          -0.2775075613132323,
          -0.31071281841509646,
          -0.35645171693451666,
          -0.33855959500546007,
          -0.20315826824794642,
          -0.3834445899836165,
          -0.581516446984251,
          -0.23340471066821183,
          0.601654527221918,
          -0.12834264591108735,
          -0.40203702027571997,
          -0.2710689430450042,
          -0.34394654277446696,
          -0.4024948837239305,
          -0.33913760164779067,
          0.5660570477414898,
          -0.33917762329067497,
          -0.3434273826717584,
          -0.29144375206101547,
          -0.31113451630104016,
          -0.3997458206743906,
          -0.4024194145202819,
          3.6359287804173492,
          0.09265467357206993,
          -0.39995061323790465,
          -0.3428102169971904,
          -0.3436387325756784,
          -0.25970702605707024,
          -0.3441591126775989,
          -0.39401597216924206,
          -0.2575146787125279,
          -0.10222481003135239,
          -0.389747296372917,
          -0.3434348491484029,
          -0.33647328279384237,
          -0.39897527239884667,
          -0.34186795566048106,
          -0.3122110408050023,
          -0.38537062620871165,
          -0.3218452851371445,
          3.6191609015669592,
          -0.08683884532816587,
          -0.3390523314704364,
          -0.3537231771549775,
          -0.28540744819053104,
          3.6290626181915715,
          3.6303110918003028,
          -0.24053288769367015,
          -0.5595358373028398,
          -0.3121466852874684,
          -0.2620231671596177,
          2.4211497994033566,
          -0.3423146329192328,
          -0.2806706813151192
         ]
        },
        {
         "customdata": [
          [
           "SHA-256"
          ],
          [
           "Ethash"
          ],
          [
           "Scrypt"
          ],
          [
           "CryptoNight-V7"
          ],
          [
           "Ethash"
          ],
          [
           "Equihash"
          ],
          [
           "Multiple"
          ],
          [
           "Scrypt"
          ],
          [
           "X11"
          ],
          [
           "Scrypt"
          ],
          [
           "Multiple"
          ],
          [
           "Scrypt"
          ],
          [
           "SHA-256"
          ],
          [
           "Scrypt"
          ],
          [
           "Scrypt"
          ],
          [
           "Quark"
          ],
          [
           "Groestl"
          ],
          [
           "Scrypt"
          ],
          [
           "Scrypt"
          ],
          [
           "Scrypt"
          ],
          [
           "X11"
          ],
          [
           "Multiple"
          ],
          [
           "SHA-256"
          ],
          [
           "Scrypt"
          ],
          [
           "Scrypt"
          ],
          [
           "Scrypt"
          ],
          [
           "Scrypt"
          ],
          [
           "Scrypt"
          ],
          [
           "NeoScrypt"
          ],
          [
           "Scrypt"
          ],
          [
           "Scrypt"
          ],
          [
           "Scrypt"
          ],
          [
           "Scrypt"
          ],
          [
           "SHA-256"
          ],
          [
           "Scrypt"
          ],
          [
           "Scrypt"
          ],
          [
           "Scrypt"
          ],
          [
           "Scrypt"
          ],
          [
           "HybridScryptHash256"
          ],
          [
           "Scrypt"
          ],
          [
           "Scrypt"
          ],
          [
           "SHA-256"
          ],
          [
           "Scrypt"
          ],
          [
           "Scrypt"
          ],
          [
           "Scrypt"
          ],
          [
           "Scrypt"
          ],
          [
           "SHA-256"
          ],
          [
           "SHA-256"
          ],
          [
           "SHA-256"
          ],
          [
           "SHA-256"
          ],
          [
           "SHA-256"
          ],
          [
           "X11"
          ],
          [
           "Scrypt"
          ],
          [
           "Lyra2REv2"
          ],
          [
           "Scrypt"
          ],
          [
           "SHA-256"
          ],
          [
           "CryptoNight"
          ],
          [
           "CryptoNight"
          ],
          [
           "Scrypt"
          ],
          [
           "Scrypt"
          ],
          [
           "Scrypt"
          ],
          [
           "Scrypt"
          ],
          [
           "Scrypt"
          ],
          [
           "Scrypt"
          ],
          [
           "Stanford Folding"
          ],
          [
           "Multiple"
          ],
          [
           "QuBit"
          ],
          [
           "Scrypt"
          ],
          [
           "Scrypt"
          ],
          [
           "M7 POW"
          ],
          [
           "Scrypt"
          ],
          [
           "SHA-256"
          ],
          [
           "Scrypt"
          ],
          [
           "X11"
          ],
          [
           "Lyra2RE"
          ],
          [
           "SHA-256"
          ],
          [
           "X11"
          ],
          [
           "Scrypt"
          ],
          [
           "Scrypt"
          ],
          [
           "Ethash"
          ],
          [
           "Blake2b"
          ],
          [
           "X11"
          ],
          [
           "SHA-256"
          ],
          [
           "Scrypt"
          ],
          [
           "1GB AES Pattern Search"
          ],
          [
           "Scrypt"
          ],
          [
           "SHA-256"
          ],
          [
           "X11"
          ],
          [
           "Dagger"
          ],
          [
           "Scrypt"
          ],
          [
           "X11GOST"
          ],
          [
           "Scrypt"
          ],
          [
           "X11"
          ],
          [
           "Scrypt"
          ],
          [
           "X11"
          ],
          [
           "CryptoNight"
          ],
          [
           "SHA-256"
          ],
          [
           "Multiple"
          ],
          [
           "Scrypt"
          ],
          [
           "SHA-256"
          ],
          [
           "Scrypt"
          ],
          [
           "Lyra2Z"
          ],
          [
           "Ethash"
          ],
          [
           "Equihash"
          ],
          [
           "Scrypt"
          ],
          [
           "X11"
          ],
          [
           "X11"
          ],
          [
           "CryptoNight"
          ],
          [
           "Scrypt"
          ],
          [
           "CryptoNight"
          ],
          [
           "Lyra2RE"
          ],
          [
           "X11"
          ],
          [
           "CryptoNight-V7"
          ],
          [
           "Scrypt"
          ],
          [
           "X11"
          ],
          [
           "Equihash"
          ],
          [
           "Scrypt"
          ],
          [
           "Lyra2RE"
          ],
          [
           "Dagger-Hashimoto"
          ],
          [
           "Scrypt"
          ],
          [
           "NIST5"
          ],
          [
           "Scrypt"
          ],
          [
           "SHA-256"
          ],
          [
           "Scrypt"
          ],
          [
           "CryptoNight-V7"
          ],
          [
           "Argon2d"
          ],
          [
           "Blake2b"
          ],
          [
           "Cloverhash"
          ],
          [
           "CryptoNight"
          ],
          [
           "X11"
          ],
          [
           "Scrypt"
          ],
          [
           "Scrypt"
          ],
          [
           "X11"
          ],
          [
           "X11"
          ],
          [
           "CryptoNight"
          ],
          [
           "Time Travel"
          ],
          [
           "Scrypt"
          ],
          [
           "Keccak"
          ],
          [
           "X11"
          ],
          [
           "SHA-256"
          ],
          [
           "Scrypt"
          ],
          [
           "Scrypt"
          ],
          [
           "Scrypt"
          ],
          [
           "Scrypt"
          ],
          [
           "Scrypt"
          ],
          [
           "Scrypt"
          ],
          [
           "CryptoNight"
          ],
          [
           "Equihash"
          ],
          [
           "X11"
          ],
          [
           "NeoScrypt"
          ],
          [
           "Equihash"
          ],
          [
           "Dagger"
          ],
          [
           "Scrypt"
          ],
          [
           "X11"
          ],
          [
           "NeoScrypt"
          ],
          [
           "Ethash"
          ],
          [
           "NeoScrypt"
          ],
          [
           "Multiple"
          ],
          [
           "CryptoNight"
          ],
          [
           "CryptoNight"
          ],
          [
           "Ethash"
          ],
          [
           "X11"
          ],
          [
           "CryptoNight-V7"
          ],
          [
           "Scrypt"
          ],
          [
           "BLAKE256"
          ],
          [
           "X11"
          ],
          [
           "NeoScrypt"
          ],
          [
           "NeoScrypt"
          ],
          [
           "Scrypt"
          ],
          [
           "X11"
          ],
          [
           "SHA-256"
          ],
          [
           "C11"
          ],
          [
           "Ethash"
          ],
          [
           "CryptoNight"
          ],
          [
           "SkunkHash"
          ],
          [
           "CryptoNight"
          ],
          [
           "Scrypt"
          ],
          [
           "Dagger"
          ],
          [
           "Lyra2REv2"
          ],
          [
           "Scrypt"
          ],
          [
           "Scrypt"
          ],
          [
           "X11"
          ],
          [
           "Ethash"
          ],
          [
           "CryptoNight"
          ],
          [
           "Scrypt"
          ],
          [
           "IMesh"
          ],
          [
           "Equihash"
          ],
          [
           "Lyra2Z"
          ],
          [
           "X11"
          ],
          [
           "CryptoNight"
          ],
          [
           "NIST5"
          ],
          [
           "Lyra2RE"
          ],
          [
           "Tribus"
          ],
          [
           "Lyra2Z"
          ],
          [
           "CryptoNight"
          ],
          [
           "CryptoNight Heavy"
          ],
          [
           "CryptoNight"
          ],
          [
           "Jump Consistent Hash"
          ],
          [
           "CryptoNight"
          ],
          [
           "X16R"
          ],
          [
           "HMQ1725"
          ],
          [
           "X11"
          ],
          [
           "Scrypt"
          ],
          [
           "CryptoNight-V7"
          ],
          [
           "Cryptonight-GPU"
          ],
          [
           "XEVAN"
          ],
          [
           "CryptoNight Heavy"
          ],
          [
           "SHA-256"
          ],
          [
           "X11"
          ],
          [
           "X16R"
          ],
          [
           "Equihash"
          ],
          [
           "Lyra2Z"
          ],
          [
           "SHA-256"
          ],
          [
           "CryptoNight"
          ],
          [
           "Blake"
          ],
          [
           "Blake"
          ],
          [
           "Exosis"
          ],
          [
           "Scrypt"
          ],
          [
           "Equihash"
          ],
          [
           "Equihash"
          ],
          [
           "QuBit"
          ],
          [
           "SHA-256"
          ],
          [
           "X13"
          ],
          [
           "SHA-256"
          ],
          [
           "Scrypt"
          ],
          [
           "NeoScrypt"
          ],
          [
           "Blake"
          ],
          [
           "Scrypt"
          ],
          [
           "SHA-256"
          ],
          [
           "Scrypt"
          ],
          [
           "Groestl"
          ],
          [
           "Scrypt"
          ],
          [
           "Scrypt"
          ],
          [
           "Multiple"
          ],
          [
           "Equihash+Scrypt"
          ],
          [
           "Ethash"
          ],
          [
           "CryptoNight"
          ],
          [
           "Equihash"
          ]
         ],
         "hovertemplate": "<b>%{hovertext}</b><br><br>Class=%{marker.color}<br>PC3=%{x}<br>PC2=%{y}<br>PC1=%{z}<br>Algorithm=%{customdata[0]}<extra></extra>",
         "hovertext": [
          "Bitcoin",
          "Ethereum",
          "Litecoin",
          "Monero",
          "Ethereum Classic",
          "ZCash",
          "DigiByte",
          "ProsperCoin",
          "Spreadcoin",
          "Argentum",
          "MyriadCoin",
          "MoonCoin",
          "ZetaCoin",
          "SexCoin",
          "Quatloo",
          "QuarkCoin",
          "Riecoin",
          "Digitalcoin ",
          "Catcoin",
          "CannaCoin",
          "CryptCoin",
          "Verge",
          "DevCoin",
          "EarthCoin",
          "E-Gulden",
          "Einsteinium",
          "Emerald",
          "Franko",
          "FeatherCoin",
          "GrandCoin",
          "GlobalCoin",
          "GoldCoin",
          "Infinite Coin",
          "IXcoin",
          "KrugerCoin",
          "LuckyCoin",
          "Litebar ",
          "MegaCoin",
          "MediterraneanCoin",
          "MinCoin",
          "NobleCoin",
          "Namecoin",
          "NyanCoin",
          "RonPaulCoin",
          "StableCoin",
          "SmartCoin",
          "SysCoin",
          "TigerCoin",
          "TerraCoin",
          "UnbreakableCoin",
          "Unobtanium",
          "UroCoin",
          "ViaCoin",
          "Vertcoin",
          "WorldCoin",
          "JouleCoin",
          "ByteCoin",
          "DigitalNote ",
          "MonaCoin",
          "Gulden",
          "PesetaCoin",
          "Wild Beast Coin",
          "Flo",
          "ArtByte",
          "Folding Coin",
          "Unitus",
          "CypherPunkCoin",
          "OmniCron",
          "GreenCoin",
          "Cryptonite",
          "MasterCoin",
          "SoonCoin",
          "1Credit",
          "MarsCoin ",
          "Crypto",
          "Anarchists Prime",
          "BowsCoin",
          "Song Coin",
          "BitZeny",
          "Expanse",
          "Siacoin",
          "MindCoin",
          "I0coin",
          "Revolution VR",
          "HOdlcoin",
          "Gamecredits",
          "CarpeDiemCoin",
          "Adzcoin",
          "SoilCoin",
          "YoCoin",
          "SibCoin",
          "Francs",
          "BolivarCoin",
          "Omni",
          "PizzaCoin",
          "Karbo",
          "ZayedCoin",
          "Circuits of Value",
          "DopeCoin",
          "DollarCoin",
          "Shilling",
          "ZCoin",
          "Elementrem",
          "ZClassic",
          "KiloCoin",
          "ArtexCoin",
          "Kurrent",
          "Cannabis Industry Coin",
          "OsmiumCoin",
          "Bikercoins",
          "HexxCoin",
          "PacCoin",
          "Citadel",
          "BeaverCoin",
          "VaultCoin",
          "Zero",
          "Canada eCoin",
          "Zoin",
          "DubaiCoin",
          "EB3coin",
          "Coinonat",
          "BenjiRolls",
          "ILCoin",
          "EquiTrader",
          "Quantum Resistant Ledger",
          "Dynamic",
          "Nano",
          "ChanCoin",
          "Dinastycoin",
          "DigitalPrice",
          "Unify",
          "SocialCoin",
          "ArcticCoin",
          "DAS",
          "LeviarCoin",
          "Bitcore",
          "gCn Coin",
          "SmartCash",
          "Onix",
          "Bitcoin Cash",
          "Sojourn Coin",
          "NewYorkCoin",
          "FrazCoin",
          "Kronecoin",
          "AdCoin",
          "Linx",
          "Sumokoin",
          "BitcoinZ",
          "Elements",
          "VIVO Coin",
          "Bitcoin Gold",
          "Pirl",
          "eBoost",
          "Pura",
          "Innova",
          "Ellaism",
          "GoByte",
          "SHIELD",
          "UltraNote",
          "BitCoal",
          "DaxxCoin",
          "AC3",
          "Lethean",
          "PopularCoin",
          "Photon",
          "Sucre",
          "SparksPay",
          "GunCoin",
          "IrishCoin",
          "Pioneer Coin",
          "UnitedBitcoin",
          "Interzone",
          "1717 Masonic Commemorative Token",
          "TurtleCoin",
          "MUNcoin",
          "Niobio Cash",
          "ShareChain",
          "Travelflex",
          "KREDS",
          "BitFlip",
          "LottoCoin",
          "Crypto Improvement Fund",
          "Callisto Network",
          "BitTube",
          "Poseidon",
          "Aidos Kuneen",
          "Bitrolium",
          "Alpenschillling",
          "FuturoCoin",
          "Monero Classic",
          "Jumpcoin",
          "Infinex",
          "KEYCO",
          "GINcoin",
          "PlatinCoin",
          "Loki",
          "Newton Coin",
          "MassGrid",
          "PluraCoin",
          "Motion",
          "PlusOneCoin",
          "Axe",
          "HexCoin",
          "Webchain",
          "Ryo",
          "Urals Coin",
          "Qwertycoin",
          "Project Pai",
          "Azart",
          "Xchange",
          "CrypticCoin",
          "Actinium",
          "Bitcoin SV",
          "FREDEnergy",
          "Universal Molecule",
          "Lithium",
          "Exosis",
          "Block-Logic",
          "Beam",
          "Bithereum",
          "SLICE",
          "BLAST",
          "Bitcoin Rhodium",
          "GlobalToken",
          "SolarCoin",
          "UFO Coin",
          "BlakeCoin",
          "Crypto Escudo",
          "Crown Coin",
          "SmileyCoin",
          "Groestlcoin",
          "Bata",
          "Pakcoin",
          "JoinCoin",
          "Vollar",
          "Reality Clash",
          "Beldex",
          "Horizen"
         ],
         "legendgroup": "3",
         "marker": {
          "color": [
           3,
           3,
           3,
           3,
           3,
           3,
           3,
           3,
           3,
           3,
           3,
           3,
           3,
           3,
           3,
           3,
           3,
           3,
           3,
           3,
           3,
           3,
           3,
           3,
           3,
           3,
           3,
           3,
           3,
           3,
           3,
           3,
           3,
           3,
           3,
           3,
           3,
           3,
           3,
           3,
           3,
           3,
           3,
           3,
           3,
           3,
           3,
           3,
           3,
           3,
           3,
           3,
           3,
           3,
           3,
           3,
           3,
           3,
           3,
           3,
           3,
           3,
           3,
           3,
           3,
           3,
           3,
           3,
           3,
           3,
           3,
           3,
           3,
           3,
           3,
           3,
           3,
           3,
           3,
           3,
           3,
           3,
           3,
           3,
           3,
           3,
           3,
           3,
           3,
           3,
           3,
           3,
           3,
           3,
           3,
           3,
           3,
           3,
           3,
           3,
           3,
           3,
           3,
           3,
           3,
           3,
           3,
           3,
           3,
           3,
           3,
           3,
           3,
           3,
           3,
           3,
           3,
           3,
           3,
           3,
           3,
           3,
           3,
           3,
           3,
           3,
           3,
           3,
           3,
           3,
           3,
           3,
           3,
           3,
           3,
           3,
           3,
           3,
           3,
           3,
           3,
           3,
           3,
           3,
           3,
           3,
           3,
           3,
           3,
           3,
           3,
           3,
           3,
           3,
           3,
           3,
           3,
           3,
           3,
           3,
           3,
           3,
           3,
           3,
           3,
           3,
           3,
           3,
           3,
           3,
           3,
           3,
           3,
           3,
           3,
           3,
           3,
           3,
           3,
           3,
           3,
           3,
           3,
           3,
           3,
           3,
           3,
           3,
           3,
           3,
           3,
           3,
           3,
           3,
           3,
           3,
           3,
           3,
           3,
           3,
           3,
           3,
           3,
           3,
           3,
           3,
           3,
           3,
           3,
           3,
           3,
           3,
           3,
           3,
           3,
           3,
           3,
           3,
           3,
           3,
           3,
           3,
           3,
           3,
           3,
           3,
           3,
           3,
           3,
           3,
           3,
           3,
           3,
           3,
           3,
           3,
           3,
           3
          ],
          "coloraxis": "coloraxis",
          "symbol": "diamond"
         },
         "mode": "markers",
         "name": "3",
         "scene": "scene",
         "showlegend": true,
         "type": "scatter3d",
         "x": [
          0.15340663854863715,
          0.31875184269590856,
          -0.03867703157467551,
          0.31299381017535644,
          0.31874154530383547,
          0.40011634356593534,
          0.2859728244204302,
          -0.03865573645258497,
          0.012700340454240438,
          -0.03865957333972822,
          0.28992016433614515,
          -0.054082356376553134,
          0.15335076908699563,
          -0.03870529301034009,
          -0.03865943148542353,
          0.053579453283489335,
          0.10632756727727294,
          -0.03866589508666606,
          -0.03865621205729691,
          -0.03865507189238345,
          0.012702436647510909,
          0.2846694493051909,
          0.14641866187846744,
          -0.04330361340504961,
          -0.03866069749930389,
          -0.03873675788382648,
          -0.03866067631624594,
          -0.03865382863805678,
          0.18629687807448223,
          -0.03899975092468406,
          -0.03867733185541556,
          -0.038669554329972176,
          -0.07197535986225834,
          0.1534056025218223,
          -0.03871328652381584,
          -0.03866013829858717,
          -0.03865341884299782,
          -0.03866719015210541,
          0.3701151339466318,
          -0.03865530622617899,
          -0.04003090901425975,
          0.15340768394603496,
          -0.038776204826274,
          -0.03865420833074581,
          -0.038670981582327575,
          -0.038663445335151723,
          0.15319310884396073,
          0.1533972028601409,
          0.1534041539064817,
          0.1534093950013669,
          0.15341327997289148,
          0.012704401514567785,
          -0.03866151188980628,
          0.19211869431881648,
          -0.03870285451464075,
          0.15339870596908245,
          0.2666679810646483,
          0.33172140882271833,
          -0.03867956926928721,
          -0.038856483767255,
          -0.038704743344410424,
          -0.038653167978623525,
          -0.0387093202973503,
          -0.038952843308678514,
          0.3451103072121933,
          0.29053231714585814,
          0.18623565193339706,
          -0.038656460438721896,
          -0.04056530023430869,
          0.22645715499222707,
          -0.03865323063288195,
          0.1534084289072723,
          -0.042349647641455025,
          0.01269291431414112,
          0.36172570771458085,
          0.1534063640908921,
          0.012698755786312644,
          -0.03867211976049414,
          -0.03868782160191397,
          0.31878300551577143,
          0.341774575003967,
          0.012698955425516537,
          0.1534056326219985,
          -0.03873024325827938,
          0.3342335189044107,
          -0.03867925843690216,
          0.1454217059800766,
          0.012686642346945795,
          0.3420866422100391,
          -0.03865997576418355,
          0.4123719577236127,
          -0.03865595919523544,
          0.012699319048530564,
          -0.038653229518412185,
          0.012703341103187875,
          0.3343830637135616,
          0.1534109189679082,
          0.2901778023786774,
          -0.03869932104380036,
          0.15340994474622272,
          -0.03865785119649405,
          0.33615285800050027,
          0.3187774846991519,
          0.4001169233113665,
          -0.03911912220099326,
          0.012414738665900621,
          0.012675530861855792,
          0.33438486412897295,
          -0.038653404754028335,
          0.33438195820351063,
          0.36173183722005336,
          0.008510804168893544,
          0.3129884185029216,
          -0.038654158444083354,
          0.01265466120823327,
          0.4001166554581677,
          -0.03868973265663508,
          0.3617259337488882,
          0.3584675118712654,
          -0.038834725080058696,
          -0.029743601563892604,
          -0.03866107309524772,
          0.15288116914662533,
          -0.0386603756197222,
          0.3129726084903683,
          0.3454977425225735,
          0.3525612800881001,
          0.3768649222554769,
          0.3337128293106588,
          0.012689266382109127,
          -0.03865971833529344,
          -0.03865770945143617,
          0.012693853939763723,
          0.012703178314228573,
          0.33437921879139937,
          0.3170320066424159,
          -0.10011105934599772,
          0.11778598165360092,
          0.012620471559289295,
          0.15340661613386697,
          -0.03907505813938027,
          -0.08550644754067614,
          -0.0386569857405182,
          -0.03866209634527105,
          -0.03866771692959713,
          -0.038668067427780575,
          0.3343795255804362,
          0.39756834613218456,
          0.01174693216478569,
          0.18637629548387852,
          0.4001131264554494,
          0.3420723001028869,
          -0.038689780685131576,
          0.012633327674464906,
          0.18637484840014842,
          0.31877169345150796,
          0.18637555667223848,
          0.2903693011360765,
          0.3246533506810856,
          0.3343840517946138,
          0.31821465693154755,
          0.012656383638315543,
          0.3128147186939206,
          -0.04015270177795912,
          0.08008944778564558,
          0.012702615925376705,
          0.1863753304097791,
          0.1862604317982865,
          -0.03867047600587607,
          0.012701095221608222,
          0.1534059385503769,
          0.012016369309095613,
          0.12141554570480557,
          0.27679515293259316,
          0.45708401811467964,
          0.3343286472549713,
          -0.04233112072022442,
          0.3420505346320527,
          0.19188370931085058,
          -0.03865868773639761,
          -0.044140314663091734,
          0.01261547906703109,
          0.3184448238903163,
          0.33431962120836645,
          -0.03865518010277293,
          0.2739441567396126,
          0.40009341535607407,
          0.3361351856870303,
          0.012690359855716782,
          0.3343800414452179,
          -0.0297460928608313,
          0.3617301276016708,
          0.3290326263715916,
          0.3361534866116708,
          0.3343618923874824,
          0.3222424556289364,
          0.31346342392263676,
          0.34424780752657114,
          0.3341623461596712,
          0.19261791325943492,
          0.3710475819763809,
          0.012702317401634062,
          -0.03865435512748016,
          0.31292402518267914,
          0.27547281520564887,
          0.042267032468683984,
          0.2822259376095831,
          0.1526409510758942,
          0.012702149192606956,
          0.19261424886659353,
          0.39842667905222745,
          0.33614835509731167,
          0.15340661714133286,
          0.3334496636761781,
          0.3951659671154728,
          0.395164502406647,
          0.27833549076384745,
          -0.03866938482827888,
          0.4000973544698452,
          0.400110125077587,
          0.18622948444640236,
          0.15339365119238932,
          -0.06409359370114598,
          0.1533788836105546,
          -0.04261292530227649,
          0.1849649367431097,
          0.3948817913246819,
          -0.038948804746487535,
          0.15340413702263578,
          -0.05035467069108026,
          0.10631894236875214,
          -0.03865485905949523,
          -0.03868314645302289,
          0.2905524458191385,
          0.3280213778010405,
          0.3187781164508185,
          0.3340086151054316,
          0.40011637191217647
         ],
         "y": [
          -1.3355590206465706,
          -2.0654819908036655,
          -1.1145564334792324,
          -2.300456614184288,
          -2.06556804769456,
          -1.744224889421259,
          -1.9326852794969618,
          -1.1145556080468815,
          -0.9743640532193746,
          -1.114570856644427,
          -1.9290388561501877,
          -1.276577990327568,
          -1.335553318765798,
          -1.1145968380617661,
          -1.114588227200839,
          -0.4441743201568792,
          -1.197619590065895,
          -1.1145546241444901,
          -1.1145549551741092,
          -1.11455277024669,
          -0.9743659764959862,
          -1.9287753706723394,
          -1.335975690353639,
          -1.1146062848343354,
          -1.1145487979118198,
          -1.1145774018559658,
          -1.1145540751605256,
          -1.114553568388744,
          -1.6930739603148859,
          -1.114751134702309,
          -1.1145493417880104,
          -1.1145610896015414,
          -1.1120328670465343,
          -1.3355575984703776,
          -1.1145932225568425,
          -1.1145490884322298,
          -1.114549414338663,
          -1.1145499045424418,
          -2.289355939663396,
          -1.1145509504576128,
          -1.1198144558117205,
          -1.3355604556859637,
          -1.1145410041493673,
          -1.1145577057324512,
          -1.1146439380937059,
          -1.1145594345116314,
          -1.3356795550871163,
          -1.335558478551025,
          -1.3355656291592295,
          -1.3355909537651518,
          -1.3355582375143045,
          -0.9743600857960838,
          -1.1145486341933148,
          -1.2302261126137113,
          -1.1146075427992168,
          -1.3355595819780697,
          -2.2913437416260676,
          -2.297404444409365,
          -1.1145630264184276,
          -1.115071557407236,
          -1.1145576998264268,
          -1.1145503684475253,
          -1.1145483701437262,
          -1.11461485025751,
          -2.189188523638385,
          -1.9289249586439332,
          -1.6947842389409347,
          -1.1145462034678784,
          -1.1166953536008242,
          -2.313557217015663,
          -1.1145493241620064,
          -1.3355614783102059,
          -1.1533686655274833,
          -0.9743600615808897,
          -2.308639870392165,
          -1.3355742738978196,
          -0.9743623550181657,
          -1.1146234059421758,
          -1.114620821438226,
          -2.0655328348237845,
          -2.1179314963684246,
          -0.9743602435352353,
          -1.3355576397895337,
          -1.114543504066641,
          -2.322838721828766,
          -1.1145533766177824,
          -1.3349059498329197,
          -0.9743757843430105,
          -2.2895625846166467,
          -1.1146200908995925,
          -2.07366314368248,
          -1.114554825176887,
          -0.9743650366458257,
          -1.1145493242462303,
          -0.9743705578063775,
          -2.2962918622550865,
          -1.335559522343405,
          -1.9290108362975027,
          -1.1145811805887096,
          -1.335558615500576,
          -1.114556999050127,
          -2.152505500419092,
          -2.0655296929606455,
          -1.7442256852502265,
          -1.1186805531540107,
          -0.9742010125952264,
          -0.9744292346893785,
          -2.2962995818941434,
          -1.114550084588459,
          -2.2962975012935885,
          -2.3086216671591075,
          -1.016314083728102,
          -2.300537477601875,
          -1.114549358056256,
          -0.9747689126005495,
          -1.7442234091368527,
          -1.1145466321342807,
          -2.3086188115085733,
          -2.2047472502290657,
          -1.1162083128433538,
          -0.6037942384868836,
          -1.114555210098822,
          -1.3360204442825976,
          -1.1145735721886048,
          -2.300477606348061,
          -2.28832757222354,
          -2.1329009883030037,
          -2.2020496021492955,
          -2.2963212588507953,
          -0.9743870201144764,
          -1.1145493198814957,
          -1.1145786634140658,
          -0.9743742332975793,
          -0.97436742399352,
          -2.2963075769291796,
          -2.2324968840332,
          -1.125605828751699,
          -1.1987968219749725,
          -0.9747696903761504,
          -1.3355589898773352,
          -1.1189795940289529,
          -1.050232614492894,
          -1.1145534160161965,
          -1.1145769353884547,
          -1.1145768535942067,
          -1.1145763724578448,
          -2.2963246437763964,
          -1.7507364136989558,
          -0.9739045386159485,
          -1.693035552419412,
          -1.7442204732248072,
          -2.2896031586480827,
          -1.1145465662045355,
          -0.9744295084496973,
          -1.693042153891574,
          -2.0656428301495926,
          -1.6930368283475161,
          -1.9290160732927777,
          -2.323484948754884,
          -2.296294411381076,
          -2.069515648282772,
          -0.9745565791425809,
          -2.30068763048888,
          -1.11487620439603,
          -1.3445379337245549,
          -0.97436708138605,
          -1.6930313650032018,
          -1.6931021751787727,
          -1.1145558903211485,
          -0.9743665206238661,
          -1.3355576618372418,
          -1.2688045839262987,
          -0.16528769554609088,
          -2.6943413209931797,
          -2.1556489885921755,
          -2.2963727002996728,
          -1.1142713740084844,
          -2.2895464164183417,
          -1.2303882837518312,
          -1.1145606217777693,
          -1.1157988785289472,
          -0.9744765732422906,
          -2.0681617310374234,
          -2.2966771086938933,
          -1.1145563717601816,
          -2.3203378377452584,
          -1.7442167935896382,
          -2.1526141630956883,
          -0.974388521149112,
          -2.296291721216277,
          -0.6037778165269428,
          -2.30862708762182,
          -2.4363212331095365,
          -2.152501162867476,
          -2.296544292938532,
          -2.25826184251083,
          -2.3553578291022865,
          -2.465548779572898,
          -2.296461213866835,
          -1.1985488650269078,
          -2.18371508771027,
          -0.9743672441237818,
          -1.1145580315494685,
          -2.3011957550096365,
          -2.1719633191491816,
          -0.5658327925469476,
          -2.291270560802533,
          -1.3354998492379189,
          -0.974368921645201,
          -1.198581013017704,
          -1.7455214400777552,
          -2.152529186047357,
          -1.3355589912603054,
          -2.298860812588579,
          -2.1367712664516407,
          -2.136731139211916,
          -2.4543315321451624,
          -1.1145841061617323,
          -1.744314187007076,
          -1.7442210698429,
          -1.6948234833382785,
          -1.335561708199239,
          -0.4175781635051904,
          -1.3355910554877952,
          -1.1559176076120714,
          -1.6929936937344279,
          -2.13967076355078,
          -1.114620394078307,
          -1.335565605982413,
          -1.1223415306782707,
          -1.197617769703433,
          -1.114549178760954,
          -1.1145947958808295,
          -1.9289539256026447,
          -2.3465839319139348,
          -2.065529740704139,
          -2.2964411327207293,
          -1.7442249283327513
         ],
         "z": [
          -0.1488717210182493,
          -0.14712266485939565,
          -0.16863925811892785,
          -0.15834000663549772,
          -0.14555830109830167,
          -0.16107217777217972,
          0.17219725907717587,
          -0.16978980318914008,
          -0.22837819742354282,
          -0.16940480810171613,
          -0.0821820232140604,
          2.563312183903184,
          -0.14594575715390012,
          -0.16664974788048095,
          -0.1692079929059424,
          -0.22364693617109566,
          -0.2041473730738353,
          -0.16925715890466594,
          -0.16977200681850343,
          -0.16985880019598276,
          -0.22846786270062838,
          0.19601088403446137,
          0.2303945037773989,
          0.07980462692809374,
          -0.16960416872429845,
          -0.16519282108396116,
          -0.16954320150678256,
          -0.16991601191142772,
          -0.1749481805952568,
          -0.14905917649442257,
          -0.1687066255425789,
          -0.16898503959951472,
          1.585536132556817,
          -0.14883295454525963,
          -0.1662640627629915,
          -0.16963070765642455,
          -0.16998685000474392,
          -0.1692433188243992,
          -0.1341282991392169,
          -0.16986766142965953,
          -0.03423295942838248,
          -0.14891083812341055,
          -0.16350787639870834,
          -0.16984698307393017,
          -0.16793362685562827,
          -0.1693317902130801,
          -0.13601398025508307,
          -0.1483726075555642,
          -0.14866084449155034,
          -0.14864360569043944,
          -0.14923673407580657,
          -0.22864244647462797,
          -0.16956246646476442,
          -0.19588494029491788,
          -0.16665441192722927,
          -0.14844014775662534,
          3.8746501647595144,
          0.460901476376135,
          -0.16842572271031936,
          -0.15296364962338457,
          -0.1671397689961905,
          -0.16998906157788077,
          -0.16700436111105804,
          -0.1531759109633798,
          -0.11837312625532745,
          -0.11631687046730105,
          -0.18499245823122615,
          -0.16986168947667735,
          -0.0423095521215985,
          -0.10225936955138921,
          -0.1699979940667106,
          -0.1489387133861202,
          0.48484952261347136,
          -0.22802733417338936,
          -0.1454733041534766,
          -0.14867751917293842,
          -0.22831328714203236,
          -0.16811427184065536,
          -0.16730350015031323,
          -0.14819380642384095,
          0.3737076409854683,
          -0.22834882998381661,
          -0.1488340808459001,
          -0.1659407306370271,
          -0.14545221295412294,
          -0.16855593248227194,
          0.2712152744610773,
          -0.22750630601241187,
          -0.14782097891793244,
          -0.16880386628958152,
          -0.17265718883007253,
          -0.16978708304616988,
          -0.22831190538825133,
          -0.16999805278042512,
          -0.22846240426604345,
          0.30521741429795346,
          -0.14909512957851462,
          -0.09631405405638266,
          -0.16715393596269243,
          -0.14905360977392634,
          -0.1696601420515662,
          -0.15312695320873135,
          -0.14793501592922825,
          -0.16109387092260996,
          -0.09642323024115065,
          -0.21499645805397405,
          -0.22628203931040639,
          0.30521180547528004,
          -0.1699797173639127,
          0.30534299870534115,
          -0.14601589018534336,
          0.4897285017529648,
          -0.15709957039216235,
          -0.1699478901007282,
          -0.2211667112890496,
          -0.16110630641128335,
          -0.16807417135160369,
          -0.14573323183967707,
          -0.1424395252787209,
          -0.14075211041624072,
          -0.20032219914154226,
          -0.169508589269612,
          -0.11529106788077852,
          -0.16932987180514258,
          -0.15695714748220077,
          -0.15131408544881733,
          -0.028003152811393095,
          -0.15894901676313178,
          0.34146943691769954,
          -0.2275146607132917,
          -0.169650482443497,
          -0.16941279197847597,
          -0.22791090109887158,
          -0.22849056160872105,
          0.30560832457515036,
          -0.13928588722878038,
          3.2525590032780496,
          -0.12178336614807544,
          -0.2193259358763313,
          -0.14887088229319476,
          -0.09526477114724735,
          1.5831712633030302,
          -0.1697486713570671,
          -0.16919811061041265,
          -0.16889796478440536,
          -0.16888484970075032,
          0.30579272980194633,
          0.052057097268883135,
          -0.18270931084384945,
          -0.17965474397446365,
          -0.16095179862291606,
          -0.14657516690329678,
          -0.16807237420177498,
          -0.22401789034766761,
          -0.1794995348276623,
          -0.14629337950422108,
          -0.17960014906549956,
          -0.10651147985223214,
          1.1464668642437552,
          0.30519447820949325,
          -0.07087670770881796,
          -0.22375770135217524,
          -0.14602706759033168,
          -0.08582098987450641,
          1.0988739589839378,
          -0.22846446483487282,
          -0.17965231963207767,
          -0.17266363572733398,
          -0.16899684770336004,
          -0.22838959601954006,
          -0.14885021071827267,
          -0.20360347380692514,
          -0.2590808340094193,
          8.074541311030279,
          -0.15368480359733613,
          0.3090839289734402,
          0.02376463735608909,
          -0.14607687362077312,
          -0.1813878109705619,
          -0.1695726947394238,
          0.1386630512020186,
          -0.2225078440673993,
          -0.09914005120109871,
          0.3131497186144735,
          -0.1698106209127963,
          -0.15626799532760488,
          -0.15993912860980078,
          -0.1509014747315635,
          -0.22755557675369142,
          0.3053776648348048,
          -0.2003819860094589,
          -0.1458605143998073,
          -0.132302889522457,
          -0.1532116732378755,
          0.30932218847667636,
          0.5847337713605063,
          2.121014781174237,
          -0.147994017264447,
          0.3190347003838566,
          -0.1993649735778607,
          -0.15810529558547065,
          -0.2284465571133968,
          -0.1698352846393278,
          -0.14590333209748113,
          -0.15001682796510432,
          -0.12149888207807029,
          3.116958694174074,
          -0.1085483032275072,
          -0.22841780487092608,
          -0.19879034934679443,
          -0.055295084186765965,
          -0.15260699203151865,
          -0.1488709199909634,
          0.3854530312663527,
          -0.16016777819702227,
          -0.16056152284621886,
          -0.13766306018749264,
          -0.16872326402956636,
          -0.1590040421706986,
          -0.1607839865798115,
          -0.1842002274769196,
          -0.14814432995436375,
          -0.11111354543855212,
          -0.14700783922318597,
          0.5289495994525837,
          -0.10453741202758143,
          -0.11082284730921851,
          -0.1533270275267911,
          -0.1486602127249351,
          0.5485743815808636,
          -0.2037067375617822,
          -0.1699124663554088,
          -0.16786022496099487,
          -0.11705433266468018,
          -0.12592388155862297,
          -0.14796829856253144,
          0.32703413424285716,
          -0.16107323844334662
         ]
        },
        {
         "customdata": [
          [
           "VeChainThor Authority"
          ],
          [
           "Proof-of-BibleHash"
          ],
          [
           "SHA-256 + Hive"
          ],
          [
           "Proof-of-Authority"
          ]
         ],
         "hovertemplate": "<b>%{hovertext}</b><br><br>Class=%{marker.color}<br>PC3=%{x}<br>PC2=%{y}<br>PC1=%{z}<br>Algorithm=%{customdata[0]}<extra></extra>",
         "hovertext": [
          "Vechain",
          "BiblePay",
          "LitecoinCash",
          "Poa Network"
         ],
         "legendgroup": "2",
         "marker": {
          "color": [
           2,
           2,
           2,
           2
          ],
          "coloraxis": "coloraxis",
          "symbol": "square"
         },
         "mode": "markers",
         "name": "2",
         "scene": "scene",
         "showlegend": true,
         "type": "scatter3d",
         "x": [
          12.87172260044335,
          11.991679269366786,
          20.997005760968495,
          13.135977654049467
         ],
         "y": [
          2.928404032950195,
          2.222671151054435,
          1.9746154216754062,
          3.2484451153252567
         ],
         "z": [
          4.370065413279098,
          -0.2030482555906873,
          -0.35470275484814173,
          -0.4202974019741649
         ]
        },
        {
         "customdata": [
          [
           "TRC10"
          ]
         ],
         "hovertemplate": "<b>%{hovertext}</b><br><br>Class=%{marker.color}<br>PC3=%{x}<br>PC2=%{y}<br>PC1=%{z}<br>Algorithm=%{customdata[0]}<extra></extra>",
         "hovertext": [
          "BitTorrent"
         ],
         "legendgroup": "1",
         "marker": {
          "color": [
           1
          ],
          "coloraxis": "coloraxis",
          "symbol": "x"
         },
         "mode": "markers",
         "name": "1",
         "scene": "scene",
         "showlegend": true,
         "type": "scatter3d",
         "x": [
          -1.3497360469760449
         ],
         "y": [
          1.7628071099757667
         ],
         "z": [
          34.12199352660796
         ]
        }
       ],
       "layout": {
        "coloraxis": {
         "colorbar": {
          "title": {
           "text": "Class"
          }
         },
         "colorscale": [
          [
           0,
           "#0d0887"
          ],
          [
           0.1111111111111111,
           "#46039f"
          ],
          [
           0.2222222222222222,
           "#7201a8"
          ],
          [
           0.3333333333333333,
           "#9c179e"
          ],
          [
           0.4444444444444444,
           "#bd3786"
          ],
          [
           0.5555555555555556,
           "#d8576b"
          ],
          [
           0.6666666666666666,
           "#ed7953"
          ],
          [
           0.7777777777777778,
           "#fb9f3a"
          ],
          [
           0.8888888888888888,
           "#fdca26"
          ],
          [
           1,
           "#f0f921"
          ]
         ]
        },
        "legend": {
         "title": {
          "text": "Class"
         },
         "tracegroupgap": 0,
         "x": 0,
         "y": 1
        },
        "margin": {
         "t": 60
        },
        "scene": {
         "domain": {
          "x": [
           0,
           1
          ],
          "y": [
           0,
           1
          ]
         },
         "xaxis": {
          "title": {
           "text": "PC3"
          }
         },
         "yaxis": {
          "title": {
           "text": "PC2"
          }
         },
         "zaxis": {
          "title": {
           "text": "PC1"
          }
         }
        },
        "template": {
         "data": {
          "bar": [
           {
            "error_x": {
             "color": "#2a3f5f"
            },
            "error_y": {
             "color": "#2a3f5f"
            },
            "marker": {
             "line": {
              "color": "#E5ECF6",
              "width": 0.5
             },
             "pattern": {
              "fillmode": "overlay",
              "size": 10,
              "solidity": 0.2
             }
            },
            "type": "bar"
           }
          ],
          "barpolar": [
           {
            "marker": {
             "line": {
              "color": "#E5ECF6",
              "width": 0.5
             },
             "pattern": {
              "fillmode": "overlay",
              "size": 10,
              "solidity": 0.2
             }
            },
            "type": "barpolar"
           }
          ],
          "carpet": [
           {
            "aaxis": {
             "endlinecolor": "#2a3f5f",
             "gridcolor": "white",
             "linecolor": "white",
             "minorgridcolor": "white",
             "startlinecolor": "#2a3f5f"
            },
            "baxis": {
             "endlinecolor": "#2a3f5f",
             "gridcolor": "white",
             "linecolor": "white",
             "minorgridcolor": "white",
             "startlinecolor": "#2a3f5f"
            },
            "type": "carpet"
           }
          ],
          "choropleth": [
           {
            "colorbar": {
             "outlinewidth": 0,
             "ticks": ""
            },
            "type": "choropleth"
           }
          ],
          "contour": [
           {
            "colorbar": {
             "outlinewidth": 0,
             "ticks": ""
            },
            "colorscale": [
             [
              0,
              "#0d0887"
             ],
             [
              0.1111111111111111,
              "#46039f"
             ],
             [
              0.2222222222222222,
              "#7201a8"
             ],
             [
              0.3333333333333333,
              "#9c179e"
             ],
             [
              0.4444444444444444,
              "#bd3786"
             ],
             [
              0.5555555555555556,
              "#d8576b"
             ],
             [
              0.6666666666666666,
              "#ed7953"
             ],
             [
              0.7777777777777778,
              "#fb9f3a"
             ],
             [
              0.8888888888888888,
              "#fdca26"
             ],
             [
              1,
              "#f0f921"
             ]
            ],
            "type": "contour"
           }
          ],
          "contourcarpet": [
           {
            "colorbar": {
             "outlinewidth": 0,
             "ticks": ""
            },
            "type": "contourcarpet"
           }
          ],
          "heatmap": [
           {
            "colorbar": {
             "outlinewidth": 0,
             "ticks": ""
            },
            "colorscale": [
             [
              0,
              "#0d0887"
             ],
             [
              0.1111111111111111,
              "#46039f"
             ],
             [
              0.2222222222222222,
              "#7201a8"
             ],
             [
              0.3333333333333333,
              "#9c179e"
             ],
             [
              0.4444444444444444,
              "#bd3786"
             ],
             [
              0.5555555555555556,
              "#d8576b"
             ],
             [
              0.6666666666666666,
              "#ed7953"
             ],
             [
              0.7777777777777778,
              "#fb9f3a"
             ],
             [
              0.8888888888888888,
              "#fdca26"
             ],
             [
              1,
              "#f0f921"
             ]
            ],
            "type": "heatmap"
           }
          ],
          "heatmapgl": [
           {
            "colorbar": {
             "outlinewidth": 0,
             "ticks": ""
            },
            "colorscale": [
             [
              0,
              "#0d0887"
             ],
             [
              0.1111111111111111,
              "#46039f"
             ],
             [
              0.2222222222222222,
              "#7201a8"
             ],
             [
              0.3333333333333333,
              "#9c179e"
             ],
             [
              0.4444444444444444,
              "#bd3786"
             ],
             [
              0.5555555555555556,
              "#d8576b"
             ],
             [
              0.6666666666666666,
              "#ed7953"
             ],
             [
              0.7777777777777778,
              "#fb9f3a"
             ],
             [
              0.8888888888888888,
              "#fdca26"
             ],
             [
              1,
              "#f0f921"
             ]
            ],
            "type": "heatmapgl"
           }
          ],
          "histogram": [
           {
            "marker": {
             "pattern": {
              "fillmode": "overlay",
              "size": 10,
              "solidity": 0.2
             }
            },
            "type": "histogram"
           }
          ],
          "histogram2d": [
           {
            "colorbar": {
             "outlinewidth": 0,
             "ticks": ""
            },
            "colorscale": [
             [
              0,
              "#0d0887"
             ],
             [
              0.1111111111111111,
              "#46039f"
             ],
             [
              0.2222222222222222,
              "#7201a8"
             ],
             [
              0.3333333333333333,
              "#9c179e"
             ],
             [
              0.4444444444444444,
              "#bd3786"
             ],
             [
              0.5555555555555556,
              "#d8576b"
             ],
             [
              0.6666666666666666,
              "#ed7953"
             ],
             [
              0.7777777777777778,
              "#fb9f3a"
             ],
             [
              0.8888888888888888,
              "#fdca26"
             ],
             [
              1,
              "#f0f921"
             ]
            ],
            "type": "histogram2d"
           }
          ],
          "histogram2dcontour": [
           {
            "colorbar": {
             "outlinewidth": 0,
             "ticks": ""
            },
            "colorscale": [
             [
              0,
              "#0d0887"
             ],
             [
              0.1111111111111111,
              "#46039f"
             ],
             [
              0.2222222222222222,
              "#7201a8"
             ],
             [
              0.3333333333333333,
              "#9c179e"
             ],
             [
              0.4444444444444444,
              "#bd3786"
             ],
             [
              0.5555555555555556,
              "#d8576b"
             ],
             [
              0.6666666666666666,
              "#ed7953"
             ],
             [
              0.7777777777777778,
              "#fb9f3a"
             ],
             [
              0.8888888888888888,
              "#fdca26"
             ],
             [
              1,
              "#f0f921"
             ]
            ],
            "type": "histogram2dcontour"
           }
          ],
          "mesh3d": [
           {
            "colorbar": {
             "outlinewidth": 0,
             "ticks": ""
            },
            "type": "mesh3d"
           }
          ],
          "parcoords": [
           {
            "line": {
             "colorbar": {
              "outlinewidth": 0,
              "ticks": ""
             }
            },
            "type": "parcoords"
           }
          ],
          "pie": [
           {
            "automargin": true,
            "type": "pie"
           }
          ],
          "scatter": [
           {
            "marker": {
             "colorbar": {
              "outlinewidth": 0,
              "ticks": ""
             }
            },
            "type": "scatter"
           }
          ],
          "scatter3d": [
           {
            "line": {
             "colorbar": {
              "outlinewidth": 0,
              "ticks": ""
             }
            },
            "marker": {
             "colorbar": {
              "outlinewidth": 0,
              "ticks": ""
             }
            },
            "type": "scatter3d"
           }
          ],
          "scattercarpet": [
           {
            "marker": {
             "colorbar": {
              "outlinewidth": 0,
              "ticks": ""
             }
            },
            "type": "scattercarpet"
           }
          ],
          "scattergeo": [
           {
            "marker": {
             "colorbar": {
              "outlinewidth": 0,
              "ticks": ""
             }
            },
            "type": "scattergeo"
           }
          ],
          "scattergl": [
           {
            "marker": {
             "colorbar": {
              "outlinewidth": 0,
              "ticks": ""
             }
            },
            "type": "scattergl"
           }
          ],
          "scattermapbox": [
           {
            "marker": {
             "colorbar": {
              "outlinewidth": 0,
              "ticks": ""
             }
            },
            "type": "scattermapbox"
           }
          ],
          "scatterpolar": [
           {
            "marker": {
             "colorbar": {
              "outlinewidth": 0,
              "ticks": ""
             }
            },
            "type": "scatterpolar"
           }
          ],
          "scatterpolargl": [
           {
            "marker": {
             "colorbar": {
              "outlinewidth": 0,
              "ticks": ""
             }
            },
            "type": "scatterpolargl"
           }
          ],
          "scatterternary": [
           {
            "marker": {
             "colorbar": {
              "outlinewidth": 0,
              "ticks": ""
             }
            },
            "type": "scatterternary"
           }
          ],
          "surface": [
           {
            "colorbar": {
             "outlinewidth": 0,
             "ticks": ""
            },
            "colorscale": [
             [
              0,
              "#0d0887"
             ],
             [
              0.1111111111111111,
              "#46039f"
             ],
             [
              0.2222222222222222,
              "#7201a8"
             ],
             [
              0.3333333333333333,
              "#9c179e"
             ],
             [
              0.4444444444444444,
              "#bd3786"
             ],
             [
              0.5555555555555556,
              "#d8576b"
             ],
             [
              0.6666666666666666,
              "#ed7953"
             ],
             [
              0.7777777777777778,
              "#fb9f3a"
             ],
             [
              0.8888888888888888,
              "#fdca26"
             ],
             [
              1,
              "#f0f921"
             ]
            ],
            "type": "surface"
           }
          ],
          "table": [
           {
            "cells": {
             "fill": {
              "color": "#EBF0F8"
             },
             "line": {
              "color": "white"
             }
            },
            "header": {
             "fill": {
              "color": "#C8D4E3"
             },
             "line": {
              "color": "white"
             }
            },
            "type": "table"
           }
          ]
         },
         "layout": {
          "annotationdefaults": {
           "arrowcolor": "#2a3f5f",
           "arrowhead": 0,
           "arrowwidth": 1
          },
          "autotypenumbers": "strict",
          "coloraxis": {
           "colorbar": {
            "outlinewidth": 0,
            "ticks": ""
           }
          },
          "colorscale": {
           "diverging": [
            [
             0,
             "#8e0152"
            ],
            [
             0.1,
             "#c51b7d"
            ],
            [
             0.2,
             "#de77ae"
            ],
            [
             0.3,
             "#f1b6da"
            ],
            [
             0.4,
             "#fde0ef"
            ],
            [
             0.5,
             "#f7f7f7"
            ],
            [
             0.6,
             "#e6f5d0"
            ],
            [
             0.7,
             "#b8e186"
            ],
            [
             0.8,
             "#7fbc41"
            ],
            [
             0.9,
             "#4d9221"
            ],
            [
             1,
             "#276419"
            ]
           ],
           "sequential": [
            [
             0,
             "#0d0887"
            ],
            [
             0.1111111111111111,
             "#46039f"
            ],
            [
             0.2222222222222222,
             "#7201a8"
            ],
            [
             0.3333333333333333,
             "#9c179e"
            ],
            [
             0.4444444444444444,
             "#bd3786"
            ],
            [
             0.5555555555555556,
             "#d8576b"
            ],
            [
             0.6666666666666666,
             "#ed7953"
            ],
            [
             0.7777777777777778,
             "#fb9f3a"
            ],
            [
             0.8888888888888888,
             "#fdca26"
            ],
            [
             1,
             "#f0f921"
            ]
           ],
           "sequentialminus": [
            [
             0,
             "#0d0887"
            ],
            [
             0.1111111111111111,
             "#46039f"
            ],
            [
             0.2222222222222222,
             "#7201a8"
            ],
            [
             0.3333333333333333,
             "#9c179e"
            ],
            [
             0.4444444444444444,
             "#bd3786"
            ],
            [
             0.5555555555555556,
             "#d8576b"
            ],
            [
             0.6666666666666666,
             "#ed7953"
            ],
            [
             0.7777777777777778,
             "#fb9f3a"
            ],
            [
             0.8888888888888888,
             "#fdca26"
            ],
            [
             1,
             "#f0f921"
            ]
           ]
          },
          "colorway": [
           "#636efa",
           "#EF553B",
           "#00cc96",
           "#ab63fa",
           "#FFA15A",
           "#19d3f3",
           "#FF6692",
           "#B6E880",
           "#FF97FF",
           "#FECB52"
          ],
          "font": {
           "color": "#2a3f5f"
          },
          "geo": {
           "bgcolor": "white",
           "lakecolor": "white",
           "landcolor": "#E5ECF6",
           "showlakes": true,
           "showland": true,
           "subunitcolor": "white"
          },
          "hoverlabel": {
           "align": "left"
          },
          "hovermode": "closest",
          "mapbox": {
           "style": "light"
          },
          "paper_bgcolor": "white",
          "plot_bgcolor": "#E5ECF6",
          "polar": {
           "angularaxis": {
            "gridcolor": "white",
            "linecolor": "white",
            "ticks": ""
           },
           "bgcolor": "#E5ECF6",
           "radialaxis": {
            "gridcolor": "white",
            "linecolor": "white",
            "ticks": ""
           }
          },
          "scene": {
           "xaxis": {
            "backgroundcolor": "#E5ECF6",
            "gridcolor": "white",
            "gridwidth": 2,
            "linecolor": "white",
            "showbackground": true,
            "ticks": "",
            "zerolinecolor": "white"
           },
           "yaxis": {
            "backgroundcolor": "#E5ECF6",
            "gridcolor": "white",
            "gridwidth": 2,
            "linecolor": "white",
            "showbackground": true,
            "ticks": "",
            "zerolinecolor": "white"
           },
           "zaxis": {
            "backgroundcolor": "#E5ECF6",
            "gridcolor": "white",
            "gridwidth": 2,
            "linecolor": "white",
            "showbackground": true,
            "ticks": "",
            "zerolinecolor": "white"
           }
          },
          "shapedefaults": {
           "line": {
            "color": "#2a3f5f"
           }
          },
          "ternary": {
           "aaxis": {
            "gridcolor": "white",
            "linecolor": "white",
            "ticks": ""
           },
           "baxis": {
            "gridcolor": "white",
            "linecolor": "white",
            "ticks": ""
           },
           "bgcolor": "#E5ECF6",
           "caxis": {
            "gridcolor": "white",
            "linecolor": "white",
            "ticks": ""
           }
          },
          "title": {
           "x": 0.05
          },
          "xaxis": {
           "automargin": true,
           "gridcolor": "white",
           "linecolor": "white",
           "ticks": "",
           "title": {
            "standoff": 15
           },
           "zerolinecolor": "white",
           "zerolinewidth": 2
          },
          "yaxis": {
           "automargin": true,
           "gridcolor": "white",
           "linecolor": "white",
           "ticks": "",
           "title": {
            "standoff": 15
           },
           "zerolinecolor": "white",
           "zerolinewidth": 2
          }
         }
        },
        "width": 800
       }
      },
      "text/html": [
       "<div>                            <div id=\"e624bb5c-1f51-4dcb-90ca-d8e1d54ac407\" class=\"plotly-graph-div\" style=\"height:525px; width:800px;\"></div>            <script type=\"text/javascript\">                require([\"plotly\"], function(Plotly) {                    window.PLOTLYENV=window.PLOTLYENV || {};                                    if (document.getElementById(\"e624bb5c-1f51-4dcb-90ca-d8e1d54ac407\")) {                    Plotly.newPlot(                        \"e624bb5c-1f51-4dcb-90ca-d8e1d54ac407\",                        [{\"customdata\":[[\"Scrypt\"],[\"Scrypt\"],[\"X13\"],[\"X11\"],[\"SHA-512\"],[\"SHA-256\"],[\"SHA-256\"],[\"X15\"],[\"Scrypt\"],[\"Scrypt\"],[\"Scrypt\"],[\"Scrypt\"],[\"Scrypt\"],[\"Scrypt\"],[\"Groestl\"],[\"PoS\"],[\"Scrypt\"],[\"Scrypt\"],[\"X11\"],[\"X11\"],[\"SHA3\"],[\"Scrypt\"],[\"SHA-256\"],[\"Scrypt\"],[\"X13\"],[\"X13\"],[\"NeoScrypt\"],[\"Scrypt\"],[\"Scrypt\"],[\"Scrypt\"],[\"X11\"],[\"X11\"],[\"Multiple\"],[\"PHI1612\"],[\"X11\"],[\"Scrypt\"],[\"Scrypt\"],[\"Scrypt\"],[\"X11\"],[\"Multiple\"],[\"X13\"],[\"Scrypt\"],[\"Shabal256\"],[\"Counterparty\"],[\"SHA-256\"],[\"Groestl\"],[\"Scrypt\"],[\"X13\"],[\"Scrypt\"],[\"Scrypt\"],[\"X13\"],[\"X11\"],[\"Scrypt\"],[\"X11\"],[\"SHA3\"],[\"QUAIT\"],[\"X11\"],[\"Scrypt\"],[\"X13\"],[\"SHA-256\"],[\"X15\"],[\"BLAKE256\"],[\"SHA-256\"],[\"X11\"],[\"SHA-256\"],[\"NIST5\"],[\"Scrypt\"],[\"Scrypt\"],[\"X11\"],[\"Scrypt\"],[\"SHA-256\"],[\"Scrypt\"],[\"PoS\"],[\"X11\"],[\"SHA-256\"],[\"SHA-256\"],[\"NIST5\"],[\"X11\"],[\"POS 3.0\"],[\"Scrypt\"],[\"Scrypt\"],[\"Scrypt\"],[\"X13\"],[\"X11\"],[\"Equihash\"],[\"X11\"],[\"Scrypt\"],[\"SHA-256\"],[\"X11\"],[\"Scrypt\"],[\"Scrypt\"],[\"Scrypt\"],[\"Scrypt\"],[\"SHA-256D\"],[\"PoS\"],[\"Scrypt\"],[\"X11\"],[\"PoS\"],[\"X13\"],[\"X14\"],[\"PoS\"],[\"SHA-256D\"],[\"DPoS\"],[\"X11\"],[\"X13\"],[\"X11\"],[\"PoS\"],[\"Scrypt\"],[\"Scrypt\"],[\"PoS\"],[\"X11\"],[\"SHA-256\"],[\"Scrypt\"],[\"X11\"],[\"Scrypt\"],[\"Scrypt\"],[\"X11\"],[\"Scrypt\"],[\"Scrypt\"],[\"Scrypt\"],[\"Scrypt\"],[\"Quark\"],[\"QuBit\"],[\"Scrypt\"],[\"SHA-256\"],[\"X11\"],[\"Scrypt\"],[\"Scrypt\"],[\"Scrypt\"],[\"Scrypt\"],[\"X13\"],[\"Scrypt\"],[\"Scrypt\"],[\"X11\"],[\"Blake2S\"],[\"X11\"],[\"PoS\"],[\"X11\"],[\"PoS\"],[\"X11\"],[\"Scrypt\"],[\"Scrypt\"],[\"Scrypt\"],[\"SHA-256\"],[\"X11\"],[\"Scrypt\"],[\"PoS\"],[\"Scrypt\"],[\"X15\"],[\"SHA-256\"],[\"POS 3.0\"],[\"536\"],[\"NIST5\"],[\"NIST5\"],[\"Skein\"],[\"X13\"],[\"Scrypt\"],[\"X13\"],[\"SkunkHash v2 Raptor\"],[\"Skein\"],[\"X11\"],[\"Scrypt\"],[\"PoS\"],[\"Scrypt\"],[\"Scrypt\"],[\"SHA-512\"],[\"Ouroboros\"],[\"X11\"],[\"NeoScrypt\"],[\"Scrypt\"],[\"Lyra2REv2\"],[\"Scrypt\"],[\"SHA-256\"],[\"NIST5\"],[\"PHI1612\"],[\"Scrypt\"],[\"Quark\"],[\"POS 2.0\"],[\"Scrypt\"],[\"SHA-256\"],[\"X11\"],[\"DPoS\"],[\"NIST5\"],[\"X13\"],[\"Scrypt\"],[\"NIST5\"],[\"Quark\"],[\"Scrypt\"],[\"Scrypt\"],[\"X11\"],[\"Quark\"],[\"Scrypt\"],[\"Scrypt\"],[\"X11\"],[\"POS 3.0\"],[\"Scrypt\"],[\"Scrypt\"],[\"X13\"],[\"C11\"],[\"X11\"],[\"XEVAN\"],[\"Scrypt\"],[\"VBFT\"],[\"NIST5\"],[\"Scrypt\"],[\"Scrypt\"],[\"Scrypt\"],[\"Green Protocol\"],[\"PoS\"],[\"Scrypt\"],[\"Semux BFT consensus\"],[\"Quark\"],[\"PoS\"],[\"X16R\"],[\"Scrypt\"],[\"XEVAN\"],[\"Scrypt\"],[\"Scrypt\"],[\"Scrypt\"],[\"SHA-256D\"],[\"Scrypt\"],[\"X15\"],[\"Scrypt\"],[\"Quark\"],[\"SHA-256\"],[\"DPoS\"],[\"X16R\"],[\"Quark\"],[\"Quark\"],[\"Scrypt\"],[\"Lyra2REv2\"],[\"Quark\"],[\"Scrypt\"],[\"X11\"],[\"X11\"],[\"Scrypt\"],[\"PoS\"],[\"Keccak\"],[\"X11\"],[\"Scrypt\"],[\"SHA-512\"],[\"ECC 256K1\"],[\"XEVAN\"],[\"XEVAN\"],[\"X11\"],[\"Quark\"],[\"Equihash\"],[\"Scrypt\"],[\"Quark\"],[\"Quark\"],[\"Scrypt\"],[\"X11\"],[\"Scrypt\"],[\"XEVAN\"],[\"SHA-256D\"],[\"X11\"],[\"X11\"],[\"DPoS\"],[\"Scrypt\"],[\"X11\"],[\"Scrypt\"],[\"Scrypt\"],[\"SHA-256\"],[\"Scrypt\"],[\"X11\"],[\"Scrypt\"],[\"SHA-256\"],[\"X11\"],[\"Scrypt\"],[\"Scrypt\"],[\"X11\"],[\"Scrypt\"],[\"PoS\"],[\"X11\"],[\"SHA-256\"],[\"DPoS\"],[\"Scrypt\"],[\"Scrypt\"],[\"NeoScrypt\"],[\"X13\"],[\"DPoS\"],[\"DPoS\"],[\"SHA-256\"],[\"Leased POS\"],[\"PoS\"],[\"PoS\"],[\"SHA-256\"],[\"Scrypt\"],[\"Scrypt\"]],\"hovertemplate\":\"<b>%{hovertext}</b><br><br>Class=%{marker.color}<br>PC3=%{x}<br>PC2=%{y}<br>PC1=%{z}<br>Algorithm=%{customdata[0]}<extra></extra>\",\"hovertext\":[\"42 Coin\",\"404Coin\",\"EliteCoin\",\"Dash\",\"Bitshares\",\"BitcoinDark\",\"PayCoin\",\"KoboCoin\",\"Aurora Coin\",\"BlueCoin\",\"EnergyCoin\",\"BitBar\",\"CryptoBullion\",\"CasinoCoin\",\"Diamond\",\"Exclusive Coin\",\"FlutterCoin\",\"HoboNickels\",\"HyperStake\",\"IOCoin\",\"MaxCoin\",\"MintCoin\",\"MazaCoin\",\"Nautilus Coin\",\"NavCoin\",\"OpalCoin\",\"Orbitcoin\",\"PotCoin\",\"PhoenixCoin\",\"Reddcoin\",\"SuperCoin\",\"SyncCoin\",\"TeslaCoin\",\"TittieCoin\",\"TorCoin\",\"UnitaryStatus Dollar\",\"UltraCoin\",\"VeriCoin\",\"X11 Coin\",\"Crypti\",\"StealthCoin\",\"ZCC Coin\",\"BurstCoin\",\"StorjCoin\",\"Neutron\",\"FairCoin\",\"RubyCoin\",\"Kore\",\"Dnotes\",\"8BIT Coin\",\"Sativa Coin\",\"Ucoin\",\"Vtorrent\",\"IslaCoin\",\"Nexus\",\"Droidz\",\"Squall Coin\",\"Diggits\",\"Paycon\",\"Emercoin\",\"EverGreenCoin\",\"Decred\",\"EDRCoin\",\"Hitcoin\",\"DubaiCoin\",\"PWR Coin\",\"BillaryCoin\",\"GPU Coin\",\"EuropeCoin\",\"ZeitCoin\",\"SwingCoin\",\"SafeExchangeCoin\",\"Nebuchadnezzar\",\"Ratecoin\",\"Revenu\",\"Clockcoin\",\"VIP Tokens\",\"BitSend\",\"Let it Ride\",\"PutinCoin\",\"iBankCoin\",\"Frankywillcoin\",\"MudraCoin\",\"Lutetium Coin\",\"Komodo\",\"GoldBlocks\",\"CarterCoin\",\"BitTokens\",\"MustangCoin\",\"ZoneCoin\",\"RootCoin\",\"BitCurrency\",\"Swiscoin\",\"BuzzCoin\",\"Opair\",\"PesoBit\",\"Halloween Coin\",\"CoffeeCoin\",\"RoyalCoin\",\"GanjaCoin V2\",\"TeamUP\",\"LanaCoin\",\"ARK\",\"InsaneCoin\",\"EmberCoin\",\"XenixCoin\",\"FreeCoin\",\"PLNCoin\",\"AquariusCoin\",\"Creatio\",\"Eternity\",\"Eurocoin\",\"BitcoinFast\",\"Stakenet\",\"BitConnect Coin\",\"MoneyCoin\",\"Enigma\",\"Russiacoin\",\"PandaCoin\",\"GameUnits\",\"GAKHcoin\",\"Allsafe\",\"LiteCreed\",\"Klingon Empire Darsek\",\"Internet of People\",\"KushCoin\",\"Printerium\",\"Impeach\",\"Zilbercoin\",\"FirstCoin\",\"FindCoin\",\"OpenChat\",\"RenosCoin\",\"VirtacoinPlus\",\"TajCoin\",\"Impact\",\"Atmos\",\"HappyCoin\",\"MacronCoin\",\"Condensate\",\"Independent Money System\",\"ArgusCoin\",\"LomoCoin\",\"ProCurrency\",\"GoldReserve\",\"GrowthCoin\",\"Phreak\",\"Degas Coin\",\"HTML5 Coin\",\"Ultimate Secure Cash\",\"QTUM\",\"Espers\",\"Denarius\",\"Virta Unique Coin\",\"Bitcoin Planet\",\"BritCoin\",\"Linda\",\"DeepOnion\",\"Signatum\",\"Cream\",\"Monoeci\",\"Draftcoin\",\"Stakecoin\",\"CoinonatX\",\"Ethereum Dark\",\"Obsidian\",\"Cardano\",\"Regalcoin\",\"TrezarCoin\",\"TerraNovaCoin\",\"Rupee\",\"WomenCoin\",\"Theresa May Coin\",\"NamoCoin\",\"LUXCoin\",\"Xios\",\"Bitcloud 2.0\",\"KekCoin\",\"BlackholeCoin\",\"Infinity Economics\",\"Magnet\",\"Lamden Tau\",\"Electra\",\"Bitcoin Diamond\",\"Cash & Back Coin\",\"Bulwark\",\"Kalkulus\",\"GermanCoin\",\"LiteCoin Ultra\",\"PhantomX\",\"Digiwage\",\"Trollcoin\",\"Litecoin Plus\",\"Monkey Project\",\"TokenPay\",\"My Big Coin\",\"Unified Society USDEX\",\"Tokyo Coin\",\"Stipend\",\"Pushi\",\"Ellerium\",\"Velox\",\"Ontology\",\"Bitspace\",\"Briacoin\",\"Ignition\",\"MedicCoin\",\"Bitcoin Green\",\"Deviant Coin\",\"Abjcoin\",\"Semux\",\"Carebit\",\"Zealium\",\"Proton\",\"iDealCash\",\"Bitcoin Incognito\",\"HollyWoodCoin\",\"Swisscoin\",\"Xt3ch\",\"TheVig\",\"EmaratCoin\",\"Dekado\",\"Lynx\",\"Poseidon Quark\",\"BitcoinWSpectrum\",\"Muse\",\"Trivechain\",\"Dystem\",\"Giant\",\"Peony Coin\",\"Absolute Coin\",\"Vitae\",\"TPCash\",\"ARENON\",\"EUNO\",\"MMOCoin\",\"Ketan\",\"XDNA\",\"PAXEX\",\"ThunderStake\",\"Kcash\",\"Acute Angle Cloud\",\"Bettex coin\",\"BitMoney\",\"Junson Ming Chan Coin\",\"HerbCoin\",\"PirateCash\",\"Oduwa\",\"Galilel\",\"Crypto Sports\",\"Credit\",\"Dash Platinum\",\"Nasdacoin\",\"Beetle Coin\",\"Titan Coin\",\"Award\",\"Insane Coin\",\"ALAX\",\"LiteDoge\",\"TruckCoin\",\"OrangeCoin\",\"BitstarCoin\",\"NeosCoin\",\"HyperCoin\",\"PinkCoin\",\"AudioCoin\",\"IncaKoin\",\"Piggy Coin\",\"Genstake\",\"XiaoMiCoin\",\"CapriCoin\",\" ClubCoin\",\"Radium\",\"Creditbit \",\"OKCash\",\"Lisk\",\"HiCoin\",\"WhiteCoin\",\"FriendshipCoin\",\"Triangles Coin\",\"EOS\",\"Oxycoin\",\"TigerCash\",\"Waves\",\"Particl\",\"Nxt\",\"ZEPHYR\",\"Gapcoin\",\"BitcoinPlus\"],\"legendgroup\":\"0\",\"marker\":{\"color\":[0,0,0,0,0,0,0,0,0,0,0,0,0,0,0,0,0,0,0,0,0,0,0,0,0,0,0,0,0,0,0,0,0,0,0,0,0,0,0,0,0,0,0,0,0,0,0,0,0,0,0,0,0,0,0,0,0,0,0,0,0,0,0,0,0,0,0,0,0,0,0,0,0,0,0,0,0,0,0,0,0,0,0,0,0,0,0,0,0,0,0,0,0,0,0,0,0,0,0,0,0,0,0,0,0,0,0,0,0,0,0,0,0,0,0,0,0,0,0,0,0,0,0,0,0,0,0,0,0,0,0,0,0,0,0,0,0,0,0,0,0,0,0,0,0,0,0,0,0,0,0,0,0,0,0,0,0,0,0,0,0,0,0,0,0,0,0,0,0,0,0,0,0,0,0,0,0,0,0,0,0,0,0,0,0,0,0,0,0,0,0,0,0,0,0,0,0,0,0,0,0,0,0,0,0,0,0,0,0,0,0,0,0,0,0,0,0,0,0,0,0,0,0,0,0,0,0,0,0,0,0,0,0,0,0,0,0,0,0,0,0,0,0,0,0,0,0,0,0,0,0,0,0,0,0,0,0,0,0,0,0,0,0,0,0,0,0,0,0,0,0,0,0,0,0,0,0,0,0,0,0,0,0,0,0,0,0,0,0],\"coloraxis\":\"coloraxis\",\"symbol\":\"circle\"},\"mode\":\"markers\",\"name\":\"0\",\"scene\":\"scene\",\"showlegend\":true,\"x\":[-0.5251676980640189,-0.5255347856126578,-0.5728237841358926,-0.47381374110709434,-0.14541083272766686,-0.33310264566876097,-0.04396205902941621,-0.5295262848226213,-0.525174313444791,-0.5253758827343029,-0.5252080172600139,-0.5251677320892428,-0.5251680786762031,0.36896329389893073,-0.380168777801248,-0.047558966378437546,-0.3665153176516243,-0.5252017663528838,-0.18521612102948784,-0.47381656516328635,-0.14218976233258912,-0.24300053939082536,-0.33372728738630153,-0.2360299365454273,-0.5506294733582408,-0.5506127868621713,-0.3001371566610325,-0.5252575299076072,-0.5251958671130155,-0.5347723920773204,-0.1846827989133996,-0.47380989862583484,0.09315235383344123,-0.16975870761924652,-0.47381076912515546,-0.5255920381626211,-0.5251881747311853,-0.3641373002499228,-0.4738123965024109,0.09314990460659517,-0.5506186637010492,-0.5252563648739488,1.669642879961163,-0.10764674878364135,-0.3331168891923439,-0.3801849471148633,-0.2360328918374203,-0.5506089659544238,-0.23610129516809764,-0.5251681789590614,-0.5506105481147758,-0.1846678703805201,-0.5251723037295671,-0.4738103941366684,0.6106011396202405,-0.6464284317747436,-0.2527472075786836,-0.2360607665299893,-0.5506173796706365,-0.3331556277638641,-0.5295093427803942,-0.3929549176862043,-0.33310342570286583,-0.4784794300851776,-0.333103441745319,-0.5195521068850467,-0.5251723339030379,-0.23604612892107157,-0.4738287372997381,-0.25211479546674775,-0.33310438071676157,0.3828858949564067,-0.04756446176583206,-0.4738569961405512,-0.3331106803412392,-0.33312789350279565,-0.5162839985693896,-0.4738234734836711,-0.07400446359229747,-0.5255144536719711,-0.5251709623537584,-0.5252044792279609,-0.26147378274416144,-0.18490783785063034,0.7098184557320759,-0.4738170064406083,-0.5251854566672594,-0.3331023782978768,-0.4738102342040324,-0.5251693877752398,-0.5251683336167073,-0.2360795511462424,-0.3312972432477142,-0.6409966481567402,-0.04758433467886108,-0.5251786812147218,-0.47395688602949726,-0.04760743701693417,-0.26146502804167776,-0.5579056111819866,-0.04757503784900033,-0.6344348882131476,-0.6447491627843993,-0.47381711329585036,-0.5808472184960018,-0.4738113154990664,-0.04757549611964806,-0.5251748456951258,-0.5251701881920737,-0.04756446176583206,-0.47381429758813587,-0.3331062110864678,-0.5251756565821133,-0.3762835773727346,-0.5251724534958151,-0.5251974178601346,-0.4738103660146991,-0.5251762289086256,-0.24840869488851028,-0.5251693582540193,-0.5251689176348744,-0.14370061431310804,-0.30029002906759655,-0.5251956401559391,-0.3331030108388534,-0.4738121281460875,-0.5251723748275001,-0.5251686803122861,-0.23602715282353456,-0.3857653170767262,-0.2614694508782641,-0.52553550984244,-0.23603717984904557,-0.4738182287879459,-0.6119446760861389,-0.47385056403207637,-0.04759794861644854,-0.47382096731710327,-0.04770469594279587,-0.473869849900326,-0.5251703093947101,-0.5251692234407237,-0.5252080424724122,-0.04700411426605588,-0.4738171313046056,-0.236201042149856,-0.04756204274144276,-0.525178914809613,-0.5464412707493521,-0.04396905495725439,-0.07402725549654139,-0.6165560163682451,-0.5162548098410845,-0.516278484819819,-0.6176230703310375,-0.5506159946730012,-0.530140129909624,-0.5506157612038383,-0.05346434909181678,-0.6176363483844112,-0.47381439829035094,-0.23603079940813626,-0.047560891178758745,-0.5251760386216664,-0.5251692428581085,-0.14437979862838382,-0.1179782296480579,-0.4738133624658464,-0.3002118602846394,-0.5251687039637973,-0.0052409744543721465,-0.5420490476693524,-0.3331355161975605,-0.5164849160824501,-0.45828361223422975,-0.5251692461461757,-0.4328583765349646,0.031216166249950557,-0.5251736531305141,-0.047267932867537894,-0.47382819925853414,-0.6448231675896169,-0.5267629068607893,-0.5506763905624638,-0.5252124954949531,-0.22711478250172304,-0.14370292450315472,-0.5287858891172764,-0.525176483598576,-0.4738267077117721,-0.14371033155314675,-0.5253974980796509,-0.5251686793187996,-0.1846684732480319,-0.07399817753421635,-0.3624319088327634,-0.5252539629101842,-0.26157170606302554,-0.47449796096544683,-0.4738116129630013,-0.4442369417751533,-0.23603734527974482,-0.03850031077628442,-0.5162595677217432,-0.5251680956477186,-0.5251682862619683,-0.23613165070932912,-0.049309166383930264,-0.04756780887556807,-0.5251721406275283,-0.7264165856959678,-0.4328940975229342,-0.04756394857724409,-0.004752770957342024,-0.5258335469601711,-0.22317601169218845,-0.2360377116042942,-0.5289193783460044,-0.23602825312331685,-0.6337936502667098,-0.5251781498369326,-0.24037367868245002,-0.39747162941882497,-0.14372357298209815,-0.04398059600920364,-0.3504242605752494,-0.2939086466426628,-0.1436997298589742,-0.4328424247313676,-0.23670257541355677,-0.29438233733264724,-0.1437222250246975,-0.5252096491110383,-0.18467470872790204,-0.4738219888109309,-0.23606973911255935,-0.047568599316869846,-0.3678098230515018,-0.18467167942310148,-0.5262382230090641,-0.23771692257518648,6.578963044054908,-0.15509491366901598,-0.17413288531506166,-0.19030469321761054,-0.4328540174777307,0.20273998961363363,-0.5251733834273762,-0.4328470274169126,-0.14369773673696778,-0.5382726714602184,-0.18466721153239465,-0.5251778049030635,-0.44431966221519453,-0.6342733212537862,-0.47383182620521974,-0.4738188933643486,-0.6450765016251658,-0.5315929644738957,-0.47388937304172746,-0.5251768930508718,-0.525176619606012,-0.04395990955957282,-0.5251708535300472,-0.47397295155949654,-0.5259109129963951,-0.33898658712586965,-0.47401200746367034,-0.5251879586288353,-0.5253162369781212,-0.473884228999884,-0.5252080767040385,-0.04755871911470172,-0.24586133164384694,-0.3331300245955569,-0.6447544351695987,-0.23970253847449313,-0.5252623171128273,-0.30013873467154006,-0.5506078721094111,-0.6450430520433728,-0.6450764172695199,-0.04432543851988857,5.8866429796075455,-0.047560493900315415,0.041558119792093284,-0.33898436733468423,-0.52518263507699,-0.23602406757513691],\"y\":[1.0698991365459511,1.0701492249059752,1.6474796098898903,1.2100826280471852,1.781025919706053,0.8488815523096358,0.5646845789686786,1.989664937347709,1.0699002172422816,1.0701849161207204,1.0699544835896793,1.0698989447199456,1.0698991819340933,0.914545449509429,0.9868416853743154,1.3463417688183301,0.5305317962566837,1.069888650069045,0.9266369603618666,1.2100865046895968,2.1314449393944517,0.7952702046047377,0.8485952919372446,0.7856937892367353,1.7669003966103758,1.7668774906999154,0.49142230222792177,1.069822065978256,1.0698910483966952,1.0830837057023204,0.9259048576731435,1.210087849254318,-0.028717660356994835,1.671401444593859,1.2100842736206014,1.0697182670847987,1.0698795346866647,0.3589497545952625,1.2100886545349532,-0.028666587612052555,1.7668855579624836,1.0695437450065348,2.0235617431261437,1.394804669407428,0.8488791578056025,0.9868659710633269,0.7857055656106942,1.766866520381377,0.7855609111334008,1.069899796700908,1.7668696464595472,0.9258748228286356,1.0698959167339437,1.210088529929756,2.430056392530926,2.0473470508233373,0.8061289825556354,0.7856961191592559,1.7668599400270382,0.8484876719185662,1.9897961209355923,0.8643490897439505,0.8488826230791545,1.2038306409509845,0.848888131824436,1.5851987443681386,1.0698854618131757,0.785618270816043,1.209930501129469,0.7605480066653196,0.8488753461321935,0.9134932742706412,1.3463397703265176,1.2101167185192656,0.84879681449685,0.8486762260388528,1.58066960252866,1.210040166441514,1.4502462102671219,1.0694209226379534,1.0698824658100312,1.0699019162185148,1.4825827359315835,0.9259003145440626,-0.022224789204569998,1.2100737514615605,1.0698805746059923,0.8488816623902861,1.2100868790676382,1.0698914368346115,1.0699000090027704,0.785769615843025,0.32110437968801947,2.079086671023167,1.3463412865548143,1.0699142133721373,1.2095739629057753,1.3463892212948334,1.4826649466165007,1.9076136932339423,1.3462202214473045,2.0760401698546964,1.6780225720987787,1.2100834402718001,1.8079754019804464,1.2100879562568285,1.3463406042286363,1.0698905605920626,1.0698825163497894,1.3463397703265176,1.2100652618978867,0.8488874008476441,1.0698943168833837,0.4640895063707558,1.0698923054701746,1.069629499603726,1.2100861057941867,1.069842143719168,0.7871810209015548,1.0698952131613046,1.0698992287129008,1.4560542484627317,0.4896417065600807,1.0696989400798584,0.8488825306928292,1.2100864473884623,1.0698960143315983,1.06989002038593,0.7856714466921012,0.4345225116090361,1.4826652808646912,1.0699269332820838,0.7856950267897398,1.210051574084522,2.1465468505304357,1.2100911903026503,1.346342660493318,1.2100553333221356,1.3463509723565947,1.2099315929356216,1.0698926007571088,1.0698875852405532,1.0694774118112234,0.5330834580569608,1.2100786939289234,0.7849821763690497,1.3463316786160593,1.0698644378621005,1.9701119130389937,0.5646046848085071,1.4502457696273128,1.9974651104073509,1.5806677030473457,1.580647720494918,1.9503783191713406,1.766867580938889,1.0528695808318582,1.7668725571963735,1.2297812229381344,1.9503965462395279,1.2100894905375297,0.785694388826331,1.3463150212961414,1.069887564490628,1.0698992532910816,1.781284850057756,1.4925119375548792,1.2100797227463016,0.49133580562752854,1.0698930109124714,0.6700296639467522,1.0811448669463746,0.8488894600901037,1.5804158182103232,1.9558265088563715,1.069891242417362,1.7401910669224785,1.543072870755112,1.0699002556323356,0.564934629111946,1.2100442680819208,1.6779452451840386,1.5807839722572796,1.7668646085197546,1.0698604386171806,1.2964585124842642,1.456055034178136,1.0510105854979908,1.0698396306991884,1.210087068604219,1.456017491355461,1.0697851922188777,1.069898575129883,0.9258751732913902,1.4502416366648903,0.30483995667786684,1.0699068654854682,1.4824308935353772,0.915645138892968,1.2100782753790607,1.6186725343594464,0.7856525177542151,1.2138789179160197,1.5806551500364836,1.06989825101848,1.0698975584659658,0.7856025808348492,1.524564004012189,1.3463119217413362,1.0698909217764017,1.6265064455299367,1.7402401018875533,1.3463104394782706,0.701682468955587,1.068369445957118,1.214734691646036,0.7856997770417977,1.0701826632652338,0.7856782052674418,2.078693378704795,1.069873407001871,1.7055709797308025,0.20137402092783638,1.4557828017628511,0.5646681531691281,1.5270452280062152,0.9858870487024911,1.4560501717152745,1.7402621332427122,0.7785712987651552,0.9542186378261377,1.4560433599062939,1.069479617278468,0.9258675112509338,1.2100805908679892,0.78563209899339,1.3462547998176937,0.986601186203102,0.9258418830719053,1.0627807540960996,2.5061638446698735,3.710360268852179,1.3344738208393503,1.6015731428371536,0.9336221523655496,1.7402547406839295,0.1559850879219706,1.0698969217518577,1.7402618268259955,1.456051076035759,1.0522010563358353,0.9258740615456224,1.0698729335037627,1.6185761596680301,2.07701401203843,1.2099175655061958,1.2100858838099442,1.6780544490452236,1.0620205137684442,1.2101969459638973,1.069816337443719,1.0698854974167502,0.5646775729410999,1.0699034681417707,1.2100731227908692,1.0659097465434655,0.8568784108668185,1.2098881824728014,1.0699197920813261,1.0699121965588,1.2100906464987948,1.0698782281676753,1.3463371354366127,0.5547941272757861,0.848879536118502,1.678013149823141,0.7859676887087029,1.0698858902439363,0.4913975604814811,1.7668706868607962,1.6784856384760996,1.678531439636478,0.564712255218052,3.87242361781798,1.3463397462769713,1.07870720843923,0.7157220297499651,1.0698003643265224,0.785692975250517],\"z\":[-0.34427718495349563,-0.3275544228106197,2.3097332139368474,-0.4026571200359325,-0.2802387128107619,-0.32333576713038215,-0.25967431984321393,-0.2632410514401573,-0.3439355004256283,-0.3364872464836587,-0.3427685051072841,-0.34427310475367917,-0.34425732875569276,0.802051537145917,-0.3795482247326412,-0.3122523193793793,-0.2779433054841583,-0.3423286602342839,-0.31874891065352867,-0.4025514483523163,-0.22915569604043443,-0.019627834629283226,-0.2865035126669368,-0.2803658451983891,-0.2845998376158541,-0.2852242197157349,-0.35409887299330806,-0.33855771720376354,-0.3426729200997405,0.015115163677180483,-0.338704974609135,-0.4029244136564395,-0.22608874672003162,-0.29368371764092754,-0.40283570125154,-0.3194158032492852,-0.3429495277088685,-0.29859526868428854,-0.40280007278192664,-0.22655855376959508,-0.2850043177672307,-0.3353448822526228,0.3781575361509662,-0.32038091228795956,-0.3225445286895766,-0.37896778642714085,-0.2803461060104545,-0.2852998176106548,-0.27497929626736145,-0.34425919086305473,-0.28525184475511733,-0.33915128588377125,-0.34399255787859556,-0.402905878044967,0.05432586237605223,-0.4255071671204345,-0.3370877311113652,-0.27874162620500964,-0.28477163753155044,-0.31586224908111965,-0.2656924309604429,-0.08462149984456915,-0.32330657949684044,-0.07913216209906711,-0.32337054633368106,-0.25161117443483805,-0.3438679091277921,-0.2786096883159298,-0.4000635257544911,0.8772517920846213,-0.32316978281934683,0.06856581496609747,-0.31193440009445433,-0.40074101538847684,-0.321908145517732,-0.31956692372472567,-0.37339327333187855,-0.40163604974597805,-0.3212047602838147,-0.32007307842530186,-0.3439061297436544,-0.3423394394139993,-0.22032731251311743,-0.326595628453314,-0.30717076392129694,-0.40237772955735135,-0.34310737865249485,-0.32335138625508647,-0.40289501887292556,-0.34409605371198315,-0.3442534038203278,-0.27860018900665945,-0.2616076553269648,0.024659648011796462,-0.3108876026113707,-0.34386621318725163,-0.3890025865448537,-0.31021404459094637,-0.22176376893908512,-0.42358548113671923,-0.3099609763730554,-0.2910189204710146,3.6187675668322385,-0.40248602184768656,0.8508723982873592,-0.40284976750471807,-0.31135307618844876,-0.34379334815064466,-0.3439481982137742,-0.31193440009445433,-0.4024229451797972,-0.323213583944144,-0.3437941105595628,-0.36588837506224625,-0.3439420376068732,-0.33951196720534055,-0.4028788576634435,-0.34314948194313616,0.3652927751396333,-0.34414207460632495,-0.3442129341869186,-0.3390207756454204,-0.35840595458895924,-0.3404243705423775,-0.323327717579435,-0.4027884758410818,-0.34398989750720543,-0.3441172856205076,-0.28025205149834187,-0.2874823734753392,-0.22153076022078855,-0.3248997222338357,-0.27999236718741466,-0.40205126465913177,-0.44119444777791006,-0.4007851860149851,-0.3101744392144015,-0.40194879326078303,-0.3045535383756772,-0.3978738720055087,-0.3440603772194433,-0.3440595324033356,-0.3371530295363316,0.2751742714395399,-0.40242920266713045,-0.2628251248708147,-0.3119687708117626,-0.343267946561433,0.8730335833257119,-0.2583593458444267,-0.3199785571476234,0.5796120344820405,-0.374934631617916,-0.37343115309202535,-0.44453821348612255,-0.2849357525799076,0.12250990111612794,-0.285006820106721,-0.3163140206311469,-0.44404136988196696,-0.40270267011432404,-0.2803266754448926,-0.3118344414330008,-0.3436941824035669,-0.3441958004205103,-0.33852077899173233,0.6657981527107973,-0.40264321552752264,-0.3490789363282833,-0.3441512107180568,-0.3073145310207204,0.42775932766638664,-0.32166787079959097,-0.35964312937106707,-0.3930128955458641,-0.34410135324593755,-0.40105418960256023,-0.31254534784094895,-0.34397132683693993,-0.08551317954814075,-0.4014311461183614,3.6236421583086256,0.18664143812238762,-0.28166521882273854,-0.34142188493581405,-0.3110994504296746,-0.338906259353395,0.07183636808958267,-0.3431062646579657,-0.4020147234453691,-0.33806764612645035,-0.33062535574900465,-0.3442180100701222,-0.3391231130097413,-0.32148769808634087,-0.30603777138902993,-0.3397467206114739,-0.21329445862367408,-0.3779048648844369,-0.40271990820120596,-0.2970094132983028,-0.2794832633051578,-0.2945058171317761,-0.374532018016871,-0.3442454646442965,-0.3442271030984061,-0.27384344027349233,-0.32245711887224365,-0.31142736839326457,-0.34394251557541294,3.7954133204567286,-0.399717567139378,-0.3116167308640791,-0.3099168028036887,-0.29060482038762353,-0.23132579941856854,-0.28001978017609697,-0.14662705772549336,-0.28027263988715184,-0.3565942480794659,-0.34341447579588624,-0.2014357950327009,2.2771058569527862,-0.3345964709033503,-0.2584879518679012,0.9745978597092664,-0.3728486900115586,-0.3390201833171267,-0.40274506665801996,-0.1605143105411772,-0.3708402565726305,-0.33773490201160977,-0.3370929116784695,-0.33869889719311064,-0.4021912971972286,-0.2775075613132323,-0.31071281841509646,-0.35645171693451666,-0.33855959500546007,-0.20315826824794642,-0.3834445899836165,-0.581516446984251,-0.23340471066821183,0.601654527221918,-0.12834264591108735,-0.40203702027571997,-0.2710689430450042,-0.34394654277446696,-0.4024948837239305,-0.33913760164779067,0.5660570477414898,-0.33917762329067497,-0.3434273826717584,-0.29144375206101547,-0.31113451630104016,-0.3997458206743906,-0.4024194145202819,3.6359287804173492,0.09265467357206993,-0.39995061323790465,-0.3428102169971904,-0.3436387325756784,-0.25970702605707024,-0.3441591126775989,-0.39401597216924206,-0.2575146787125279,-0.10222481003135239,-0.389747296372917,-0.3434348491484029,-0.33647328279384237,-0.39897527239884667,-0.34186795566048106,-0.3122110408050023,-0.38537062620871165,-0.3218452851371445,3.6191609015669592,-0.08683884532816587,-0.3390523314704364,-0.3537231771549775,-0.28540744819053104,3.6290626181915715,3.6303110918003028,-0.24053288769367015,-0.5595358373028398,-0.3121466852874684,-0.2620231671596177,2.4211497994033566,-0.3423146329192328,-0.2806706813151192],\"type\":\"scatter3d\"},{\"customdata\":[[\"SHA-256\"],[\"Ethash\"],[\"Scrypt\"],[\"CryptoNight-V7\"],[\"Ethash\"],[\"Equihash\"],[\"Multiple\"],[\"Scrypt\"],[\"X11\"],[\"Scrypt\"],[\"Multiple\"],[\"Scrypt\"],[\"SHA-256\"],[\"Scrypt\"],[\"Scrypt\"],[\"Quark\"],[\"Groestl\"],[\"Scrypt\"],[\"Scrypt\"],[\"Scrypt\"],[\"X11\"],[\"Multiple\"],[\"SHA-256\"],[\"Scrypt\"],[\"Scrypt\"],[\"Scrypt\"],[\"Scrypt\"],[\"Scrypt\"],[\"NeoScrypt\"],[\"Scrypt\"],[\"Scrypt\"],[\"Scrypt\"],[\"Scrypt\"],[\"SHA-256\"],[\"Scrypt\"],[\"Scrypt\"],[\"Scrypt\"],[\"Scrypt\"],[\"HybridScryptHash256\"],[\"Scrypt\"],[\"Scrypt\"],[\"SHA-256\"],[\"Scrypt\"],[\"Scrypt\"],[\"Scrypt\"],[\"Scrypt\"],[\"SHA-256\"],[\"SHA-256\"],[\"SHA-256\"],[\"SHA-256\"],[\"SHA-256\"],[\"X11\"],[\"Scrypt\"],[\"Lyra2REv2\"],[\"Scrypt\"],[\"SHA-256\"],[\"CryptoNight\"],[\"CryptoNight\"],[\"Scrypt\"],[\"Scrypt\"],[\"Scrypt\"],[\"Scrypt\"],[\"Scrypt\"],[\"Scrypt\"],[\"Stanford Folding\"],[\"Multiple\"],[\"QuBit\"],[\"Scrypt\"],[\"Scrypt\"],[\"M7 POW\"],[\"Scrypt\"],[\"SHA-256\"],[\"Scrypt\"],[\"X11\"],[\"Lyra2RE\"],[\"SHA-256\"],[\"X11\"],[\"Scrypt\"],[\"Scrypt\"],[\"Ethash\"],[\"Blake2b\"],[\"X11\"],[\"SHA-256\"],[\"Scrypt\"],[\"1GB AES Pattern Search\"],[\"Scrypt\"],[\"SHA-256\"],[\"X11\"],[\"Dagger\"],[\"Scrypt\"],[\"X11GOST\"],[\"Scrypt\"],[\"X11\"],[\"Scrypt\"],[\"X11\"],[\"CryptoNight\"],[\"SHA-256\"],[\"Multiple\"],[\"Scrypt\"],[\"SHA-256\"],[\"Scrypt\"],[\"Lyra2Z\"],[\"Ethash\"],[\"Equihash\"],[\"Scrypt\"],[\"X11\"],[\"X11\"],[\"CryptoNight\"],[\"Scrypt\"],[\"CryptoNight\"],[\"Lyra2RE\"],[\"X11\"],[\"CryptoNight-V7\"],[\"Scrypt\"],[\"X11\"],[\"Equihash\"],[\"Scrypt\"],[\"Lyra2RE\"],[\"Dagger-Hashimoto\"],[\"Scrypt\"],[\"NIST5\"],[\"Scrypt\"],[\"SHA-256\"],[\"Scrypt\"],[\"CryptoNight-V7\"],[\"Argon2d\"],[\"Blake2b\"],[\"Cloverhash\"],[\"CryptoNight\"],[\"X11\"],[\"Scrypt\"],[\"Scrypt\"],[\"X11\"],[\"X11\"],[\"CryptoNight\"],[\"Time Travel\"],[\"Scrypt\"],[\"Keccak\"],[\"X11\"],[\"SHA-256\"],[\"Scrypt\"],[\"Scrypt\"],[\"Scrypt\"],[\"Scrypt\"],[\"Scrypt\"],[\"Scrypt\"],[\"CryptoNight\"],[\"Equihash\"],[\"X11\"],[\"NeoScrypt\"],[\"Equihash\"],[\"Dagger\"],[\"Scrypt\"],[\"X11\"],[\"NeoScrypt\"],[\"Ethash\"],[\"NeoScrypt\"],[\"Multiple\"],[\"CryptoNight\"],[\"CryptoNight\"],[\"Ethash\"],[\"X11\"],[\"CryptoNight-V7\"],[\"Scrypt\"],[\"BLAKE256\"],[\"X11\"],[\"NeoScrypt\"],[\"NeoScrypt\"],[\"Scrypt\"],[\"X11\"],[\"SHA-256\"],[\"C11\"],[\"Ethash\"],[\"CryptoNight\"],[\"SkunkHash\"],[\"CryptoNight\"],[\"Scrypt\"],[\"Dagger\"],[\"Lyra2REv2\"],[\"Scrypt\"],[\"Scrypt\"],[\"X11\"],[\"Ethash\"],[\"CryptoNight\"],[\"Scrypt\"],[\"IMesh\"],[\"Equihash\"],[\"Lyra2Z\"],[\"X11\"],[\"CryptoNight\"],[\"NIST5\"],[\"Lyra2RE\"],[\"Tribus\"],[\"Lyra2Z\"],[\"CryptoNight\"],[\"CryptoNight Heavy\"],[\"CryptoNight\"],[\"Jump Consistent Hash\"],[\"CryptoNight\"],[\"X16R\"],[\"HMQ1725\"],[\"X11\"],[\"Scrypt\"],[\"CryptoNight-V7\"],[\"Cryptonight-GPU\"],[\"XEVAN\"],[\"CryptoNight Heavy\"],[\"SHA-256\"],[\"X11\"],[\"X16R\"],[\"Equihash\"],[\"Lyra2Z\"],[\"SHA-256\"],[\"CryptoNight\"],[\"Blake\"],[\"Blake\"],[\"Exosis\"],[\"Scrypt\"],[\"Equihash\"],[\"Equihash\"],[\"QuBit\"],[\"SHA-256\"],[\"X13\"],[\"SHA-256\"],[\"Scrypt\"],[\"NeoScrypt\"],[\"Blake\"],[\"Scrypt\"],[\"SHA-256\"],[\"Scrypt\"],[\"Groestl\"],[\"Scrypt\"],[\"Scrypt\"],[\"Multiple\"],[\"Equihash+Scrypt\"],[\"Ethash\"],[\"CryptoNight\"],[\"Equihash\"]],\"hovertemplate\":\"<b>%{hovertext}</b><br><br>Class=%{marker.color}<br>PC3=%{x}<br>PC2=%{y}<br>PC1=%{z}<br>Algorithm=%{customdata[0]}<extra></extra>\",\"hovertext\":[\"Bitcoin\",\"Ethereum\",\"Litecoin\",\"Monero\",\"Ethereum Classic\",\"ZCash\",\"DigiByte\",\"ProsperCoin\",\"Spreadcoin\",\"Argentum\",\"MyriadCoin\",\"MoonCoin\",\"ZetaCoin\",\"SexCoin\",\"Quatloo\",\"QuarkCoin\",\"Riecoin\",\"Digitalcoin \",\"Catcoin\",\"CannaCoin\",\"CryptCoin\",\"Verge\",\"DevCoin\",\"EarthCoin\",\"E-Gulden\",\"Einsteinium\",\"Emerald\",\"Franko\",\"FeatherCoin\",\"GrandCoin\",\"GlobalCoin\",\"GoldCoin\",\"Infinite Coin\",\"IXcoin\",\"KrugerCoin\",\"LuckyCoin\",\"Litebar \",\"MegaCoin\",\"MediterraneanCoin\",\"MinCoin\",\"NobleCoin\",\"Namecoin\",\"NyanCoin\",\"RonPaulCoin\",\"StableCoin\",\"SmartCoin\",\"SysCoin\",\"TigerCoin\",\"TerraCoin\",\"UnbreakableCoin\",\"Unobtanium\",\"UroCoin\",\"ViaCoin\",\"Vertcoin\",\"WorldCoin\",\"JouleCoin\",\"ByteCoin\",\"DigitalNote \",\"MonaCoin\",\"Gulden\",\"PesetaCoin\",\"Wild Beast Coin\",\"Flo\",\"ArtByte\",\"Folding Coin\",\"Unitus\",\"CypherPunkCoin\",\"OmniCron\",\"GreenCoin\",\"Cryptonite\",\"MasterCoin\",\"SoonCoin\",\"1Credit\",\"MarsCoin \",\"Crypto\",\"Anarchists Prime\",\"BowsCoin\",\"Song Coin\",\"BitZeny\",\"Expanse\",\"Siacoin\",\"MindCoin\",\"I0coin\",\"Revolution VR\",\"HOdlcoin\",\"Gamecredits\",\"CarpeDiemCoin\",\"Adzcoin\",\"SoilCoin\",\"YoCoin\",\"SibCoin\",\"Francs\",\"BolivarCoin\",\"Omni\",\"PizzaCoin\",\"Karbo\",\"ZayedCoin\",\"Circuits of Value\",\"DopeCoin\",\"DollarCoin\",\"Shilling\",\"ZCoin\",\"Elementrem\",\"ZClassic\",\"KiloCoin\",\"ArtexCoin\",\"Kurrent\",\"Cannabis Industry Coin\",\"OsmiumCoin\",\"Bikercoins\",\"HexxCoin\",\"PacCoin\",\"Citadel\",\"BeaverCoin\",\"VaultCoin\",\"Zero\",\"Canada eCoin\",\"Zoin\",\"DubaiCoin\",\"EB3coin\",\"Coinonat\",\"BenjiRolls\",\"ILCoin\",\"EquiTrader\",\"Quantum Resistant Ledger\",\"Dynamic\",\"Nano\",\"ChanCoin\",\"Dinastycoin\",\"DigitalPrice\",\"Unify\",\"SocialCoin\",\"ArcticCoin\",\"DAS\",\"LeviarCoin\",\"Bitcore\",\"gCn Coin\",\"SmartCash\",\"Onix\",\"Bitcoin Cash\",\"Sojourn Coin\",\"NewYorkCoin\",\"FrazCoin\",\"Kronecoin\",\"AdCoin\",\"Linx\",\"Sumokoin\",\"BitcoinZ\",\"Elements\",\"VIVO Coin\",\"Bitcoin Gold\",\"Pirl\",\"eBoost\",\"Pura\",\"Innova\",\"Ellaism\",\"GoByte\",\"SHIELD\",\"UltraNote\",\"BitCoal\",\"DaxxCoin\",\"AC3\",\"Lethean\",\"PopularCoin\",\"Photon\",\"Sucre\",\"SparksPay\",\"GunCoin\",\"IrishCoin\",\"Pioneer Coin\",\"UnitedBitcoin\",\"Interzone\",\"1717 Masonic Commemorative Token\",\"TurtleCoin\",\"MUNcoin\",\"Niobio Cash\",\"ShareChain\",\"Travelflex\",\"KREDS\",\"BitFlip\",\"LottoCoin\",\"Crypto Improvement Fund\",\"Callisto Network\",\"BitTube\",\"Poseidon\",\"Aidos Kuneen\",\"Bitrolium\",\"Alpenschillling\",\"FuturoCoin\",\"Monero Classic\",\"Jumpcoin\",\"Infinex\",\"KEYCO\",\"GINcoin\",\"PlatinCoin\",\"Loki\",\"Newton Coin\",\"MassGrid\",\"PluraCoin\",\"Motion\",\"PlusOneCoin\",\"Axe\",\"HexCoin\",\"Webchain\",\"Ryo\",\"Urals Coin\",\"Qwertycoin\",\"Project Pai\",\"Azart\",\"Xchange\",\"CrypticCoin\",\"Actinium\",\"Bitcoin SV\",\"FREDEnergy\",\"Universal Molecule\",\"Lithium\",\"Exosis\",\"Block-Logic\",\"Beam\",\"Bithereum\",\"SLICE\",\"BLAST\",\"Bitcoin Rhodium\",\"GlobalToken\",\"SolarCoin\",\"UFO Coin\",\"BlakeCoin\",\"Crypto Escudo\",\"Crown Coin\",\"SmileyCoin\",\"Groestlcoin\",\"Bata\",\"Pakcoin\",\"JoinCoin\",\"Vollar\",\"Reality Clash\",\"Beldex\",\"Horizen\"],\"legendgroup\":\"3\",\"marker\":{\"color\":[3,3,3,3,3,3,3,3,3,3,3,3,3,3,3,3,3,3,3,3,3,3,3,3,3,3,3,3,3,3,3,3,3,3,3,3,3,3,3,3,3,3,3,3,3,3,3,3,3,3,3,3,3,3,3,3,3,3,3,3,3,3,3,3,3,3,3,3,3,3,3,3,3,3,3,3,3,3,3,3,3,3,3,3,3,3,3,3,3,3,3,3,3,3,3,3,3,3,3,3,3,3,3,3,3,3,3,3,3,3,3,3,3,3,3,3,3,3,3,3,3,3,3,3,3,3,3,3,3,3,3,3,3,3,3,3,3,3,3,3,3,3,3,3,3,3,3,3,3,3,3,3,3,3,3,3,3,3,3,3,3,3,3,3,3,3,3,3,3,3,3,3,3,3,3,3,3,3,3,3,3,3,3,3,3,3,3,3,3,3,3,3,3,3,3,3,3,3,3,3,3,3,3,3,3,3,3,3,3,3,3,3,3,3,3,3,3,3,3,3,3,3,3,3,3,3,3,3,3,3,3,3,3,3,3,3,3,3],\"coloraxis\":\"coloraxis\",\"symbol\":\"diamond\"},\"mode\":\"markers\",\"name\":\"3\",\"scene\":\"scene\",\"showlegend\":true,\"x\":[0.15340663854863715,0.31875184269590856,-0.03867703157467551,0.31299381017535644,0.31874154530383547,0.40011634356593534,0.2859728244204302,-0.03865573645258497,0.012700340454240438,-0.03865957333972822,0.28992016433614515,-0.054082356376553134,0.15335076908699563,-0.03870529301034009,-0.03865943148542353,0.053579453283489335,0.10632756727727294,-0.03866589508666606,-0.03865621205729691,-0.03865507189238345,0.012702436647510909,0.2846694493051909,0.14641866187846744,-0.04330361340504961,-0.03866069749930389,-0.03873675788382648,-0.03866067631624594,-0.03865382863805678,0.18629687807448223,-0.03899975092468406,-0.03867733185541556,-0.038669554329972176,-0.07197535986225834,0.1534056025218223,-0.03871328652381584,-0.03866013829858717,-0.03865341884299782,-0.03866719015210541,0.3701151339466318,-0.03865530622617899,-0.04003090901425975,0.15340768394603496,-0.038776204826274,-0.03865420833074581,-0.038670981582327575,-0.038663445335151723,0.15319310884396073,0.1533972028601409,0.1534041539064817,0.1534093950013669,0.15341327997289148,0.012704401514567785,-0.03866151188980628,0.19211869431881648,-0.03870285451464075,0.15339870596908245,0.2666679810646483,0.33172140882271833,-0.03867956926928721,-0.038856483767255,-0.038704743344410424,-0.038653167978623525,-0.0387093202973503,-0.038952843308678514,0.3451103072121933,0.29053231714585814,0.18623565193339706,-0.038656460438721896,-0.04056530023430869,0.22645715499222707,-0.03865323063288195,0.1534084289072723,-0.042349647641455025,0.01269291431414112,0.36172570771458085,0.1534063640908921,0.012698755786312644,-0.03867211976049414,-0.03868782160191397,0.31878300551577143,0.341774575003967,0.012698955425516537,0.1534056326219985,-0.03873024325827938,0.3342335189044107,-0.03867925843690216,0.1454217059800766,0.012686642346945795,0.3420866422100391,-0.03865997576418355,0.4123719577236127,-0.03865595919523544,0.012699319048530564,-0.038653229518412185,0.012703341103187875,0.3343830637135616,0.1534109189679082,0.2901778023786774,-0.03869932104380036,0.15340994474622272,-0.03865785119649405,0.33615285800050027,0.3187774846991519,0.4001169233113665,-0.03911912220099326,0.012414738665900621,0.012675530861855792,0.33438486412897295,-0.038653404754028335,0.33438195820351063,0.36173183722005336,0.008510804168893544,0.3129884185029216,-0.038654158444083354,0.01265466120823327,0.4001166554581677,-0.03868973265663508,0.3617259337488882,0.3584675118712654,-0.038834725080058696,-0.029743601563892604,-0.03866107309524772,0.15288116914662533,-0.0386603756197222,0.3129726084903683,0.3454977425225735,0.3525612800881001,0.3768649222554769,0.3337128293106588,0.012689266382109127,-0.03865971833529344,-0.03865770945143617,0.012693853939763723,0.012703178314228573,0.33437921879139937,0.3170320066424159,-0.10011105934599772,0.11778598165360092,0.012620471559289295,0.15340661613386697,-0.03907505813938027,-0.08550644754067614,-0.0386569857405182,-0.03866209634527105,-0.03866771692959713,-0.038668067427780575,0.3343795255804362,0.39756834613218456,0.01174693216478569,0.18637629548387852,0.4001131264554494,0.3420723001028869,-0.038689780685131576,0.012633327674464906,0.18637484840014842,0.31877169345150796,0.18637555667223848,0.2903693011360765,0.3246533506810856,0.3343840517946138,0.31821465693154755,0.012656383638315543,0.3128147186939206,-0.04015270177795912,0.08008944778564558,0.012702615925376705,0.1863753304097791,0.1862604317982865,-0.03867047600587607,0.012701095221608222,0.1534059385503769,0.012016369309095613,0.12141554570480557,0.27679515293259316,0.45708401811467964,0.3343286472549713,-0.04233112072022442,0.3420505346320527,0.19188370931085058,-0.03865868773639761,-0.044140314663091734,0.01261547906703109,0.3184448238903163,0.33431962120836645,-0.03865518010277293,0.2739441567396126,0.40009341535607407,0.3361351856870303,0.012690359855716782,0.3343800414452179,-0.0297460928608313,0.3617301276016708,0.3290326263715916,0.3361534866116708,0.3343618923874824,0.3222424556289364,0.31346342392263676,0.34424780752657114,0.3341623461596712,0.19261791325943492,0.3710475819763809,0.012702317401634062,-0.03865435512748016,0.31292402518267914,0.27547281520564887,0.042267032468683984,0.2822259376095831,0.1526409510758942,0.012702149192606956,0.19261424886659353,0.39842667905222745,0.33614835509731167,0.15340661714133286,0.3334496636761781,0.3951659671154728,0.395164502406647,0.27833549076384745,-0.03866938482827888,0.4000973544698452,0.400110125077587,0.18622948444640236,0.15339365119238932,-0.06409359370114598,0.1533788836105546,-0.04261292530227649,0.1849649367431097,0.3948817913246819,-0.038948804746487535,0.15340413702263578,-0.05035467069108026,0.10631894236875214,-0.03865485905949523,-0.03868314645302289,0.2905524458191385,0.3280213778010405,0.3187781164508185,0.3340086151054316,0.40011637191217647],\"y\":[-1.3355590206465706,-2.0654819908036655,-1.1145564334792324,-2.300456614184288,-2.06556804769456,-1.744224889421259,-1.9326852794969618,-1.1145556080468815,-0.9743640532193746,-1.114570856644427,-1.9290388561501877,-1.276577990327568,-1.335553318765798,-1.1145968380617661,-1.114588227200839,-0.4441743201568792,-1.197619590065895,-1.1145546241444901,-1.1145549551741092,-1.11455277024669,-0.9743659764959862,-1.9287753706723394,-1.335975690353639,-1.1146062848343354,-1.1145487979118198,-1.1145774018559658,-1.1145540751605256,-1.114553568388744,-1.6930739603148859,-1.114751134702309,-1.1145493417880104,-1.1145610896015414,-1.1120328670465343,-1.3355575984703776,-1.1145932225568425,-1.1145490884322298,-1.114549414338663,-1.1145499045424418,-2.289355939663396,-1.1145509504576128,-1.1198144558117205,-1.3355604556859637,-1.1145410041493673,-1.1145577057324512,-1.1146439380937059,-1.1145594345116314,-1.3356795550871163,-1.335558478551025,-1.3355656291592295,-1.3355909537651518,-1.3355582375143045,-0.9743600857960838,-1.1145486341933148,-1.2302261126137113,-1.1146075427992168,-1.3355595819780697,-2.2913437416260676,-2.297404444409365,-1.1145630264184276,-1.115071557407236,-1.1145576998264268,-1.1145503684475253,-1.1145483701437262,-1.11461485025751,-2.189188523638385,-1.9289249586439332,-1.6947842389409347,-1.1145462034678784,-1.1166953536008242,-2.313557217015663,-1.1145493241620064,-1.3355614783102059,-1.1533686655274833,-0.9743600615808897,-2.308639870392165,-1.3355742738978196,-0.9743623550181657,-1.1146234059421758,-1.114620821438226,-2.0655328348237845,-2.1179314963684246,-0.9743602435352353,-1.3355576397895337,-1.114543504066641,-2.322838721828766,-1.1145533766177824,-1.3349059498329197,-0.9743757843430105,-2.2895625846166467,-1.1146200908995925,-2.07366314368248,-1.114554825176887,-0.9743650366458257,-1.1145493242462303,-0.9743705578063775,-2.2962918622550865,-1.335559522343405,-1.9290108362975027,-1.1145811805887096,-1.335558615500576,-1.114556999050127,-2.152505500419092,-2.0655296929606455,-1.7442256852502265,-1.1186805531540107,-0.9742010125952264,-0.9744292346893785,-2.2962995818941434,-1.114550084588459,-2.2962975012935885,-2.3086216671591075,-1.016314083728102,-2.300537477601875,-1.114549358056256,-0.9747689126005495,-1.7442234091368527,-1.1145466321342807,-2.3086188115085733,-2.2047472502290657,-1.1162083128433538,-0.6037942384868836,-1.114555210098822,-1.3360204442825976,-1.1145735721886048,-2.300477606348061,-2.28832757222354,-2.1329009883030037,-2.2020496021492955,-2.2963212588507953,-0.9743870201144764,-1.1145493198814957,-1.1145786634140658,-0.9743742332975793,-0.97436742399352,-2.2963075769291796,-2.2324968840332,-1.125605828751699,-1.1987968219749725,-0.9747696903761504,-1.3355589898773352,-1.1189795940289529,-1.050232614492894,-1.1145534160161965,-1.1145769353884547,-1.1145768535942067,-1.1145763724578448,-2.2963246437763964,-1.7507364136989558,-0.9739045386159485,-1.693035552419412,-1.7442204732248072,-2.2896031586480827,-1.1145465662045355,-0.9744295084496973,-1.693042153891574,-2.0656428301495926,-1.6930368283475161,-1.9290160732927777,-2.323484948754884,-2.296294411381076,-2.069515648282772,-0.9745565791425809,-2.30068763048888,-1.11487620439603,-1.3445379337245549,-0.97436708138605,-1.6930313650032018,-1.6931021751787727,-1.1145558903211485,-0.9743665206238661,-1.3355576618372418,-1.2688045839262987,-0.16528769554609088,-2.6943413209931797,-2.1556489885921755,-2.2963727002996728,-1.1142713740084844,-2.2895464164183417,-1.2303882837518312,-1.1145606217777693,-1.1157988785289472,-0.9744765732422906,-2.0681617310374234,-2.2966771086938933,-1.1145563717601816,-2.3203378377452584,-1.7442167935896382,-2.1526141630956883,-0.974388521149112,-2.296291721216277,-0.6037778165269428,-2.30862708762182,-2.4363212331095365,-2.152501162867476,-2.296544292938532,-2.25826184251083,-2.3553578291022865,-2.465548779572898,-2.296461213866835,-1.1985488650269078,-2.18371508771027,-0.9743672441237818,-1.1145580315494685,-2.3011957550096365,-2.1719633191491816,-0.5658327925469476,-2.291270560802533,-1.3354998492379189,-0.974368921645201,-1.198581013017704,-1.7455214400777552,-2.152529186047357,-1.3355589912603054,-2.298860812588579,-2.1367712664516407,-2.136731139211916,-2.4543315321451624,-1.1145841061617323,-1.744314187007076,-1.7442210698429,-1.6948234833382785,-1.335561708199239,-0.4175781635051904,-1.3355910554877952,-1.1559176076120714,-1.6929936937344279,-2.13967076355078,-1.114620394078307,-1.335565605982413,-1.1223415306782707,-1.197617769703433,-1.114549178760954,-1.1145947958808295,-1.9289539256026447,-2.3465839319139348,-2.065529740704139,-2.2964411327207293,-1.7442249283327513],\"z\":[-0.1488717210182493,-0.14712266485939565,-0.16863925811892785,-0.15834000663549772,-0.14555830109830167,-0.16107217777217972,0.17219725907717587,-0.16978980318914008,-0.22837819742354282,-0.16940480810171613,-0.0821820232140604,2.563312183903184,-0.14594575715390012,-0.16664974788048095,-0.1692079929059424,-0.22364693617109566,-0.2041473730738353,-0.16925715890466594,-0.16977200681850343,-0.16985880019598276,-0.22846786270062838,0.19601088403446137,0.2303945037773989,0.07980462692809374,-0.16960416872429845,-0.16519282108396116,-0.16954320150678256,-0.16991601191142772,-0.1749481805952568,-0.14905917649442257,-0.1687066255425789,-0.16898503959951472,1.585536132556817,-0.14883295454525963,-0.1662640627629915,-0.16963070765642455,-0.16998685000474392,-0.1692433188243992,-0.1341282991392169,-0.16986766142965953,-0.03423295942838248,-0.14891083812341055,-0.16350787639870834,-0.16984698307393017,-0.16793362685562827,-0.1693317902130801,-0.13601398025508307,-0.1483726075555642,-0.14866084449155034,-0.14864360569043944,-0.14923673407580657,-0.22864244647462797,-0.16956246646476442,-0.19588494029491788,-0.16665441192722927,-0.14844014775662534,3.8746501647595144,0.460901476376135,-0.16842572271031936,-0.15296364962338457,-0.1671397689961905,-0.16998906157788077,-0.16700436111105804,-0.1531759109633798,-0.11837312625532745,-0.11631687046730105,-0.18499245823122615,-0.16986168947667735,-0.0423095521215985,-0.10225936955138921,-0.1699979940667106,-0.1489387133861202,0.48484952261347136,-0.22802733417338936,-0.1454733041534766,-0.14867751917293842,-0.22831328714203236,-0.16811427184065536,-0.16730350015031323,-0.14819380642384095,0.3737076409854683,-0.22834882998381661,-0.1488340808459001,-0.1659407306370271,-0.14545221295412294,-0.16855593248227194,0.2712152744610773,-0.22750630601241187,-0.14782097891793244,-0.16880386628958152,-0.17265718883007253,-0.16978708304616988,-0.22831190538825133,-0.16999805278042512,-0.22846240426604345,0.30521741429795346,-0.14909512957851462,-0.09631405405638266,-0.16715393596269243,-0.14905360977392634,-0.1696601420515662,-0.15312695320873135,-0.14793501592922825,-0.16109387092260996,-0.09642323024115065,-0.21499645805397405,-0.22628203931040639,0.30521180547528004,-0.1699797173639127,0.30534299870534115,-0.14601589018534336,0.4897285017529648,-0.15709957039216235,-0.1699478901007282,-0.2211667112890496,-0.16110630641128335,-0.16807417135160369,-0.14573323183967707,-0.1424395252787209,-0.14075211041624072,-0.20032219914154226,-0.169508589269612,-0.11529106788077852,-0.16932987180514258,-0.15695714748220077,-0.15131408544881733,-0.028003152811393095,-0.15894901676313178,0.34146943691769954,-0.2275146607132917,-0.169650482443497,-0.16941279197847597,-0.22791090109887158,-0.22849056160872105,0.30560832457515036,-0.13928588722878038,3.2525590032780496,-0.12178336614807544,-0.2193259358763313,-0.14887088229319476,-0.09526477114724735,1.5831712633030302,-0.1697486713570671,-0.16919811061041265,-0.16889796478440536,-0.16888484970075032,0.30579272980194633,0.052057097268883135,-0.18270931084384945,-0.17965474397446365,-0.16095179862291606,-0.14657516690329678,-0.16807237420177498,-0.22401789034766761,-0.1794995348276623,-0.14629337950422108,-0.17960014906549956,-0.10651147985223214,1.1464668642437552,0.30519447820949325,-0.07087670770881796,-0.22375770135217524,-0.14602706759033168,-0.08582098987450641,1.0988739589839378,-0.22846446483487282,-0.17965231963207767,-0.17266363572733398,-0.16899684770336004,-0.22838959601954006,-0.14885021071827267,-0.20360347380692514,-0.2590808340094193,8.074541311030279,-0.15368480359733613,0.3090839289734402,0.02376463735608909,-0.14607687362077312,-0.1813878109705619,-0.1695726947394238,0.1386630512020186,-0.2225078440673993,-0.09914005120109871,0.3131497186144735,-0.1698106209127963,-0.15626799532760488,-0.15993912860980078,-0.1509014747315635,-0.22755557675369142,0.3053776648348048,-0.2003819860094589,-0.1458605143998073,-0.132302889522457,-0.1532116732378755,0.30932218847667636,0.5847337713605063,2.121014781174237,-0.147994017264447,0.3190347003838566,-0.1993649735778607,-0.15810529558547065,-0.2284465571133968,-0.1698352846393278,-0.14590333209748113,-0.15001682796510432,-0.12149888207807029,3.116958694174074,-0.1085483032275072,-0.22841780487092608,-0.19879034934679443,-0.055295084186765965,-0.15260699203151865,-0.1488709199909634,0.3854530312663527,-0.16016777819702227,-0.16056152284621886,-0.13766306018749264,-0.16872326402956636,-0.1590040421706986,-0.1607839865798115,-0.1842002274769196,-0.14814432995436375,-0.11111354543855212,-0.14700783922318597,0.5289495994525837,-0.10453741202758143,-0.11082284730921851,-0.1533270275267911,-0.1486602127249351,0.5485743815808636,-0.2037067375617822,-0.1699124663554088,-0.16786022496099487,-0.11705433266468018,-0.12592388155862297,-0.14796829856253144,0.32703413424285716,-0.16107323844334662],\"type\":\"scatter3d\"},{\"customdata\":[[\"VeChainThor Authority\"],[\"Proof-of-BibleHash\"],[\"SHA-256 + Hive\"],[\"Proof-of-Authority\"]],\"hovertemplate\":\"<b>%{hovertext}</b><br><br>Class=%{marker.color}<br>PC3=%{x}<br>PC2=%{y}<br>PC1=%{z}<br>Algorithm=%{customdata[0]}<extra></extra>\",\"hovertext\":[\"Vechain\",\"BiblePay\",\"LitecoinCash\",\"Poa Network\"],\"legendgroup\":\"2\",\"marker\":{\"color\":[2,2,2,2],\"coloraxis\":\"coloraxis\",\"symbol\":\"square\"},\"mode\":\"markers\",\"name\":\"2\",\"scene\":\"scene\",\"showlegend\":true,\"x\":[12.87172260044335,11.991679269366786,20.997005760968495,13.135977654049467],\"y\":[2.928404032950195,2.222671151054435,1.9746154216754062,3.2484451153252567],\"z\":[4.370065413279098,-0.2030482555906873,-0.35470275484814173,-0.4202974019741649],\"type\":\"scatter3d\"},{\"customdata\":[[\"TRC10\"]],\"hovertemplate\":\"<b>%{hovertext}</b><br><br>Class=%{marker.color}<br>PC3=%{x}<br>PC2=%{y}<br>PC1=%{z}<br>Algorithm=%{customdata[0]}<extra></extra>\",\"hovertext\":[\"BitTorrent\"],\"legendgroup\":\"1\",\"marker\":{\"color\":[1],\"coloraxis\":\"coloraxis\",\"symbol\":\"x\"},\"mode\":\"markers\",\"name\":\"1\",\"scene\":\"scene\",\"showlegend\":true,\"x\":[-1.3497360469760449],\"y\":[1.7628071099757667],\"z\":[34.12199352660796],\"type\":\"scatter3d\"}],                        {\"template\":{\"data\":{\"bar\":[{\"error_x\":{\"color\":\"#2a3f5f\"},\"error_y\":{\"color\":\"#2a3f5f\"},\"marker\":{\"line\":{\"color\":\"#E5ECF6\",\"width\":0.5},\"pattern\":{\"fillmode\":\"overlay\",\"size\":10,\"solidity\":0.2}},\"type\":\"bar\"}],\"barpolar\":[{\"marker\":{\"line\":{\"color\":\"#E5ECF6\",\"width\":0.5},\"pattern\":{\"fillmode\":\"overlay\",\"size\":10,\"solidity\":0.2}},\"type\":\"barpolar\"}],\"carpet\":[{\"aaxis\":{\"endlinecolor\":\"#2a3f5f\",\"gridcolor\":\"white\",\"linecolor\":\"white\",\"minorgridcolor\":\"white\",\"startlinecolor\":\"#2a3f5f\"},\"baxis\":{\"endlinecolor\":\"#2a3f5f\",\"gridcolor\":\"white\",\"linecolor\":\"white\",\"minorgridcolor\":\"white\",\"startlinecolor\":\"#2a3f5f\"},\"type\":\"carpet\"}],\"choropleth\":[{\"colorbar\":{\"outlinewidth\":0,\"ticks\":\"\"},\"type\":\"choropleth\"}],\"contour\":[{\"colorbar\":{\"outlinewidth\":0,\"ticks\":\"\"},\"colorscale\":[[0.0,\"#0d0887\"],[0.1111111111111111,\"#46039f\"],[0.2222222222222222,\"#7201a8\"],[0.3333333333333333,\"#9c179e\"],[0.4444444444444444,\"#bd3786\"],[0.5555555555555556,\"#d8576b\"],[0.6666666666666666,\"#ed7953\"],[0.7777777777777778,\"#fb9f3a\"],[0.8888888888888888,\"#fdca26\"],[1.0,\"#f0f921\"]],\"type\":\"contour\"}],\"contourcarpet\":[{\"colorbar\":{\"outlinewidth\":0,\"ticks\":\"\"},\"type\":\"contourcarpet\"}],\"heatmap\":[{\"colorbar\":{\"outlinewidth\":0,\"ticks\":\"\"},\"colorscale\":[[0.0,\"#0d0887\"],[0.1111111111111111,\"#46039f\"],[0.2222222222222222,\"#7201a8\"],[0.3333333333333333,\"#9c179e\"],[0.4444444444444444,\"#bd3786\"],[0.5555555555555556,\"#d8576b\"],[0.6666666666666666,\"#ed7953\"],[0.7777777777777778,\"#fb9f3a\"],[0.8888888888888888,\"#fdca26\"],[1.0,\"#f0f921\"]],\"type\":\"heatmap\"}],\"heatmapgl\":[{\"colorbar\":{\"outlinewidth\":0,\"ticks\":\"\"},\"colorscale\":[[0.0,\"#0d0887\"],[0.1111111111111111,\"#46039f\"],[0.2222222222222222,\"#7201a8\"],[0.3333333333333333,\"#9c179e\"],[0.4444444444444444,\"#bd3786\"],[0.5555555555555556,\"#d8576b\"],[0.6666666666666666,\"#ed7953\"],[0.7777777777777778,\"#fb9f3a\"],[0.8888888888888888,\"#fdca26\"],[1.0,\"#f0f921\"]],\"type\":\"heatmapgl\"}],\"histogram\":[{\"marker\":{\"pattern\":{\"fillmode\":\"overlay\",\"size\":10,\"solidity\":0.2}},\"type\":\"histogram\"}],\"histogram2d\":[{\"colorbar\":{\"outlinewidth\":0,\"ticks\":\"\"},\"colorscale\":[[0.0,\"#0d0887\"],[0.1111111111111111,\"#46039f\"],[0.2222222222222222,\"#7201a8\"],[0.3333333333333333,\"#9c179e\"],[0.4444444444444444,\"#bd3786\"],[0.5555555555555556,\"#d8576b\"],[0.6666666666666666,\"#ed7953\"],[0.7777777777777778,\"#fb9f3a\"],[0.8888888888888888,\"#fdca26\"],[1.0,\"#f0f921\"]],\"type\":\"histogram2d\"}],\"histogram2dcontour\":[{\"colorbar\":{\"outlinewidth\":0,\"ticks\":\"\"},\"colorscale\":[[0.0,\"#0d0887\"],[0.1111111111111111,\"#46039f\"],[0.2222222222222222,\"#7201a8\"],[0.3333333333333333,\"#9c179e\"],[0.4444444444444444,\"#bd3786\"],[0.5555555555555556,\"#d8576b\"],[0.6666666666666666,\"#ed7953\"],[0.7777777777777778,\"#fb9f3a\"],[0.8888888888888888,\"#fdca26\"],[1.0,\"#f0f921\"]],\"type\":\"histogram2dcontour\"}],\"mesh3d\":[{\"colorbar\":{\"outlinewidth\":0,\"ticks\":\"\"},\"type\":\"mesh3d\"}],\"parcoords\":[{\"line\":{\"colorbar\":{\"outlinewidth\":0,\"ticks\":\"\"}},\"type\":\"parcoords\"}],\"pie\":[{\"automargin\":true,\"type\":\"pie\"}],\"scatter\":[{\"marker\":{\"colorbar\":{\"outlinewidth\":0,\"ticks\":\"\"}},\"type\":\"scatter\"}],\"scatter3d\":[{\"line\":{\"colorbar\":{\"outlinewidth\":0,\"ticks\":\"\"}},\"marker\":{\"colorbar\":{\"outlinewidth\":0,\"ticks\":\"\"}},\"type\":\"scatter3d\"}],\"scattercarpet\":[{\"marker\":{\"colorbar\":{\"outlinewidth\":0,\"ticks\":\"\"}},\"type\":\"scattercarpet\"}],\"scattergeo\":[{\"marker\":{\"colorbar\":{\"outlinewidth\":0,\"ticks\":\"\"}},\"type\":\"scattergeo\"}],\"scattergl\":[{\"marker\":{\"colorbar\":{\"outlinewidth\":0,\"ticks\":\"\"}},\"type\":\"scattergl\"}],\"scattermapbox\":[{\"marker\":{\"colorbar\":{\"outlinewidth\":0,\"ticks\":\"\"}},\"type\":\"scattermapbox\"}],\"scatterpolar\":[{\"marker\":{\"colorbar\":{\"outlinewidth\":0,\"ticks\":\"\"}},\"type\":\"scatterpolar\"}],\"scatterpolargl\":[{\"marker\":{\"colorbar\":{\"outlinewidth\":0,\"ticks\":\"\"}},\"type\":\"scatterpolargl\"}],\"scatterternary\":[{\"marker\":{\"colorbar\":{\"outlinewidth\":0,\"ticks\":\"\"}},\"type\":\"scatterternary\"}],\"surface\":[{\"colorbar\":{\"outlinewidth\":0,\"ticks\":\"\"},\"colorscale\":[[0.0,\"#0d0887\"],[0.1111111111111111,\"#46039f\"],[0.2222222222222222,\"#7201a8\"],[0.3333333333333333,\"#9c179e\"],[0.4444444444444444,\"#bd3786\"],[0.5555555555555556,\"#d8576b\"],[0.6666666666666666,\"#ed7953\"],[0.7777777777777778,\"#fb9f3a\"],[0.8888888888888888,\"#fdca26\"],[1.0,\"#f0f921\"]],\"type\":\"surface\"}],\"table\":[{\"cells\":{\"fill\":{\"color\":\"#EBF0F8\"},\"line\":{\"color\":\"white\"}},\"header\":{\"fill\":{\"color\":\"#C8D4E3\"},\"line\":{\"color\":\"white\"}},\"type\":\"table\"}]},\"layout\":{\"annotationdefaults\":{\"arrowcolor\":\"#2a3f5f\",\"arrowhead\":0,\"arrowwidth\":1},\"autotypenumbers\":\"strict\",\"coloraxis\":{\"colorbar\":{\"outlinewidth\":0,\"ticks\":\"\"}},\"colorscale\":{\"diverging\":[[0,\"#8e0152\"],[0.1,\"#c51b7d\"],[0.2,\"#de77ae\"],[0.3,\"#f1b6da\"],[0.4,\"#fde0ef\"],[0.5,\"#f7f7f7\"],[0.6,\"#e6f5d0\"],[0.7,\"#b8e186\"],[0.8,\"#7fbc41\"],[0.9,\"#4d9221\"],[1,\"#276419\"]],\"sequential\":[[0.0,\"#0d0887\"],[0.1111111111111111,\"#46039f\"],[0.2222222222222222,\"#7201a8\"],[0.3333333333333333,\"#9c179e\"],[0.4444444444444444,\"#bd3786\"],[0.5555555555555556,\"#d8576b\"],[0.6666666666666666,\"#ed7953\"],[0.7777777777777778,\"#fb9f3a\"],[0.8888888888888888,\"#fdca26\"],[1.0,\"#f0f921\"]],\"sequentialminus\":[[0.0,\"#0d0887\"],[0.1111111111111111,\"#46039f\"],[0.2222222222222222,\"#7201a8\"],[0.3333333333333333,\"#9c179e\"],[0.4444444444444444,\"#bd3786\"],[0.5555555555555556,\"#d8576b\"],[0.6666666666666666,\"#ed7953\"],[0.7777777777777778,\"#fb9f3a\"],[0.8888888888888888,\"#fdca26\"],[1.0,\"#f0f921\"]]},\"colorway\":[\"#636efa\",\"#EF553B\",\"#00cc96\",\"#ab63fa\",\"#FFA15A\",\"#19d3f3\",\"#FF6692\",\"#B6E880\",\"#FF97FF\",\"#FECB52\"],\"font\":{\"color\":\"#2a3f5f\"},\"geo\":{\"bgcolor\":\"white\",\"lakecolor\":\"white\",\"landcolor\":\"#E5ECF6\",\"showlakes\":true,\"showland\":true,\"subunitcolor\":\"white\"},\"hoverlabel\":{\"align\":\"left\"},\"hovermode\":\"closest\",\"mapbox\":{\"style\":\"light\"},\"paper_bgcolor\":\"white\",\"plot_bgcolor\":\"#E5ECF6\",\"polar\":{\"angularaxis\":{\"gridcolor\":\"white\",\"linecolor\":\"white\",\"ticks\":\"\"},\"bgcolor\":\"#E5ECF6\",\"radialaxis\":{\"gridcolor\":\"white\",\"linecolor\":\"white\",\"ticks\":\"\"}},\"scene\":{\"xaxis\":{\"backgroundcolor\":\"#E5ECF6\",\"gridcolor\":\"white\",\"gridwidth\":2,\"linecolor\":\"white\",\"showbackground\":true,\"ticks\":\"\",\"zerolinecolor\":\"white\"},\"yaxis\":{\"backgroundcolor\":\"#E5ECF6\",\"gridcolor\":\"white\",\"gridwidth\":2,\"linecolor\":\"white\",\"showbackground\":true,\"ticks\":\"\",\"zerolinecolor\":\"white\"},\"zaxis\":{\"backgroundcolor\":\"#E5ECF6\",\"gridcolor\":\"white\",\"gridwidth\":2,\"linecolor\":\"white\",\"showbackground\":true,\"ticks\":\"\",\"zerolinecolor\":\"white\"}},\"shapedefaults\":{\"line\":{\"color\":\"#2a3f5f\"}},\"ternary\":{\"aaxis\":{\"gridcolor\":\"white\",\"linecolor\":\"white\",\"ticks\":\"\"},\"baxis\":{\"gridcolor\":\"white\",\"linecolor\":\"white\",\"ticks\":\"\"},\"bgcolor\":\"#E5ECF6\",\"caxis\":{\"gridcolor\":\"white\",\"linecolor\":\"white\",\"ticks\":\"\"}},\"title\":{\"x\":0.05},\"xaxis\":{\"automargin\":true,\"gridcolor\":\"white\",\"linecolor\":\"white\",\"ticks\":\"\",\"title\":{\"standoff\":15},\"zerolinecolor\":\"white\",\"zerolinewidth\":2},\"yaxis\":{\"automargin\":true,\"gridcolor\":\"white\",\"linecolor\":\"white\",\"ticks\":\"\",\"title\":{\"standoff\":15},\"zerolinecolor\":\"white\",\"zerolinewidth\":2}}},\"scene\":{\"domain\":{\"x\":[0.0,1.0],\"y\":[0.0,1.0]},\"xaxis\":{\"title\":{\"text\":\"PC3\"}},\"yaxis\":{\"title\":{\"text\":\"PC2\"}},\"zaxis\":{\"title\":{\"text\":\"PC1\"}}},\"coloraxis\":{\"colorbar\":{\"title\":{\"text\":\"Class\"}},\"colorscale\":[[0.0,\"#0d0887\"],[0.1111111111111111,\"#46039f\"],[0.2222222222222222,\"#7201a8\"],[0.3333333333333333,\"#9c179e\"],[0.4444444444444444,\"#bd3786\"],[0.5555555555555556,\"#d8576b\"],[0.6666666666666666,\"#ed7953\"],[0.7777777777777778,\"#fb9f3a\"],[0.8888888888888888,\"#fdca26\"],[1.0,\"#f0f921\"]]},\"legend\":{\"title\":{\"text\":\"Class\"},\"tracegroupgap\":0,\"x\":0,\"y\":1},\"margin\":{\"t\":60},\"width\":800},                        {\"responsive\": true}                    ).then(function(){\n",
       "                            \n",
       "var gd = document.getElementById('e624bb5c-1f51-4dcb-90ca-d8e1d54ac407');\n",
       "var x = new MutationObserver(function (mutations, observer) {{\n",
       "        var display = window.getComputedStyle(gd).display;\n",
       "        if (!display || display === 'none') {{\n",
       "            console.log([gd, 'removed!']);\n",
       "            Plotly.purge(gd);\n",
       "            observer.disconnect();\n",
       "        }}\n",
       "}});\n",
       "\n",
       "// Listen for the removal of the full notebook cells\n",
       "var notebookContainer = gd.closest('#notebook-container');\n",
       "if (notebookContainer) {{\n",
       "    x.observe(notebookContainer, {childList: true});\n",
       "}}\n",
       "\n",
       "// Listen for the clearing of the current output cell\n",
       "var outputEl = gd.closest('.output');\n",
       "if (outputEl) {{\n",
       "    x.observe(outputEl, {childList: true});\n",
       "}}\n",
       "\n",
       "                        })                };                });            </script>        </div>"
      ]
     },
     "metadata": {},
     "output_type": "display_data"
    }
   ],
   "source": [
    "# Creating a 3D-Scatter with the PCA data and the clusters\n",
    "fig = px.scatter_3d(\n",
    "    clustered_df,\n",
    "    x=\"PC3\",\n",
    "    y=\"PC2\",\n",
    "    z=\"PC1\",\n",
    "    color=\"Class\",\n",
    "    symbol=\"Class\",\n",
    "    width=800,\n",
    "    hover_name=\"Coin Name\",\n",
    "    hover_data=[\"Algorithm\"]\n",
    ")\n",
    "fig.update_layout(legend=dict(x=0, y=1))\n",
    "fig.show()\n"
   ]
  },
  {
   "cell_type": "code",
   "execution_count": 26,
   "metadata": {},
   "outputs": [
    {
     "data": {},
     "metadata": {},
     "output_type": "display_data"
    },
    {
     "data": {
      "application/vnd.holoviews_exec.v0+json": "",
      "text/html": [
       "<div id='1120'>\n",
       "\n",
       "\n",
       "\n",
       "\n",
       "\n",
       "  <div class=\"bk-root\" id=\"3dbbfb7f-f2db-48b2-9210-165834e055e1\" data-root-id=\"1120\"></div>\n",
       "</div>\n",
       "<script type=\"application/javascript\">(function(root) {\n",
       "  function embed_document(root) {\n",
       "    var docs_json = {\"37b64be9-889e-4e19-8ed0-642a2e8bb028\":{\"defs\":[{\"extends\":null,\"module\":null,\"name\":\"ReactiveHTML1\",\"overrides\":[],\"properties\":[]},{\"extends\":null,\"module\":null,\"name\":\"FlexBox1\",\"overrides\":[],\"properties\":[{\"default\":\"flex-start\",\"kind\":null,\"name\":\"align_content\"},{\"default\":\"flex-start\",\"kind\":null,\"name\":\"align_items\"},{\"default\":\"row\",\"kind\":null,\"name\":\"flex_direction\"},{\"default\":\"wrap\",\"kind\":null,\"name\":\"flex_wrap\"},{\"default\":\"flex-start\",\"kind\":null,\"name\":\"justify_content\"}]},{\"extends\":null,\"module\":null,\"name\":\"TemplateActions1\",\"overrides\":[],\"properties\":[{\"default\":0,\"kind\":null,\"name\":\"open_modal\"},{\"default\":0,\"kind\":null,\"name\":\"close_modal\"}]},{\"extends\":null,\"module\":null,\"name\":\"MaterialTemplateActions1\",\"overrides\":[],\"properties\":[{\"default\":0,\"kind\":null,\"name\":\"open_modal\"},{\"default\":0,\"kind\":null,\"name\":\"close_modal\"}]}],\"roots\":{\"references\":[{\"attributes\":{\"editor\":{\"id\":\"1135\"},\"field\":\"Proof_Type\",\"formatter\":{\"id\":\"1134\"},\"title\":\"Proof Type\"},\"id\":\"1136\",\"type\":\"TableColumn\"},{\"attributes\":{},\"id\":\"1140\",\"type\":\"StringEditor\"},{\"attributes\":{},\"id\":\"1145\",\"type\":\"NumberEditor\"},{\"attributes\":{},\"id\":\"1130\",\"type\":\"StringEditor\"},{\"attributes\":{},\"id\":\"1149\",\"type\":\"NumberFormatter\"},{\"attributes\":{\"margin\":[5,5,5,5],\"name\":\"HSpacer01801\",\"sizing_mode\":\"stretch_width\"},\"id\":\"1161\",\"type\":\"Spacer\"},{\"attributes\":{},\"id\":\"1139\",\"type\":\"StringFormatter\"},{\"attributes\":{},\"id\":\"1150\",\"type\":\"IntEditor\"},{\"attributes\":{\"editor\":{\"id\":\"1125\"},\"field\":\"Coin_Name\",\"formatter\":{\"id\":\"1124\"},\"title\":\"Coin Name\"},\"id\":\"1126\",\"type\":\"TableColumn\"},{\"attributes\":{\"data\":{\"Algorithm\":[\"Scrypt\",\"Scrypt\",\"X13\",\"SHA-256\",\"Ethash\",\"Scrypt\",\"X11\",\"CryptoNight-V7\",\"Ethash\",\"Equihash\",\"SHA-512\",\"Multiple\",\"SHA-256\",\"SHA-256\",\"Scrypt\",\"X15\",\"X11\",\"Scrypt\",\"Scrypt\",\"Scrypt\",\"Multiple\",\"Scrypt\",\"SHA-256\",\"Scrypt\",\"Scrypt\",\"Scrypt\",\"Quark\",\"Groestl\",\"Scrypt\",\"Scrypt\",\"Scrypt\",\"Scrypt\",\"Scrypt\",\"X11\",\"Scrypt\",\"Groestl\",\"Multiple\",\"SHA-256\",\"Scrypt\",\"Scrypt\",\"Scrypt\",\"Scrypt\",\"PoS\",\"Scrypt\",\"Scrypt\",\"NeoScrypt\",\"Scrypt\",\"Scrypt\",\"Scrypt\",\"Scrypt\",\"X11\",\"Scrypt\",\"X11\",\"SHA-256\",\"Scrypt\",\"Scrypt\",\"Scrypt\",\"SHA3\",\"Scrypt\",\"HybridScryptHash256\",\"Scrypt\",\"Scrypt\",\"SHA-256\",\"Scrypt\",\"X13\",\"Scrypt\",\"SHA-256\",\"Scrypt\",\"X13\",\"NeoScrypt\",\"Scrypt\",\"Scrypt\",\"Scrypt\",\"Scrypt\",\"Scrypt\",\"Scrypt\",\"X11\",\"X11\",\"SHA-256\",\"Multiple\",\"SHA-256\",\"PHI1612\",\"X11\",\"SHA-256\",\"SHA-256\",\"SHA-256\",\"X11\",\"Scrypt\",\"Scrypt\",\"Scrypt\",\"Scrypt\",\"Lyra2REv2\",\"Scrypt\",\"X11\",\"Multiple\",\"SHA-256\",\"X13\",\"Scrypt\",\"CryptoNight\",\"CryptoNight\",\"Shabal256\",\"Counterparty\",\"Scrypt\",\"SHA-256\",\"Groestl\",\"Scrypt\",\"Scrypt\",\"Scrypt\",\"X13\",\"Scrypt\",\"Scrypt\",\"Scrypt\",\"Scrypt\",\"X13\",\"Scrypt\",\"Stanford Folding\",\"X11\",\"Multiple\",\"QuBit\",\"Scrypt\",\"Scrypt\",\"Scrypt\",\"M7 POW\",\"Scrypt\",\"SHA-256\",\"Scrypt\",\"X11\",\"SHA3\",\"X11\",\"Lyra2RE\",\"SHA-256\",\"QUAIT\",\"X11\",\"X11\",\"Scrypt\",\"Scrypt\",\"Scrypt\",\"Ethash\",\"X13\",\"Blake2b\",\"SHA-256\",\"X15\",\"X11\",\"SHA-256\",\"BLAKE256\",\"Scrypt\",\"1GB AES Pattern Search\",\"SHA-256\",\"X11\",\"Scrypt\",\"SHA-256\",\"SHA-256\",\"NIST5\",\"Scrypt\",\"Scrypt\",\"X11\",\"Dagger\",\"Scrypt\",\"X11GOST\",\"X11\",\"Scrypt\",\"SHA-256\",\"Scrypt\",\"PoS\",\"Scrypt\",\"X11\",\"X11\",\"SHA-256\",\"SHA-256\",\"NIST5\",\"X11\",\"Scrypt\",\"POS 3.0\",\"Scrypt\",\"Scrypt\",\"Scrypt\",\"X13\",\"X11\",\"X11\",\"Equihash\",\"X11\",\"Scrypt\",\"CryptoNight\",\"SHA-256\",\"SHA-256\",\"X11\",\"Scrypt\",\"Multiple\",\"Scrypt\",\"Scrypt\",\"Scrypt\",\"SHA-256\",\"Scrypt\",\"Scrypt\",\"SHA-256D\",\"PoS\",\"Scrypt\",\"X11\",\"Lyra2Z\",\"PoS\",\"X13\",\"X14\",\"PoS\",\"SHA-256D\",\"Ethash\",\"Equihash\",\"DPoS\",\"X11\",\"Scrypt\",\"X11\",\"X13\",\"X11\",\"PoS\",\"Scrypt\",\"Scrypt\",\"X11\",\"PoS\",\"X11\",\"SHA-256\",\"Scrypt\",\"X11\",\"Scrypt\",\"Scrypt\",\"X11\",\"CryptoNight\",\"Scrypt\",\"Scrypt\",\"Scrypt\",\"Scrypt\",\"Quark\",\"QuBit\",\"Scrypt\",\"CryptoNight\",\"Lyra2RE\",\"Scrypt\",\"SHA-256\",\"X11\",\"Scrypt\",\"X11\",\"Scrypt\",\"CryptoNight-V7\",\"Scrypt\",\"Scrypt\",\"Scrypt\",\"X13\",\"X11\",\"Equihash\",\"Scrypt\",\"Scrypt\",\"Lyra2RE\",\"Scrypt\",\"Dagger-Hashimoto\",\"X11\",\"Blake2S\",\"X11\",\"Scrypt\",\"PoS\",\"X11\",\"NIST5\",\"PoS\",\"X11\",\"Scrypt\",\"Scrypt\",\"Scrypt\",\"SHA-256\",\"X11\",\"Scrypt\",\"Scrypt\",\"SHA-256\",\"PoS\",\"Scrypt\",\"X15\",\"SHA-256\",\"Scrypt\",\"POS 3.0\",\"CryptoNight-V7\",\"536\",\"Argon2d\",\"Blake2b\",\"Cloverhash\",\"CryptoNight\",\"NIST5\",\"X11\",\"NIST5\",\"Skein\",\"Scrypt\",\"X13\",\"Scrypt\",\"X11\",\"X11\",\"Scrypt\",\"CryptoNight\",\"X13\",\"Time Travel\",\"Scrypt\",\"Keccak\",\"SkunkHash v2 Raptor\",\"X11\",\"Skein\",\"SHA-256\",\"X11\",\"Scrypt\",\"VeChainThor Authority\",\"Scrypt\",\"PoS\",\"Scrypt\",\"Scrypt\",\"Scrypt\",\"Scrypt\",\"Scrypt\",\"Scrypt\",\"Scrypt\",\"CryptoNight\",\"SHA-512\",\"Ouroboros\",\"X11\",\"Equihash\",\"NeoScrypt\",\"X11\",\"Scrypt\",\"NeoScrypt\",\"Lyra2REv2\",\"Equihash\",\"Scrypt\",\"SHA-256\",\"NIST5\",\"PHI1612\",\"Dagger\",\"Scrypt\",\"Quark\",\"Scrypt\",\"POS 2.0\",\"Scrypt\",\"SHA-256\",\"X11\",\"NeoScrypt\",\"Ethash\",\"NeoScrypt\",\"X11\",\"DPoS\",\"NIST5\",\"X13\",\"Multiple\",\"Scrypt\",\"CryptoNight\",\"CryptoNight\",\"Ethash\",\"NIST5\",\"Quark\",\"X11\",\"CryptoNight-V7\",\"Scrypt\",\"Scrypt\",\"Scrypt\",\"X11\",\"BLAKE256\",\"X11\",\"NeoScrypt\",\"Quark\",\"NeoScrypt\",\"Scrypt\",\"Scrypt\",\"Scrypt\",\"X11\",\"X11\",\"SHA-256\",\"C11\",\"POS 3.0\",\"Ethash\",\"Scrypt\",\"CryptoNight\",\"SkunkHash\",\"Scrypt\",\"CryptoNight\",\"Scrypt\",\"Dagger\",\"Lyra2REv2\",\"X13\",\"Proof-of-BibleHash\",\"SHA-256 + Hive\",\"Scrypt\",\"Scrypt\",\"X11\",\"C11\",\"Proof-of-Authority\",\"X11\",\"XEVAN\",\"Scrypt\",\"VBFT\",\"Ethash\",\"CryptoNight\",\"Scrypt\",\"IMesh\",\"NIST5\",\"Scrypt\",\"Scrypt\",\"Equihash\",\"Scrypt\",\"Lyra2Z\",\"Green Protocol\",\"PoS\",\"Scrypt\",\"Semux BFT consensus\",\"X11\",\"Quark\",\"PoS\",\"CryptoNight\",\"X16R\",\"Scrypt\",\"NIST5\",\"Lyra2RE\",\"XEVAN\",\"Tribus\",\"Scrypt\",\"Lyra2Z\",\"CryptoNight\",\"CryptoNight Heavy\",\"CryptoNight\",\"Scrypt\",\"Scrypt\",\"Jump Consistent Hash\",\"SHA-256D\",\"CryptoNight\",\"Scrypt\",\"X15\",\"Scrypt\",\"Quark\",\"SHA-256\",\"DPoS\",\"X16R\",\"HMQ1725\",\"X11\",\"X16R\",\"Quark\",\"Quark\",\"Scrypt\",\"Lyra2REv2\",\"Quark\",\"Scrypt\",\"Scrypt\",\"CryptoNight-V7\",\"Cryptonight-GPU\",\"XEVAN\",\"CryptoNight Heavy\",\"X11\",\"X11\",\"Scrypt\",\"PoS\",\"SHA-256\",\"Keccak\",\"X11\",\"X11\",\"Scrypt\",\"SHA-512\",\"X16R\",\"ECC 256K1\",\"Equihash\",\"XEVAN\",\"Lyra2Z\",\"SHA-256\",\"XEVAN\",\"X11\",\"CryptoNight\",\"Quark\",\"Blake\",\"Blake\",\"Equihash\",\"Exosis\",\"Scrypt\",\"Scrypt\",\"Equihash\",\"Quark\",\"Equihash\",\"Quark\",\"Scrypt\",\"QuBit\",\"X11\",\"Scrypt\",\"XEVAN\",\"SHA-256D\",\"X11\",\"SHA-256\",\"X13\",\"SHA-256\",\"X11\",\"DPoS\",\"Scrypt\",\"Scrypt\",\"X11\",\"NeoScrypt\",\"Scrypt\",\"Blake\",\"Scrypt\",\"SHA-256\",\"Scrypt\",\"X11\",\"Scrypt\",\"Scrypt\",\"SHA-256\",\"X11\",\"SHA-256\",\"Scrypt\",\"Scrypt\",\"Scrypt\",\"Groestl\",\"X11\",\"Scrypt\",\"PoS\",\"Scrypt\",\"Scrypt\",\"X11\",\"SHA-256\",\"DPoS\",\"Scrypt\",\"Scrypt\",\"NeoScrypt\",\"Multiple\",\"X13\",\"Equihash+Scrypt\",\"DPoS\",\"Ethash\",\"DPoS\",\"SHA-256\",\"Leased POS\",\"PoS\",\"TRC10\",\"PoS\",\"SHA-256\",\"Scrypt\",\"CryptoNight\",\"Equihash\",\"Scrypt\"],\"Class\":{\"__ndarray__\":\"AAAAAAAAAAAAAAAAAwAAAAMAAAADAAAAAAAAAAMAAAADAAAAAwAAAAAAAAADAAAAAAAAAAAAAAADAAAAAAAAAAMAAAADAAAAAAAAAAAAAAADAAAAAwAAAAMAAAADAAAAAwAAAAAAAAADAAAAAwAAAAMAAAAAAAAAAwAAAAAAAAADAAAAAwAAAAAAAAAAAAAAAwAAAAMAAAADAAAAAwAAAAMAAAADAAAAAAAAAAAAAAADAAAAAwAAAAMAAAADAAAAAwAAAAAAAAAAAAAAAwAAAAAAAAADAAAAAwAAAAMAAAADAAAAAAAAAAMAAAADAAAAAAAAAAMAAAAAAAAAAAAAAAAAAAADAAAAAwAAAAMAAAAAAAAAAAAAAAAAAAAAAAAAAAAAAAMAAAADAAAAAwAAAAAAAAAAAAAAAwAAAAAAAAADAAAAAAAAAAAAAAADAAAAAwAAAAMAAAADAAAAAAAAAAAAAAADAAAAAAAAAAMAAAADAAAAAAAAAAAAAAADAAAAAAAAAAAAAAADAAAAAwAAAAAAAAAAAAAAAwAAAAAAAAAAAAAAAwAAAAAAAAADAAAAAAAAAAMAAAAAAAAAAwAAAAAAAAAAAAAAAwAAAAMAAAAAAAAAAwAAAAMAAAADAAAAAAAAAAMAAAADAAAAAwAAAAMAAAADAAAAAAAAAAAAAAADAAAAAwAAAAMAAAAAAAAAAwAAAAAAAAADAAAAAwAAAAAAAAADAAAAAAAAAAMAAAAAAAAAAAAAAAMAAAADAAAAAAAAAAMAAAADAAAAAAAAAAAAAAADAAAAAAAAAAMAAAAAAAAAAAAAAAAAAAADAAAAAwAAAAMAAAADAAAAAAAAAAAAAAAAAAAAAAAAAAAAAAADAAAAAwAAAAAAAAAAAAAAAAAAAAAAAAAAAAAAAwAAAAAAAAAAAAAAAAAAAAAAAAAAAAAAAwAAAAAAAAAAAAAAAAAAAAAAAAADAAAAAAAAAAMAAAAAAAAAAAAAAAMAAAAAAAAAAwAAAAAAAAADAAAAAAAAAAMAAAAAAAAAAAAAAAAAAAAAAAAAAwAAAAAAAAAAAAAAAAAAAAAAAAAAAAAAAwAAAAMAAAAAAAAAAAAAAAMAAAADAAAAAAAAAAAAAAAAAAAAAAAAAAAAAAADAAAAAAAAAAAAAAAAAAAAAAAAAAAAAAAAAAAAAAAAAAAAAAADAAAAAAAAAAAAAAAAAAAAAAAAAAAAAAAAAAAAAwAAAAMAAAADAAAAAAAAAAAAAAAAAAAAAAAAAAMAAAAAAAAAAwAAAAAAAAAAAAAAAwAAAAAAAAADAAAAAwAAAAAAAAADAAAAAwAAAAAAAAADAAAAAAAAAAAAAAAAAAAAAwAAAAAAAAAAAAAAAwAAAAAAAAAAAAAAAAAAAAAAAAAAAAAAAAAAAAAAAAADAAAAAAAAAAMAAAAAAAAAAAAAAAAAAAAAAAAAAwAAAAAAAAADAAAAAAAAAAMAAAADAAAAAwAAAAMAAAAAAAAAAwAAAAAAAAAAAAAAAwAAAAAAAAADAAAAAwAAAAMAAAAAAAAAAwAAAAAAAAADAAAAAwAAAAMAAAAAAAAAAwAAAAAAAAADAAAAAAAAAAAAAAACAAAAAwAAAAAAAAADAAAAAwAAAAMAAAADAAAAAwAAAAAAAAAAAAAAAwAAAAAAAAAAAAAAAAAAAAMAAAAAAAAAAwAAAAAAAAADAAAAAAAAAAMAAAAAAAAAAAAAAAAAAAAAAAAAAwAAAAAAAAAAAAAAAwAAAAAAAAAAAAAAAAAAAAMAAAADAAAAAwAAAAMAAAAAAAAAAAAAAAAAAAAAAAAAAwAAAAAAAAADAAAAAwAAAAMAAAAAAAAAAAAAAAMAAAADAAAAAAAAAAAAAAADAAAAAAAAAAMAAAADAAAAAwAAAAAAAAADAAAAAwAAAAAAAAAAAAAAAAAAAAMAAAADAAAAAwAAAAAAAAADAAAAAAAAAAMAAAADAAAAAAAAAAMAAAADAAAAAwAAAAMAAAAAAAAAAgAAAAIAAAADAAAAAwAAAAMAAAAAAAAAAgAAAAAAAAAAAAAAAAAAAAAAAAADAAAAAwAAAAMAAAADAAAAAAAAAAAAAAAAAAAAAwAAAAAAAAADAAAAAAAAAAAAAAAAAAAAAAAAAAMAAAAAAAAAAAAAAAMAAAAAAAAAAAAAAAMAAAADAAAAAAAAAAMAAAAAAAAAAwAAAAMAAAADAAAAAwAAAAAAAAAAAAAAAwAAAAAAAAADAAAAAAAAAAAAAAAAAAAAAAAAAAAAAAAAAAAAAwAAAAMAAAADAAAAAAAAAAAAAAAAAAAAAAAAAAAAAAAAAAAAAwAAAAAAAAADAAAAAwAAAAMAAAADAAAAAAAAAAAAAAAAAAAAAAAAAAMAAAAAAAAAAAAAAAMAAAAAAAAAAAAAAAMAAAAAAAAAAwAAAAAAAAADAAAAAwAAAAAAAAAAAAAAAwAAAAAAAAADAAAAAwAAAAAAAAADAAAAAwAAAAAAAAADAAAAAAAAAAMAAAAAAAAAAAAAAAMAAAAAAAAAAAAAAAAAAAAAAAAAAAAAAAMAAAADAAAAAwAAAAAAAAAAAAAAAAAAAAMAAAAAAAAAAwAAAAAAAAADAAAAAAAAAAAAAAAAAAAAAAAAAAMAAAAAAAAAAAAAAAAAAAADAAAAAAAAAAMAAAAAAAAAAwAAAAAAAAAAAAAAAAAAAAMAAAADAAAAAAAAAAAAAAAAAAAAAAAAAAAAAAAAAAAAAwAAAAAAAAADAAAAAAAAAAMAAAAAAAAAAAAAAAAAAAAAAAAAAQAAAAAAAAAAAAAAAAAAAAMAAAADAAAAAAAAAA==\",\"dtype\":\"int32\",\"order\":\"little\",\"shape\":[532]},\"Coin_Name\":[\"42 Coin\",\"404Coin\",\"EliteCoin\",\"Bitcoin\",\"Ethereum\",\"Litecoin\",\"Dash\",\"Monero\",\"Ethereum Classic\",\"ZCash\",\"Bitshares\",\"DigiByte\",\"BitcoinDark\",\"PayCoin\",\"ProsperCoin\",\"KoboCoin\",\"Spreadcoin\",\"Argentum\",\"Aurora Coin\",\"BlueCoin\",\"MyriadCoin\",\"MoonCoin\",\"ZetaCoin\",\"SexCoin\",\"Quatloo\",\"EnergyCoin\",\"QuarkCoin\",\"Riecoin\",\"Digitalcoin \",\"BitBar\",\"Catcoin\",\"CryptoBullion\",\"CannaCoin\",\"CryptCoin\",\"CasinoCoin\",\"Diamond\",\"Verge\",\"DevCoin\",\"EarthCoin\",\"E-Gulden\",\"Einsteinium\",\"Emerald\",\"Exclusive Coin\",\"FlutterCoin\",\"Franko\",\"FeatherCoin\",\"GrandCoin\",\"GlobalCoin\",\"GoldCoin\",\"HoboNickels\",\"HyperStake\",\"Infinite Coin\",\"IOCoin\",\"IXcoin\",\"KrugerCoin\",\"LuckyCoin\",\"Litebar \",\"MaxCoin\",\"MegaCoin\",\"MediterraneanCoin\",\"MintCoin\",\"MinCoin\",\"MazaCoin\",\"Nautilus Coin\",\"NavCoin\",\"NobleCoin\",\"Namecoin\",\"NyanCoin\",\"OpalCoin\",\"Orbitcoin\",\"PotCoin\",\"PhoenixCoin\",\"Reddcoin\",\"RonPaulCoin\",\"StableCoin\",\"SmartCoin\",\"SuperCoin\",\"SyncCoin\",\"SysCoin\",\"TeslaCoin\",\"TigerCoin\",\"TittieCoin\",\"TorCoin\",\"TerraCoin\",\"UnbreakableCoin\",\"Unobtanium\",\"UroCoin\",\"UnitaryStatus Dollar\",\"UltraCoin\",\"ViaCoin\",\"VeriCoin\",\"Vertcoin\",\"WorldCoin\",\"X11 Coin\",\"Crypti\",\"JouleCoin\",\"StealthCoin\",\"ZCC Coin\",\"ByteCoin\",\"DigitalNote \",\"BurstCoin\",\"StorjCoin\",\"MonaCoin\",\"Neutron\",\"FairCoin\",\"Gulden\",\"RubyCoin\",\"PesetaCoin\",\"Kore\",\"Wild Beast Coin\",\"Dnotes\",\"Flo\",\"8BIT Coin\",\"Sativa Coin\",\"ArtByte\",\"Folding Coin\",\"Ucoin\",\"Unitus\",\"CypherPunkCoin\",\"OmniCron\",\"Vtorrent\",\"GreenCoin\",\"Cryptonite\",\"MasterCoin\",\"SoonCoin\",\"1Credit\",\"IslaCoin\",\"Nexus\",\"MarsCoin \",\"Crypto\",\"Anarchists Prime\",\"Droidz\",\"BowsCoin\",\"Squall Coin\",\"Song Coin\",\"BitZeny\",\"Diggits\",\"Expanse\",\"Paycon\",\"Siacoin\",\"Emercoin\",\"EverGreenCoin\",\"MindCoin\",\"I0coin\",\"Decred\",\"Revolution VR\",\"HOdlcoin\",\"EDRCoin\",\"Hitcoin\",\"Gamecredits\",\"DubaiCoin\",\"CarpeDiemCoin\",\"PWR Coin\",\"BillaryCoin\",\"GPU Coin\",\"Adzcoin\",\"SoilCoin\",\"YoCoin\",\"SibCoin\",\"EuropeCoin\",\"ZeitCoin\",\"SwingCoin\",\"SafeExchangeCoin\",\"Nebuchadnezzar\",\"Francs\",\"BolivarCoin\",\"Ratecoin\",\"Revenu\",\"Clockcoin\",\"VIP Tokens\",\"BitSend\",\"Omni\",\"Let it Ride\",\"PutinCoin\",\"iBankCoin\",\"Frankywillcoin\",\"MudraCoin\",\"PizzaCoin\",\"Lutetium Coin\",\"Komodo\",\"GoldBlocks\",\"CarterCoin\",\"Karbo\",\"BitTokens\",\"ZayedCoin\",\"MustangCoin\",\"ZoneCoin\",\"Circuits of Value\",\"RootCoin\",\"DopeCoin\",\"BitCurrency\",\"DollarCoin\",\"Swiscoin\",\"Shilling\",\"BuzzCoin\",\"Opair\",\"PesoBit\",\"Halloween Coin\",\"ZCoin\",\"CoffeeCoin\",\"RoyalCoin\",\"GanjaCoin V2\",\"TeamUP\",\"LanaCoin\",\"Elementrem\",\"ZClassic\",\"ARK\",\"InsaneCoin\",\"KiloCoin\",\"ArtexCoin\",\"EmberCoin\",\"XenixCoin\",\"FreeCoin\",\"PLNCoin\",\"AquariusCoin\",\"Kurrent\",\"Creatio\",\"Eternity\",\"Eurocoin\",\"BitcoinFast\",\"Stakenet\",\"BitConnect Coin\",\"MoneyCoin\",\"Enigma\",\"Cannabis Industry Coin\",\"Russiacoin\",\"PandaCoin\",\"GameUnits\",\"GAKHcoin\",\"Allsafe\",\"LiteCreed\",\"OsmiumCoin\",\"Bikercoins\",\"HexxCoin\",\"Klingon Empire Darsek\",\"Internet of People\",\"KushCoin\",\"Printerium\",\"PacCoin\",\"Impeach\",\"Citadel\",\"Zilbercoin\",\"FirstCoin\",\"BeaverCoin\",\"FindCoin\",\"VaultCoin\",\"Zero\",\"OpenChat\",\"Canada eCoin\",\"Zoin\",\"RenosCoin\",\"DubaiCoin\",\"VirtacoinPlus\",\"TajCoin\",\"Impact\",\"EB3coin\",\"Atmos\",\"HappyCoin\",\"Coinonat\",\"MacronCoin\",\"Condensate\",\"Independent Money System\",\"ArgusCoin\",\"LomoCoin\",\"ProCurrency\",\"GoldReserve\",\"BenjiRolls\",\"GrowthCoin\",\"ILCoin\",\"Phreak\",\"Degas Coin\",\"HTML5 Coin\",\"Ultimate Secure Cash\",\"EquiTrader\",\"QTUM\",\"Quantum Resistant Ledger\",\"Espers\",\"Dynamic\",\"Nano\",\"ChanCoin\",\"Dinastycoin\",\"Denarius\",\"DigitalPrice\",\"Virta Unique Coin\",\"Bitcoin Planet\",\"Unify\",\"BritCoin\",\"SocialCoin\",\"ArcticCoin\",\"DAS\",\"Linda\",\"LeviarCoin\",\"DeepOnion\",\"Bitcore\",\"gCn Coin\",\"SmartCash\",\"Signatum\",\"Onix\",\"Cream\",\"Bitcoin Cash\",\"Monoeci\",\"Draftcoin\",\"Vechain\",\"Sojourn Coin\",\"Stakecoin\",\"NewYorkCoin\",\"FrazCoin\",\"Kronecoin\",\"AdCoin\",\"Linx\",\"CoinonatX\",\"Ethereum Dark\",\"Sumokoin\",\"Obsidian\",\"Cardano\",\"Regalcoin\",\"BitcoinZ\",\"TrezarCoin\",\"Elements\",\"TerraNovaCoin\",\"VIVO Coin\",\"Rupee\",\"Bitcoin Gold\",\"WomenCoin\",\"Theresa May Coin\",\"NamoCoin\",\"LUXCoin\",\"Pirl\",\"Xios\",\"Bitcloud 2.0\",\"eBoost\",\"KekCoin\",\"BlackholeCoin\",\"Infinity Economics\",\"Pura\",\"Innova\",\"Ellaism\",\"GoByte\",\"Magnet\",\"Lamden Tau\",\"Electra\",\"Bitcoin Diamond\",\"SHIELD\",\"Cash & Back Coin\",\"UltraNote\",\"BitCoal\",\"DaxxCoin\",\"Bulwark\",\"Kalkulus\",\"AC3\",\"Lethean\",\"GermanCoin\",\"LiteCoin Ultra\",\"PopularCoin\",\"PhantomX\",\"Photon\",\"Sucre\",\"SparksPay\",\"Digiwage\",\"GunCoin\",\"IrishCoin\",\"Trollcoin\",\"Litecoin Plus\",\"Monkey Project\",\"Pioneer Coin\",\"UnitedBitcoin\",\"Interzone\",\"TokenPay\",\"1717 Masonic Commemorative Token\",\"My Big Coin\",\"TurtleCoin\",\"MUNcoin\",\"Unified Society USDEX\",\"Niobio Cash\",\"ShareChain\",\"Travelflex\",\"KREDS\",\"Tokyo Coin\",\"BiblePay\",\"LitecoinCash\",\"BitFlip\",\"LottoCoin\",\"Crypto Improvement Fund\",\"Stipend\",\"Poa Network\",\"Pushi\",\"Ellerium\",\"Velox\",\"Ontology\",\"Callisto Network\",\"BitTube\",\"Poseidon\",\"Aidos Kuneen\",\"Bitspace\",\"Briacoin\",\"Ignition\",\"Bitrolium\",\"MedicCoin\",\"Alpenschillling\",\"Bitcoin Green\",\"Deviant Coin\",\"Abjcoin\",\"Semux\",\"FuturoCoin\",\"Carebit\",\"Zealium\",\"Monero Classic\",\"Proton\",\"iDealCash\",\"Jumpcoin\",\"Infinex\",\"Bitcoin Incognito\",\"KEYCO\",\"HollyWoodCoin\",\"GINcoin\",\"PlatinCoin\",\"Loki\",\"Newton Coin\",\"Swisscoin\",\"Xt3ch\",\"MassGrid\",\"TheVig\",\"PluraCoin\",\"EmaratCoin\",\"Dekado\",\"Lynx\",\"Poseidon Quark\",\"BitcoinWSpectrum\",\"Muse\",\"Motion\",\"PlusOneCoin\",\"Axe\",\"Trivechain\",\"Dystem\",\"Giant\",\"Peony Coin\",\"Absolute Coin\",\"Vitae\",\"HexCoin\",\"TPCash\",\"Webchain\",\"Ryo\",\"Urals Coin\",\"Qwertycoin\",\"ARENON\",\"EUNO\",\"MMOCoin\",\"Ketan\",\"Project Pai\",\"XDNA\",\"PAXEX\",\"Azart\",\"ThunderStake\",\"Kcash\",\"Xchange\",\"Acute Angle Cloud\",\"CrypticCoin\",\"Bettex coin\",\"Actinium\",\"Bitcoin SV\",\"BitMoney\",\"Junson Ming Chan Coin\",\"FREDEnergy\",\"HerbCoin\",\"Universal Molecule\",\"Lithium\",\"PirateCash\",\"Exosis\",\"Block-Logic\",\"Oduwa\",\"Beam\",\"Galilel\",\"Bithereum\",\"Crypto Sports\",\"Credit\",\"SLICE\",\"Dash Platinum\",\"Nasdacoin\",\"Beetle Coin\",\"Titan Coin\",\"Award\",\"BLAST\",\"Bitcoin Rhodium\",\"GlobalToken\",\"Insane Coin\",\"ALAX\",\"LiteDoge\",\"SolarCoin\",\"TruckCoin\",\"UFO Coin\",\"OrangeCoin\",\"BlakeCoin\",\"BitstarCoin\",\"NeosCoin\",\"HyperCoin\",\"PinkCoin\",\"Crypto Escudo\",\"AudioCoin\",\"IncaKoin\",\"Piggy Coin\",\"Crown Coin\",\"Genstake\",\"SmileyCoin\",\"XiaoMiCoin\",\"Groestlcoin\",\"CapriCoin\",\" ClubCoin\",\"Radium\",\"Bata\",\"Pakcoin\",\"Creditbit \",\"OKCash\",\"Lisk\",\"HiCoin\",\"WhiteCoin\",\"FriendshipCoin\",\"JoinCoin\",\"Triangles Coin\",\"Vollar\",\"EOS\",\"Reality Clash\",\"Oxycoin\",\"TigerCash\",\"Waves\",\"Particl\",\"BitTorrent\",\"Nxt\",\"ZEPHYR\",\"Gapcoin\",\"Beldex\",\"Horizen\",\"BitcoinPlus\"],\"Proof_Type\":[\"PoW/PoS\",\"PoW/PoS\",\"PoW/PoS\",\"PoW\",\"PoW\",\"PoW\",\"PoW/PoS\",\"PoW\",\"PoW\",\"PoW\",\"PoS\",\"PoW\",\"PoW/PoS\",\"PoS\",\"PoW\",\"PoW/PoS\",\"PoW\",\"PoW\",\"PoW/PoS\",\"PoW/PoS\",\"PoW\",\"PoW\",\"PoW\",\"PoW\",\"PoW\",\"PoW/PoS\",\"PoW\",\"PoW\",\"PoW\",\"PoW/PoS\",\"PoW\",\"PoW/PoS\",\"PoW\",\"PoW\",\"PoC\",\"PoW/PoS\",\"PoW\",\"PoW\",\"PoW\",\"PoW\",\"PoW\",\"PoW\",\"PoS\",\"PoS/PoW/PoT\",\"PoW\",\"PoW\",\"PoW\",\"PoW\",\"PoW\",\"PoW/PoS\",\"PoS\",\"PoW\",\"PoW/PoS\",\"PoW\",\"PoW\",\"PoW\",\"PoW\",\"PoW/PoS\",\"PoW\",\"PoW\",\"PoS\",\"PoW\",\"PoW/PoS\",\"PoS\",\"PoW/PoS\",\"PoW\",\"PoW\",\"PoW\",\"PoW/PoS\",\"PoW/PoS\",\"PoW/PoS\",\"PoW/PoS\",\"PoW/PoS\",\"PoW\",\"PoW\",\"PoW\",\"PoS\",\"PoW/PoS\",\"PoW\",\"PoS\",\"PoW\",\"PoS\",\"PoW/PoS\",\"PoW\",\"PoW\",\"PoW\",\"PoW\",\"PoW/PoS\",\"PoW/PoS\",\"PoW\",\"PoST\",\"PoW\",\"PoW\",\"PoW/PoS\",\"PoS\",\"PoW\",\"PoW/PoS\",\"PoW/PoS\",\"PoW\",\"PoW\",\"PoC\",\"PoS\",\"PoW\",\"PoW/PoS\",\"PoW/PoS\",\"PoW\",\"PoS\",\"PoW\",\"PoW/PoS\",\"PoW\",\"PoS\",\"PoW\",\"PoW/PoS\",\"PoW/PoS\",\"PoW\",\"PoW\",\"PoS\",\"PoW\",\"PoW\",\"PoW\",\"PoW/PoS\",\"PoW\",\"PoW\",\"PoW\",\"PoW\",\"PoW\",\"PoW/PoS\",\"PoW/nPoS\",\"PoW\",\"PoW\",\"PoW\",\"PoW/PoS\",\"PoW\",\"PoS/PoW\",\"PoW\",\"PoW\",\"PoS\",\"PoW\",\"PoW/PoS\",\"PoW\",\"PoW/PoS\",\"PoW/PoS\",\"PoW\",\"PoW\",\"PoW/PoS\",\"PoW\",\"PoW\",\"PoW/PoS\",\"PoW/PoS\",\"PoW\",\"PoW/PoS\",\"PoW\",\"PoW/PoS\",\"PoW/PoS\",\"PoS\",\"PoW\",\"PoW\",\"PoW\",\"PoW\",\"PoW/PoS\",\"PoS\",\"PoW/PoS\",\"PoC\",\"PoS\",\"PoW\",\"PoW\",\"PoW/PoS\",\"PoW/PoS\",\"PoW/PoS\",\"PoW/PoS\",\"PoW/PoS\",\"PoW\",\"PoS\",\"PoW/PoS\",\"PoW/PoS\",\"PoW/PoS\",\"PoS\",\"PoW\",\"PoS\",\"dPoW/PoW\",\"PoW/PoS\",\"PoW/PoS\",\"PoW\",\"PoW/PoS\",\"PoW\",\"PoW/PoS\",\"PoW/PoS\",\"PoW\",\"PoW/PoS\",\"PoW\",\"PoS\",\"PoW\",\"PoW/PoW\",\"PoW\",\"PoW/PoS\",\"PoS\",\"PoW/PoS\",\"PoW/PoS\",\"PoW\",\"PoS\",\"PoS\",\"PoW/PoS\",\"PoS\",\"PoW/PoS\",\"PoW\",\"PoW\",\"DPoS\",\"PoW/PoS\",\"PoW\",\"PoW\",\"PoW/PoS\",\"PoW/PoS\",\"PoS\",\"PoW/PoS\",\"PoW/PoS\",\"PoW\",\"PoS\",\"PoW/PoS\",\"PoW/PoS\",\"PoW/PoS\",\"TPoS\",\"PoW/PoS\",\"PoW/PoS\",\"PoW/PoS\",\"PoW\",\"PoW/PoS\",\"PoS\",\"PoW/PoS\",\"PoW/PoS\",\"PoS\",\"PoW/PoS\",\"PoW\",\"PoW\",\"PoW\",\"PoW/PoS\",\"PoW/PoS\",\"PoW/PoS\",\"PoW/PoS\",\"PoW\",\"PoW/PoS\",\"PoW\",\"PoS\",\"PoW/PoS \",\"PoW\",\"PoS\",\"PoW\",\"PoW\",\"PoW/PoS\",\"PoW\",\"PoW\",\"PoS\",\"PoW\",\"PoW/PoS\",\"PoW/PoS\",\"PoW/PoS\",\"PoW\",\"PoS\",\"PoW/PoS\",\"PoW\",\"PoS\",\"PoW/PoS\",\"PoW/PoS\",\"PoW/PoS\",\"PoW/PoS\",\"PoS\",\"PoW/PoS\",\"PoW\",\"PoS\",\"PoW\",\"PoS\",\"PoW/PoS\",\"PoW/PoS\",\"PoS\",\"PoW\",\"PoS\",\"PoW\",\"PoW/PoS\",\"PoW\",\"PoW\",\"PoW\",\"PoW\",\"PoW/PoS\",\"PoW\",\"PoW/PoS\",\"PoW/PoS\",\"PoW\",\"PoW/PoS\",\"PoW\",\"PoW\",\"PoW\",\"PoW/PoS\",\"PoW\",\"PoW/PoS\",\"PoW\",\"PoW\",\"PoW\",\"PoS\",\"PoW\",\"PoW/PoS\",\"PoW\",\"PoW/PoS\",\"PoS\",\"Proof of Authority\",\"PoW\",\"PoS\",\"PoW\",\"PoW\",\"PoW\",\"PoW\",\"PoW\",\"PoW/PoS\",\"PoW/PoS\",\"PoW\",\"PoS\",\"PoS\",\"PoW/PoS\",\"PoW\",\"PoW/PoS\",\"PoW\",\"PoW/PoS\",\"PoW\",\"PoS\",\"PoW\",\"PoW/PoS\",\"PoW/PoS\",\"PoW/PoS\",\"PoW/PoS\",\"PoW\",\"PoW/PoS\",\"PoW/PoS\",\"PoW\",\"PoS\",\"PoW/PoS\",\"PoS\",\"PoW\",\"PoW\",\"PoW\",\"PoW\",\"PoW/PoS\",\"DPoS\",\"PoW/PoS\",\"PoW/PoS\",\"PoW\",\"PoW/PoS\",\"PoW\",\"PoW\",\"PoW\",\"PoS\",\"PoS\",\"PoW\",\"PoW\",\"PoW/PoS\",\"PoW/PoS\",\"PoW\",\"PoW/PoS\",\"PoW\",\"PoW\",\"PoW\",\"PoS\",\"PoW\",\"PoW\",\"PoW/PoS\",\"PoW/PoS\",\"PoS\",\"PoW\",\"PoW\",\"PoW\",\"PoS\",\"PoS\",\"PoW and PoS\",\"PoW\",\"PoW\",\"PoW/PoS\",\"PoW\",\"PoW\",\"PoW\",\"PoW\",\"PoS\",\"POBh\",\"PoW + Hive\",\"PoW\",\"PoW\",\"PoW\",\"PoW/PoS\",\"PoA\",\"PoW/PoS\",\"PoW/PoS\",\"PoS\",\"PoS\",\"PoW\",\"PoW\",\"PoW\",\"PoW\",\"PoW/PoS\",\"PoW/PoS\",\"PoW/PoS\",\"PoW\",\"PoS\",\"PoW\",\"PoS\",\"PoS\",\"PoW/PoS\",\"DPoS\",\"PoW\",\"PoW/PoS\",\"PoS\",\"PoW\",\"PoS\",\"PoW/PoS\",\"PoW\",\"PoW\",\"PoS/PoW\",\"PoW\",\"PoS\",\"PoW\",\"PoW\",\"PoW\",\"PoW\",\"PoW/PoS\",\"PoS\",\"PoW\",\"PoW/PoS\",\"PoW\",\"PoW/PoS\",\"PoS\",\"HPoW\",\"PoS\",\"PoS\",\"PoS\",\"PoW\",\"PoW\",\"PoW\",\"PoW/PoS\",\"PoS\",\"PoW/PoS\",\"PoS\",\"PoW/PoS\",\"PoS\",\"PoW\",\"PoW/PoS\",\"PoW\",\"PoW\",\"PoW\",\"PoW\",\"PoS\",\"PoW/PoS\",\"PoS\",\"PoS\",\"PoW\",\"PoW/PoS\",\"PoS\",\"PoW\",\"PoW/PoS\",\"Zero-Knowledge Proof\",\"PoW\",\"DPOS\",\"PoW\",\"PoS\",\"PoW\",\"PoW\",\"Pos\",\"PoS\",\"PoW\",\"PoW/PoS\",\"PoW\",\"PoW\",\"PoS\",\"PoW\",\"PoW\",\"PoW/PoS\",\"PoW\",\"PoW/PoS\",\"PoW\",\"PoS\",\"PoW/PoS\",\"PoW\",\"PoS\",\"PoW/PoS\",\"PoW/PoS\",\"PoW/PoS\",\"PoW/PoS\",\"PoW\",\"PoW\",\"PoW\",\"PoW/PoS\",\"DPoS\",\"PoW/PoS\",\"PoW\",\"PoW/PoS\",\"PoW\",\"PoW/PoS\",\"PoW\",\"PoW/PoS\",\"PoS\",\"PoW/PoS\",\"PoW/PoS\",\"PoW\",\"PoW/PoS\",\"PoW/PoS\",\"PoW/PoS\",\"PoW\",\"PoW/PoS\",\"PoW\",\"PoW/PoS\",\"PoW\",\"PoW/PoS\",\"PoW/PoS\",\"PoS\",\"PoW\",\"PoW\",\"Proof of Trust\",\"PoW/PoS\",\"DPoS\",\"PoS\",\"PoW/PoS\",\"PoW/PoS\",\"PoW\",\"PoW/PoS\",\"PoW\",\"DPoS\",\"PoW\",\"DPoS\",\"PoS\",\"LPoS\",\"PoS\",\"DPoS\",\"PoS/LPoS\",\"DPoS\",\"PoW/PoS\",\"PoW\",\"PoW\",\"PoS\"],\"Total_Coin_Supply\":[\"42\",\"532000000\",\"314159265359\",\"21000000\",\"0\",\"84000000\",\"22000000\",\"0\",\"210000000\",\"21000000\",\"3600570502\",\"21000000000\",\"22000000\",\"12500000\",\"21000000\",\"350000000\",\"20000000\",\"64000000\",\"16768584\",\"0\",\"2000000000\",\"384000000000\",\"169795588\",\"250000000\",\"100000000\",\"0\",\"247000000\",\"84000000\",\"48166000\",\"500000\",\"21000000 \",\"1000000\",\"13140000\",\"18000000\",\"40000000000\",\"4380000\",\"16555000000\",\"21000000000\",\"13500000000\",\"21000000 \",\"299792458\",\"32000000\",\"0\",\"0\",\"11235813\",\"336000000\",\"1420609614\",\"70000000\",\"72245700\",\"120000000\",\"0\",\"90600000000\",\"22000000\",\"21000000\",\"265420800\",\"20000000\",\"1350000\",\"100000000\",\"42000000\",\"200000000\",\"0\",\"10000000\",\"2419200000\",\"16180000\",\"0\",\"15000000000\",\"21000000\",\"337000000\",\"0\",\"3770000\",\"420000000\",\"98000000\",\"0\",\"21000000\",\"250000000\",\"51200000\",\"0\",\"1000\",\"888000000\",\"100000000\",\"47011968\",\"2300000000\",\"10000000\",\"42000000\",\"80000000\",\"250000\",\"0\",\"1600000000\",\"100000000\",\"23000000\",\"0\",\"84000000\",\"265420800\",\"5500000\",\"0\",\"45000000\",\"0\",\"1000000000\",\"184467440735\",\"10000000000\",\"2158812800\",\"500000000\",\"105120000\",\"68000000\",\"0\",\"1680000000\",\"0\",\"166386000\",\"12000000\",\"2628000\",\"500000000\",\"160000000\",\"0\",\"10000000\",\"1000000000\",\"1000000000\",\"20000000\",\"0\",\"0\",\"3371337\",\"20000000\",\"10000000000\",\"1840000000\",\"619478\",\"21000000\",\"92000000000\",\"0\",\"78000000\",\"33000000\",\"65789100\",\"53760000\",\"5060000\",\"21000000\",\"0\",\"210240000\",\"250000000\",\"100000000\",\"16906397\",\"50000000\",\"0\",\"1000000000\",\"26298000\",\"16000000\",\"21000000\",\"21000000\",\"210000000\",\"81962100\",\"22000000\",\"26550000000\",\"84000000\",\"10500000\",\"21626280000 \",\"0\",\"42000000\",\"221052632\",\"84000000\",\"30000000\",\"168351300\",\"24000000\",\"384000000\",\" 99000000000\",\"40000000\",\"2147483647\",\"20000000\",\"20000000\",\"25000000\",\"75000000\",\"222725000\",\"525000000\",\"90000000\",\"139000000\",\"616448\",\"33500000\",\"2000000000\",\"44333333\",\"100000000\",\"200000000\",\"25000000\",\"657000000\",\"200000000\",\"50000000\",\"90000000\",\"10000000\",\"21000000\",\"9736000\",\"3000000\",\"21000000\",\"1200000000\",\"0\",\"200000000\",\"0\",\"10638298\",\"3100000000\",\"30000000\",\"20000000000\",\"74000000\",\"0\",\"1500000000\",\"21400000\",\"39999898\",\"2500124\",\"100000000\",\"301000000\",\"7506000000\",\"26205539\",\"21000000\",\"125000000\",\"30000000\",\"10000000000\",\"500000000\",\"850000000\",\"3853326.77707314\",\"50000000\",\"38540000 \",\"42000000\",\"228000000\",\"20000000\",\"60000000\",\"20000000\",\"33000000\",\"76500000\",\"28000000\",\"650659833\",\"5000000\",\"21000000\",\"144000000\",\"32514916898\",\"13000000\",\"3315789\",\"15000000\",\"78835200\",\"2714286\",\"25000000\",\"9999999\",\"500000000\",\"21000000\",\"9354000\",\"20000000\",\"100000000000\",\"21933333\",\"185000000\",\"55000000\",\"110000000\",\"3360000\",\"14524851.4827\",\"1000000000\",\"17000000\",\"1000000000\",\"100000000 \",\"21000000\",\"34426423\",\"2232901\",\"100000000\",\"36900000\",\"110000000\",\"4000000000\",\"110290030\",\"100000000\",\"48252000\",\"400000000\",\"500000000\",\"21212121\",\"28600000\",\"1000000000\",\"75000000000\",\"40000000\",\"35520400\",\"2000000000\",\"2500000000\",\"30000000\",\"105000000\",\"90000000000\",\"200084200\",\"72000000\",\"100000000\",\"105000000\",\"50000000000\",\"0\",\"340282367\",\"30000000\",\"2000000000\",\"10000000\",\"100000000\",\"120000000\",\"100000000\",\"19276800\",\"30000000\",\" 75000000\",\"60000000\",\"18900000\",\"50000000000\",\"54000000\",\"18898187.6216583\",\"21000000\",\"200000000000\",\"5000000000\",\"137500000\",\"1100000000\",\"100000000\",\"21000000\",\"9507271\",\"17405891.19707116\",\"86712634466\",\"10500000000\",\"61599965\",\"0\",\"20000000\",\"84000000\",\"100000000\",\"100000000\",\"48252000\",\"4200000\",\"88888888\",\"91388946\",\"45000000000\",\"27000000\",\"21000000000\",\"400000000\",\"1800000000\",\"15733333\",\"27000000\",\"24000000\",\"21000000\",\"25000000000\",\"100000000\",\"1200000000\",\"60000000\",\"156306732.71\",\"21000000\",\"200000000\",\"100000000\",\"21000000\",\"14788275.991\",\"9000000000\",\"350000000\",\"45000000\",\"280000000\",\"31800000\",\"144000000\",\"500000000\",\"30000000000\",\"210000000\",\"660000000\",\"210000000\",\"85000000000\",\"12500000\",\"10000000000\",\"27716121\",\"20000000\",\"550000000\",\"999481516\",\"50000000000\",\"150000000\",\"4999999999\",\"50000000\",\" 90000000000\",\"19800000\",\"21000000\",\"120000000\",\"500000000\",\"64000000\",\"900000000\",\"4000000\",\"21000000\",\"23000000\",\"20166000\",\"23000000\",\"25000000\",\"1618033\",\"30000000\",\"1000000000000\",\"16600000\",\"232000000\",\"336000000\",\"10000000000\",\"100000000\",\"1100000000\",\"800000000\",\"5200000000\",\"840000000\",\"40000000\",\"18406979840\",\"500000000\",\"19340594\",\"252460800\",\"25000000\",\"60000000\",\"124000000\",\"1000000000\",\"6500000000\",\"1000000000\",\"21000000\",\"25000000\",\"50000000\",\"3000000\",\"5000000\",\"70000000\",\"500000000\",\"300000000\",\"21000000\",\"88000000\",\"30000000\",\"100000000\",\"100000000\",\"200000000\",\"80000000\",\"18400000\",\"45000000\",\"5121951220\",\"21000000\",\"26280000\",\"21000000\",\"18000000\",\"26000000\",\"10500000\",\"600000518\",\"150000000\",\"184000000000\",\"10200000000\",\"44000000\",\"168000000\",\"100000000\",\"1000000000\",\"84000000\",\"90000000\",\"92000000000\",\"650000000 \",\"100262205\",\"18081806 \",\"22075700\",\"21000000\",\"21000000\",\"82546564\",\"21000000\",\"5151000\",\"16880000000\",\"52500000\",\"100000000\",\"22105263\",\"1000000000\",\"1750000000\",\"88188888\",\"210000000\",\"184470000000\",\"55000000\",\"50000000\",\"260000000\",\"210000000\",\"2100000000\",\"366000000\",\"100000000\",\"25000000\",\"18000000000\",\"1000000000\",\"100000000\",\"1000000000\",\"7600000000\",\"50000000\",\"84000000\",\"21000000\",\"70000000000\",\"0\",\"8080000000\",\"54000000\",\"105120001.44\",\"25228800\",\"105000000\",\"21000000\",\"120000000\",\"21000000\",\"262800000\",\"19035999\",\"30886000\",\"13370000\",\"74800000000\",\"100000000\",\"19700000\",\"84000000\",\"500000000\",\"5000000000\",\"420000000\",\"64000000\",\"2100000\",\"168000000\",\"30000000\",\"1000000000\",\"35000000000\",\"98100000000\",\"0\",\"4000000000\",\"200000000\",\"7000000000\",\"54256119\",\"21000000\",\"0\",\"500000000\",\"1000000000\",\"10500000000\",\"190000000\",\"1000000000\",\"42000000\",\"15000000\",\"50000000000\",\"400000000\",\"105000000\",\"208000000\",\"160000000\",\"9000000\",\"5000000\",\"182000000\",\"16504333\",\"105000000\",\"159918400\",\"10008835635\",\"300000000\",\"60168145\",\"2800000\",\"120000\",\"2100000000\",\"0\",\"24487944\",\"0\",\"1000000000\",\"100000000\",\"8634140\",\"990000000000\",\"1000000000\",\"2000000000\",\"250000000\",\"1400222610\",\"21000000\",\"1000000\"],\"Total_Coins_Mined\":{\"__ndarray__\":\"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\",\"dtype\":\"float64\",\"order\":\"little\",\"shape\":[532]}},\"selected\":{\"id\":\"1123\"},\"selection_policy\":{\"id\":\"1157\"}},\"id\":\"1122\",\"type\":\"ColumnDataSource\"},{\"attributes\":{\"format\":\"0,0.0[00000]\"},\"id\":\"1144\",\"type\":\"NumberFormatter\"},{\"attributes\":{\"margin\":[5,5,5,5],\"name\":\"HSpacer01800\",\"sizing_mode\":\"stretch_width\"},\"id\":\"1121\",\"type\":\"Spacer\"},{\"attributes\":{},\"id\":\"1134\",\"type\":\"StringFormatter\"},{\"attributes\":{\"editor\":{\"id\":\"1140\"},\"field\":\"Total_Coin_Supply\",\"formatter\":{\"id\":\"1139\"},\"title\":\"Total Coin Supply\"},\"id\":\"1141\",\"type\":\"TableColumn\"},{\"attributes\":{\"editor\":{\"id\":\"1145\"},\"field\":\"Total_Coins_Mined\",\"formatter\":{\"id\":\"1144\"},\"title\":\"Total Coins Mined\"},\"id\":\"1146\",\"type\":\"TableColumn\"},{\"attributes\":{\"source\":{\"id\":\"1122\"}},\"id\":\"1156\",\"type\":\"CDSView\"},{\"attributes\":{\"editor\":{\"id\":\"1130\"},\"field\":\"Algorithm\",\"formatter\":{\"id\":\"1129\"},\"title\":\"Algorithm\"},\"id\":\"1131\",\"type\":\"TableColumn\"},{\"attributes\":{},\"id\":\"1157\",\"type\":\"UnionRenderers\"},{\"attributes\":{},\"id\":\"1123\",\"type\":\"Selection\"},{\"attributes\":{},\"id\":\"1129\",\"type\":\"StringFormatter\"},{\"attributes\":{\"columns\":[{\"id\":\"1126\"},{\"id\":\"1131\"},{\"id\":\"1136\"},{\"id\":\"1141\"},{\"id\":\"1146\"},{\"id\":\"1151\"}],\"height\":300,\"reorderable\":false,\"source\":{\"id\":\"1122\"},\"view\":{\"id\":\"1156\"},\"width\":700},\"id\":\"1154\",\"type\":\"DataTable\"},{\"attributes\":{\"editor\":{\"id\":\"1150\"},\"field\":\"Class\",\"formatter\":{\"id\":\"1149\"},\"title\":\"Class\"},\"id\":\"1151\",\"type\":\"TableColumn\"},{\"attributes\":{},\"id\":\"1135\",\"type\":\"StringEditor\"},{\"attributes\":{},\"id\":\"1125\",\"type\":\"StringEditor\"},{\"attributes\":{},\"id\":\"1124\",\"type\":\"StringFormatter\"},{\"attributes\":{\"children\":[{\"id\":\"1121\"},{\"id\":\"1154\"},{\"id\":\"1161\"}],\"margin\":[0,0,0,0],\"name\":\"Row01796\",\"tags\":[\"embedded\"]},\"id\":\"1120\",\"type\":\"Row\"}],\"root_ids\":[\"1120\"]},\"title\":\"Bokeh Application\",\"version\":\"2.4.2\"}};\n",
       "    var render_items = [{\"docid\":\"37b64be9-889e-4e19-8ed0-642a2e8bb028\",\"root_ids\":[\"1120\"],\"roots\":{\"1120\":\"3dbbfb7f-f2db-48b2-9210-165834e055e1\"}}];\n",
       "    root.Bokeh.embed.embed_items_notebook(docs_json, render_items);\n",
       "  }\n",
       "  if (root.Bokeh !== undefined && root.Bokeh.Panel !== undefined) {\n",
       "    embed_document(root);\n",
       "  } else {\n",
       "    var attempts = 0;\n",
       "    var timer = setInterval(function(root) {\n",
       "      if (root.Bokeh !== undefined && root.Bokeh.Panel !== undefined) {\n",
       "        clearInterval(timer);\n",
       "        embed_document(root);\n",
       "      } else if (document.readyState == \"complete\") {\n",
       "        attempts++;\n",
       "        if (attempts > 200) {\n",
       "          clearInterval(timer);\n",
       "          console.log(\"Bokeh: ERROR: Unable to run BokehJS code because BokehJS library is missing\");\n",
       "        }\n",
       "      }\n",
       "    }, 25, root)\n",
       "  }\n",
       "})(window);</script>"
      ],
      "text/plain": [
       ":Table   [Coin Name,Algorithm,Proof Type,Total Coin Supply,Total Coins Mined,Class]"
      ]
     },
     "execution_count": 26,
     "metadata": {
      "application/vnd.holoviews_exec.v0+json": {
       "id": "1120"
      }
     },
     "output_type": "execute_result"
    }
   ],
   "source": [
    "# Create a table with tradable cryptocurrencies.\n",
    "columns = ['Coin Name', 'Algorithm', 'Proof Type', 'Total Coin Supply', 'Total Coins Mined', 'Class']\n",
    "table = clustered_df.hvplot.table(columns)\n",
    "table"
   ]
  },
  {
   "cell_type": "code",
   "execution_count": 27,
   "metadata": {},
   "outputs": [
    {
     "name": "stdout",
     "output_type": "stream",
     "text": [
      "The total number of tradable cryptocurrencies is 532\n"
     ]
    }
   ],
   "source": [
    "# Print the total number of tradable cryptocurrencies.\n",
    "print(f\"The total number of tradable cryptocurrencies is {coin_name.count()}\")"
   ]
  },
  {
   "cell_type": "code",
   "execution_count": 29,
   "metadata": {},
   "outputs": [],
   "source": [
    "# Scaling data to create the scatter plot with tradable cryptocurrencies.\n",
    "clustered_df[\"Total Coin Supply\"]= clustered_df[\"Total Coin Supply\"].astype(float)/100000000\n",
    "clustered_df[\"Total Coins Mined\"]= clustered_df[\"Total Coins Mined\"].astype(float)/100000000"
   ]
  },
  {
   "cell_type": "code",
   "execution_count": 40,
   "metadata": {},
   "outputs": [
    {
     "data": {
      "text/html": [
       "<div>\n",
       "<style scoped>\n",
       "    .dataframe tbody tr th:only-of-type {\n",
       "        vertical-align: middle;\n",
       "    }\n",
       "\n",
       "    .dataframe tbody tr th {\n",
       "        vertical-align: top;\n",
       "    }\n",
       "\n",
       "    .dataframe thead th {\n",
       "        text-align: right;\n",
       "    }\n",
       "</style>\n",
       "<table border=\"1\" class=\"dataframe\">\n",
       "  <thead>\n",
       "    <tr style=\"text-align: right;\">\n",
       "      <th></th>\n",
       "      <th>Total Coin Supply</th>\n",
       "      <th>Total Coins Mined</th>\n",
       "      <th>Coin Name</th>\n",
       "      <th>Class</th>\n",
       "    </tr>\n",
       "  </thead>\n",
       "  <tbody>\n",
       "    <tr>\n",
       "      <th>0</th>\n",
       "      <td>4.200000e-07</td>\n",
       "      <td>4.199995e-07</td>\n",
       "      <td>42 Coin</td>\n",
       "      <td>0</td>\n",
       "    </tr>\n",
       "    <tr>\n",
       "      <th>2</th>\n",
       "      <td>5.320000e+00</td>\n",
       "      <td>1.055185e+01</td>\n",
       "      <td>404Coin</td>\n",
       "      <td>0</td>\n",
       "    </tr>\n",
       "    <tr>\n",
       "      <th>5</th>\n",
       "      <td>3.141593e+03</td>\n",
       "      <td>2.927942e+02</td>\n",
       "      <td>EliteCoin</td>\n",
       "      <td>0</td>\n",
       "    </tr>\n",
       "    <tr>\n",
       "      <th>7</th>\n",
       "      <td>2.100000e-01</td>\n",
       "      <td>1.792718e-01</td>\n",
       "      <td>Bitcoin</td>\n",
       "      <td>3</td>\n",
       "    </tr>\n",
       "    <tr>\n",
       "      <th>8</th>\n",
       "      <td>0.000000e+00</td>\n",
       "      <td>1.076842e+00</td>\n",
       "      <td>Ethereum</td>\n",
       "      <td>3</td>\n",
       "    </tr>\n",
       "    <tr>\n",
       "      <th>9</th>\n",
       "      <td>8.400000e-01</td>\n",
       "      <td>6.303924e-01</td>\n",
       "      <td>Litecoin</td>\n",
       "      <td>3</td>\n",
       "    </tr>\n",
       "    <tr>\n",
       "      <th>10</th>\n",
       "      <td>2.200000e-01</td>\n",
       "      <td>9.031294e-02</td>\n",
       "      <td>Dash</td>\n",
       "      <td>0</td>\n",
       "    </tr>\n",
       "    <tr>\n",
       "      <th>11</th>\n",
       "      <td>0.000000e+00</td>\n",
       "      <td>1.720114e-01</td>\n",
       "      <td>Monero</td>\n",
       "      <td>3</td>\n",
       "    </tr>\n",
       "    <tr>\n",
       "      <th>12</th>\n",
       "      <td>2.100000e+00</td>\n",
       "      <td>1.133597e+00</td>\n",
       "      <td>Ethereum Classic</td>\n",
       "      <td>3</td>\n",
       "    </tr>\n",
       "    <tr>\n",
       "      <th>13</th>\n",
       "      <td>2.100000e-01</td>\n",
       "      <td>7.383056e-02</td>\n",
       "      <td>ZCash</td>\n",
       "      <td>3</td>\n",
       "    </tr>\n",
       "  </tbody>\n",
       "</table>\n",
       "</div>"
      ],
      "text/plain": [
       "    Total Coin Supply  Total Coins Mined         Coin Name  Class\n",
       "0        4.200000e-07       4.199995e-07           42 Coin      0\n",
       "2        5.320000e+00       1.055185e+01           404Coin      0\n",
       "5        3.141593e+03       2.927942e+02         EliteCoin      0\n",
       "7        2.100000e-01       1.792718e-01           Bitcoin      3\n",
       "8        0.000000e+00       1.076842e+00          Ethereum      3\n",
       "9        8.400000e-01       6.303924e-01          Litecoin      3\n",
       "10       2.200000e-01       9.031294e-02              Dash      0\n",
       "11       0.000000e+00       1.720114e-01            Monero      3\n",
       "12       2.100000e+00       1.133597e+00  Ethereum Classic      3\n",
       "13       2.100000e-01       7.383056e-02             ZCash      3"
      ]
     },
     "execution_count": 40,
     "metadata": {},
     "output_type": "execute_result"
    }
   ],
   "source": [
    "# Create a new DataFrame that has the scaled data with the clustered_df DataFrame index.\n",
    "plot_df = pd.DataFrame(\n",
    "    clustered_df, columns=[\"Total Coin Supply\", \"Total Coins Mined\"], index=clustered_df.index)\n",
    "\n",
    "# Add the \"CoinName\" column from the clustered_df DataFrame to the new DataFrame.\n",
    "plot_df[\"Coin Name\"] = clustered_df[\"Coin Name\"]\n",
    "\n",
    "# Add the \"Class\" column from the clustered_df DataFrame to the new DataFrame. \n",
    "plot_df[\"Class\"] = clustered_df[\"Class\"]\n",
    "plot_df.head(10)"
   ]
  },
  {
   "cell_type": "code",
   "execution_count": 41,
   "metadata": {},
   "outputs": [
    {
     "data": {},
     "metadata": {},
     "output_type": "display_data"
    },
    {
     "data": {
      "application/vnd.holoviews_exec.v0+json": "",
      "text/html": [
       "<div id='1173'>\n",
       "\n",
       "\n",
       "\n",
       "\n",
       "\n",
       "  <div class=\"bk-root\" id=\"789ad6ef-b3ba-40bf-ac97-4f82fa08230d\" data-root-id=\"1173\"></div>\n",
       "</div>\n",
       "<script type=\"application/javascript\">(function(root) {\n",
       "  function embed_document(root) {\n",
       "    var docs_json = {\"e88decee-399b-4653-b725-e163c0085f84\":{\"defs\":[{\"extends\":null,\"module\":null,\"name\":\"ReactiveHTML1\",\"overrides\":[],\"properties\":[]},{\"extends\":null,\"module\":null,\"name\":\"FlexBox1\",\"overrides\":[],\"properties\":[{\"default\":\"flex-start\",\"kind\":null,\"name\":\"align_content\"},{\"default\":\"flex-start\",\"kind\":null,\"name\":\"align_items\"},{\"default\":\"row\",\"kind\":null,\"name\":\"flex_direction\"},{\"default\":\"wrap\",\"kind\":null,\"name\":\"flex_wrap\"},{\"default\":\"flex-start\",\"kind\":null,\"name\":\"justify_content\"}]},{\"extends\":null,\"module\":null,\"name\":\"TemplateActions1\",\"overrides\":[],\"properties\":[{\"default\":0,\"kind\":null,\"name\":\"open_modal\"},{\"default\":0,\"kind\":null,\"name\":\"close_modal\"}]},{\"extends\":null,\"module\":null,\"name\":\"MaterialTemplateActions1\",\"overrides\":[],\"properties\":[{\"default\":0,\"kind\":null,\"name\":\"open_modal\"},{\"default\":0,\"kind\":null,\"name\":\"close_modal\"}]}],\"roots\":{\"references\":[{\"attributes\":{\"angle\":{\"value\":0.0},\"fill_alpha\":{\"value\":1.0},\"fill_color\":{\"value\":\"#fc4f30\"},\"hatch_alpha\":{\"value\":1.0},\"hatch_color\":{\"value\":\"#fc4f30\"},\"hatch_scale\":{\"value\":12.0},\"hatch_weight\":{\"value\":1.0},\"line_alpha\":{\"value\":1.0},\"line_cap\":{\"value\":\"butt\"},\"line_color\":{\"value\":\"#fc4f30\"},\"line_dash\":{\"value\":[]},\"line_dash_offset\":{\"value\":0},\"line_join\":{\"value\":\"bevel\"},\"line_width\":{\"value\":1},\"marker\":{\"value\":\"circle\"},\"size\":{\"value\":5.477225575051661},\"x\":{\"field\":\"Total Coins Mined\"},\"y\":{\"field\":\"Total Coin Supply\"}},\"id\":\"1259\",\"type\":\"Scatter\"},{\"attributes\":{\"fill_alpha\":{\"value\":0.1},\"fill_color\":{\"value\":\"#30a2da\"},\"hatch_alpha\":{\"value\":0.1},\"hatch_color\":{\"value\":\"#30a2da\"},\"line_alpha\":{\"value\":0.1},\"line_color\":{\"value\":\"#30a2da\"},\"size\":{\"value\":5.477225575051661},\"x\":{\"field\":\"Total Coins Mined\"},\"y\":{\"field\":\"Total Coin Supply\"}},\"id\":\"1221\",\"type\":\"Scatter\"},{\"attributes\":{\"click_policy\":\"mute\",\"coordinates\":null,\"group\":null,\"items\":[{\"id\":\"1236\"},{\"id\":\"1258\"},{\"id\":\"1282\"},{\"id\":\"1308\"}],\"location\":[0,0],\"title\":\"Class\"},\"id\":\"1235\",\"type\":\"Legend\"},{\"attributes\":{\"end\":10324.168011566911,\"reset_end\":10324.168011566911,\"reset_start\":-424.28087675042156,\"start\":-424.28087675042156,\"tags\":[[[\"Total Coins Mined\",\"Total Coins Mined\",null]]]},\"id\":\"1175\",\"type\":\"Range1d\"},{\"attributes\":{\"source\":{\"id\":\"1217\"}},\"id\":\"1224\",\"type\":\"CDSView\"},{\"attributes\":{\"fill_alpha\":{\"value\":0.2},\"fill_color\":{\"value\":\"#6d904f\"},\"hatch_alpha\":{\"value\":0.2},\"hatch_color\":{\"value\":\"#6d904f\"},\"line_alpha\":{\"value\":0.2},\"line_color\":{\"value\":\"#6d904f\"},\"size\":{\"value\":5.477225575051661},\"x\":{\"field\":\"Total Coins Mined\"},\"y\":{\"field\":\"Total Coin Supply\"}},\"id\":\"1289\",\"type\":\"Scatter\"},{\"attributes\":{\"data\":{\"Class\":[0,0,0,0,0,0,0,0,0,0,0,0,0,0,0,0,0,0,0,0,0,0,0,0,0,0,0,0,0,0,0,0,0,0,0,0,0,0,0,0,0,0,0,0,0,0,0,0,0,0,0,0,0,0,0,0,0,0,0,0,0,0,0,0,0,0,0,0,0,0,0,0,0,0,0,0,0,0,0,0,0,0,0,0,0,0,0,0,0,0,0,0,0,0,0,0,0,0,0,0,0,0,0,0,0,0,0,0,0,0,0,0,0,0,0,0,0,0,0,0,0,0,0,0,0,0,0,0,0,0,0,0,0,0,0,0,0,0,0,0,0,0,0,0,0,0,0,0,0,0,0,0,0,0,0,0,0,0,0,0,0,0,0,0,0,0,0,0,0,0,0,0,0,0,0,0,0,0,0,0,0,0,0,0,0,0,0,0,0,0,0,0,0,0,0,0,0,0,0,0,0,0,0,0,0,0,0,0,0,0,0,0,0,0,0,0,0,0,0,0,0,0,0,0,0,0,0,0,0,0,0,0,0,0,0,0,0,0,0,0,0,0,0,0,0,0,0,0,0,0,0,0,0,0,0,0,0,0,0,0,0,0,0,0,0,0,0,0,0,0,0,0,0,0,0,0,0,0,0,0,0,0,0,0,0,0,0,0,0],\"Coin_Name\":[\"42 Coin\",\"404Coin\",\"EliteCoin\",\"Dash\",\"Bitshares\",\"BitcoinDark\",\"PayCoin\",\"KoboCoin\",\"Aurora Coin\",\"BlueCoin\",\"EnergyCoin\",\"BitBar\",\"CryptoBullion\",\"CasinoCoin\",\"Diamond\",\"Exclusive Coin\",\"FlutterCoin\",\"HoboNickels\",\"HyperStake\",\"IOCoin\",\"MaxCoin\",\"MintCoin\",\"MazaCoin\",\"Nautilus Coin\",\"NavCoin\",\"OpalCoin\",\"Orbitcoin\",\"PotCoin\",\"PhoenixCoin\",\"Reddcoin\",\"SuperCoin\",\"SyncCoin\",\"TeslaCoin\",\"TittieCoin\",\"TorCoin\",\"UnitaryStatus Dollar\",\"UltraCoin\",\"VeriCoin\",\"X11 Coin\",\"Crypti\",\"StealthCoin\",\"ZCC Coin\",\"BurstCoin\",\"StorjCoin\",\"Neutron\",\"FairCoin\",\"RubyCoin\",\"Kore\",\"Dnotes\",\"8BIT Coin\",\"Sativa Coin\",\"Ucoin\",\"Vtorrent\",\"IslaCoin\",\"Nexus\",\"Droidz\",\"Squall Coin\",\"Diggits\",\"Paycon\",\"Emercoin\",\"EverGreenCoin\",\"Decred\",\"EDRCoin\",\"Hitcoin\",\"DubaiCoin\",\"PWR Coin\",\"BillaryCoin\",\"GPU Coin\",\"EuropeCoin\",\"ZeitCoin\",\"SwingCoin\",\"SafeExchangeCoin\",\"Nebuchadnezzar\",\"Ratecoin\",\"Revenu\",\"Clockcoin\",\"VIP Tokens\",\"BitSend\",\"Let it Ride\",\"PutinCoin\",\"iBankCoin\",\"Frankywillcoin\",\"MudraCoin\",\"Lutetium Coin\",\"Komodo\",\"GoldBlocks\",\"CarterCoin\",\"BitTokens\",\"MustangCoin\",\"ZoneCoin\",\"RootCoin\",\"BitCurrency\",\"Swiscoin\",\"BuzzCoin\",\"Opair\",\"PesoBit\",\"Halloween Coin\",\"CoffeeCoin\",\"RoyalCoin\",\"GanjaCoin V2\",\"TeamUP\",\"LanaCoin\",\"ARK\",\"InsaneCoin\",\"EmberCoin\",\"XenixCoin\",\"FreeCoin\",\"PLNCoin\",\"AquariusCoin\",\"Creatio\",\"Eternity\",\"Eurocoin\",\"BitcoinFast\",\"Stakenet\",\"BitConnect Coin\",\"MoneyCoin\",\"Enigma\",\"Russiacoin\",\"PandaCoin\",\"GameUnits\",\"GAKHcoin\",\"Allsafe\",\"LiteCreed\",\"Klingon Empire Darsek\",\"Internet of People\",\"KushCoin\",\"Printerium\",\"Impeach\",\"Zilbercoin\",\"FirstCoin\",\"FindCoin\",\"OpenChat\",\"RenosCoin\",\"VirtacoinPlus\",\"TajCoin\",\"Impact\",\"Atmos\",\"HappyCoin\",\"MacronCoin\",\"Condensate\",\"Independent Money System\",\"ArgusCoin\",\"LomoCoin\",\"ProCurrency\",\"GoldReserve\",\"GrowthCoin\",\"Phreak\",\"Degas Coin\",\"HTML5 Coin\",\"Ultimate Secure Cash\",\"QTUM\",\"Espers\",\"Denarius\",\"Virta Unique Coin\",\"Bitcoin Planet\",\"BritCoin\",\"Linda\",\"DeepOnion\",\"Signatum\",\"Cream\",\"Monoeci\",\"Draftcoin\",\"Stakecoin\",\"CoinonatX\",\"Ethereum Dark\",\"Obsidian\",\"Cardano\",\"Regalcoin\",\"TrezarCoin\",\"TerraNovaCoin\",\"Rupee\",\"WomenCoin\",\"Theresa May Coin\",\"NamoCoin\",\"LUXCoin\",\"Xios\",\"Bitcloud 2.0\",\"KekCoin\",\"BlackholeCoin\",\"Infinity Economics\",\"Magnet\",\"Lamden Tau\",\"Electra\",\"Bitcoin Diamond\",\"Cash & Back Coin\",\"Bulwark\",\"Kalkulus\",\"GermanCoin\",\"LiteCoin Ultra\",\"PhantomX\",\"Digiwage\",\"Trollcoin\",\"Litecoin Plus\",\"Monkey Project\",\"TokenPay\",\"My Big Coin\",\"Unified Society USDEX\",\"Tokyo Coin\",\"Stipend\",\"Pushi\",\"Ellerium\",\"Velox\",\"Ontology\",\"Bitspace\",\"Briacoin\",\"Ignition\",\"MedicCoin\",\"Bitcoin Green\",\"Deviant Coin\",\"Abjcoin\",\"Semux\",\"Carebit\",\"Zealium\",\"Proton\",\"iDealCash\",\"Bitcoin Incognito\",\"HollyWoodCoin\",\"Swisscoin\",\"Xt3ch\",\"TheVig\",\"EmaratCoin\",\"Dekado\",\"Lynx\",\"Poseidon Quark\",\"BitcoinWSpectrum\",\"Muse\",\"Trivechain\",\"Dystem\",\"Giant\",\"Peony Coin\",\"Absolute Coin\",\"Vitae\",\"TPCash\",\"ARENON\",\"EUNO\",\"MMOCoin\",\"Ketan\",\"XDNA\",\"PAXEX\",\"ThunderStake\",\"Kcash\",\"Acute Angle Cloud\",\"Bettex coin\",\"BitMoney\",\"Junson Ming Chan Coin\",\"HerbCoin\",\"PirateCash\",\"Oduwa\",\"Galilel\",\"Crypto Sports\",\"Credit\",\"Dash Platinum\",\"Nasdacoin\",\"Beetle Coin\",\"Titan Coin\",\"Award\",\"Insane Coin\",\"ALAX\",\"LiteDoge\",\"TruckCoin\",\"OrangeCoin\",\"BitstarCoin\",\"NeosCoin\",\"HyperCoin\",\"PinkCoin\",\"AudioCoin\",\"IncaKoin\",\"Piggy Coin\",\"Genstake\",\"XiaoMiCoin\",\"CapriCoin\",\" ClubCoin\",\"Radium\",\"Creditbit \",\"OKCash\",\"Lisk\",\"HiCoin\",\"WhiteCoin\",\"FriendshipCoin\",\"Triangles Coin\",\"EOS\",\"Oxycoin\",\"TigerCash\",\"Waves\",\"Particl\",\"Nxt\",\"ZEPHYR\",\"Gapcoin\",\"BitcoinPlus\"],\"Total Coin Supply\":{\"__ndarray__\":\"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\",\"dtype\":\"float64\",\"order\":\"little\",\"shape\":[289]},\"Total Coins Mined\":{\"__ndarray__\":\"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\",\"dtype\":\"float64\",\"order\":\"little\",\"shape\":[289]},\"Total_Coin_Supply\":{\"__ndarray__\":\"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\",\"dtype\":\"float64\",\"order\":\"little\",\"shape\":[289]},\"Total_Coins_Mined\":{\"__ndarray__\":\"GMELgYkvnD4w5W30ixolQGaXhzu1THJAZMbWw78etz988rBQa2o7QPbjH0tZZYo/2E5YPkO1vj8OOoWX41jQP8Ox5XKCNsc/+N7foL1qGUBsW2D/prDzP+Gbkpum5zs/3GjGwvZHhT+426/j//94QKY7GRhC66A/7r+EwIAUrT/qGRRjI3kSQCvN/Ei/kOw/t2o77QLJMECZVVL72ZfGPyNysO2jqeM/2tZbXw6eakCbCmKgayMwQBIUP8bctcQ/Wukf3Nol5T9j0qH9b2bDP1VA2H9TfaA/6ZmH+W3QAUAcFTBovqrnP25UmaF9UnJARm4Wvvg54D8uTXx7+K7oPueZnuvvruk/8r6H4yc5MECVmG3hBVONP6BtZSSj+iVANe4zvEQT4D+bw4uhVn7UP1xAa/JLy7E/AAAAAAAA8D9LQ99yEy7VP/kRJx6urfc/BmPp6F0hMkDPUeScGmDgP4c8vMayCdk/dxCefaMF4T8td/oq6GXRP8nR3zXFtZQ/P6dTPIHx+z+uG0LXtg+OP+v1WSv7KrI/uUHlRi6Lmz9gFLFGRbW9PyXiEB4rAI8/Yl6Rqcxe5D8QXnFNJu+1P04nWyHT92o/AAAAAAAA8D9YMPm4mX7NP0nBJbLqjts/0MOPVrFRwT8ZoMdP1oi6Pz95NUHwyaI/cwvhwaR9W0CShNCDs0KqP9wkhodyLFlAYZpCl2oJtz+dcRIxwufZP+8hzyGCpLo/YxUX1GUbd0DZRUzfIGmmPxyZBeKOeTVAmpmZmZmZyT/Qh9nRXof1P5DAH37+e4g/RLHLphJUxT/SXafLQbTqP+Gwx5teN88/kkVy442y2D+iNthjCEMgQKuhBU++LKc/AAAAAAAA8D+amZmZmZmpP0jhehSuRxpA+QBy/C+L8j8KpatL+OvDP47pCUs8oNs/32cijYZjeD/sr3Mf0e96P4DAXrx6cJo/T8qDeE3dkz+usjpiwiL7P1J+lAmmmxpAJ9AOVeR4aECjfLp12bDnP05W87lmdNU/7mw4ZZ0sBUDSoy3XcMv3PxZGo9DsmZk/AAAAAAAA8D+7gspl087GP1OtqzWspCVARz+WFfVP8T+XGsKtknrHP9rgZQJtz4xAL0DE6aG6oz8AAAAAAADgPyI0go3r38U/V8mDk2sVmT+amZmZmZnJP2R8gTxkE68/BxaXFVDJvz9rw2HJj+nJPx45b+9cMOg/QztAutxdvD+lE6Z73/C7P7/zKOg4r4A/Vk5z2YVytT87E/ZeGiJ1QBZeF7gbyKE//QhPKhL6oD/qMGpz7ey6P9RDNLqDWNM/CePhHPmszj/ErYiR9t2ZPw3+INd9+aw/GQ1s13xDvj8+pGto+z5pP+qxzwd17Z0/mpmZmZmZ8T+ZvXzagJfCPwAAAAAAACRAH6y15n0S1z+esD5sK9nAP5O5S94IMb8/29kZsmuz8T+WS4i2H8jxP6QP/1YbjMs/TGEQHo4OEECnKeq5anfzP/w8404rfas//VYEYoaEhz97FK5H4Xp0PxlQFI1aFvA/4+qV7Lf6xT8wHnnVX5wHQNcjidCyKL0//Z1Q/NZWyz+WIY51cWl5QNUCvWh2ero/AAAAAAAA8D+htao+moBsQP7oYYmDW6U/tI8V/DYk5D+6+JmCTmuxP3IM8d0gOcs//YJZfMGcVkCl0by6xA3MP/KVxIKQRvE/ls9Ar9dK3j8TIKIpshbAP9Q4v9qW48c/exSuR+F6pD8Rwy9xuwLJPxsv3SQGgaU/AAAAAAAA0D84HyrPVDRwQMDBouB8l7I/rADfbd44/T9p3eJ8vFyHP7gehetRuM4/3Bbh/YNJfkCRmnYxzXTtPz2e8dgqbBZAiuST3UVDtT8Rn0MyRwOWP3VG1crHp9M/XOEjAh6Rvz9OjxnCrfHEPzaglP//f1ZA9kvqMHVy2D85yUVGGAwHQEH4SDHdv3FAncugvI1d/T+2cA3zncHxP+LySOjV9MA/HUeqphC0xT9CDoVouI5IQC+jNFC9jbU/9xeK3lfp3D/naPqRx3jRP/wUKqwSpBdATzunQVylmT/XxxpgrJCmPwL+JC2zK8o/YDyi//MPuD9exDnKpskCQAlRvqCFbAJAptlU+63NvD8pUeoj1DKWPzsIOMdrLHE/C0BuFWRd0D/b3JiesAgaQMKiihMBpsE/pStA3JNRgT+jSbWR4zWIP/C3JKRBYgVACHrKefIYuT+wzWgdhQDMP7uAjDlJS7k/hR8giME2iT9CZxjfu1v2P5lEPk1HWrw/vf+PEyaMpj+LR2VbSRUsQCEFdTat6rs/2Wn6QbnF2D8AAAAAAIBZQDOiWJVliLM/q9YqeL5F1T+koozvq6XLP8tFekLDYdM/6B7SyMNViECWAJ+NhtCbPy5PT5Dgf+I/YjNd2x1Kxz+sS9Tse6HXP/NczT6EIbI/m1BDK8tOrj90Tl1wJVeFPxopJA7VEME/lVA4NyIj5T8CGuE736qrP0bgAqc7qsg/KitSkYqx0z8dgD8OAj7xP6XwvwOh4Lc/55AHe1vspz9BqrQHUhCnP5aMJgP3MiVAAAAAAAAAJEAAAAAAAAAkQJDiu6AxYLE/jmSsp2euAEB7xarzLINlQJyGTGuMmdY/UeVqGso/wT8eG9CwTurCP5563jEUYcc/H3roULTPkz8q0eMUHURzQOHQA7A7UH0/Ypl0ta9Myj8J1vqigdT/P4hJl4Je7SFA8fM0B+e8wz/oCAsc6G7OPwAAAAAAACRA4BfMOgsmY0Cvbb/s6mcDQPDBa5c2HKI/V4YGnIRWyj8+83tOBX2mP0t96jnnp7g/BBRr2EJ0EUC+04m9WZ0jQFQtlUa2bGZAvdZlQAbFE0AzMzMzMzPjP/sRtGEzLBBAqZJGAfEbAEAnBs4fWpTwP/xqy02VkKM/ceQjCSCixT8Jye+WduXnP/6sQ3+yM/M/Ec2GFigAWUCNXrHuEikEQNFtcEwL8oY/yXrknaUQVz/sIwYeMGkkQNitDeiYciZAAAAAAAAAJEAAAAAAAADwP3w0EQrMw7c/AAAAAAAAJECGYDb///8zQPmLpe6aHMM/6SCVoWwGVT8=\",\"dtype\":\"float64\",\"order\":\"little\",\"shape\":[289]}},\"selected\":{\"id\":\"1218\"},\"selection_policy\":{\"id\":\"1232\"}},\"id\":\"1217\",\"type\":\"ColumnDataSource\"},{\"attributes\":{},\"id\":\"1261\",\"type\":\"Selection\"},{\"attributes\":{\"coordinates\":null,\"data_source\":{\"id\":\"1260\"},\"glyph\":{\"id\":\"1263\"},\"group\":null,\"hover_glyph\":null,\"muted_glyph\":{\"id\":\"1265\"},\"nonselection_glyph\":{\"id\":\"1264\"},\"selection_glyph\":{\"id\":\"1283\"},\"view\":{\"id\":\"1267\"}},\"id\":\"1266\",\"type\":\"GlyphRenderer\"},{\"attributes\":{\"label\":{\"value\":\"3\"},\"renderers\":[{\"id\":\"1290\"}]},\"id\":\"1308\",\"type\":\"LegendItem\"},{\"attributes\":{\"coordinates\":null,\"data_source\":{\"id\":\"1217\"},\"glyph\":{\"id\":\"1220\"},\"group\":null,\"hover_glyph\":null,\"muted_glyph\":{\"id\":\"1222\"},\"nonselection_glyph\":{\"id\":\"1221\"},\"selection_glyph\":{\"id\":\"1237\"},\"view\":{\"id\":\"1224\"}},\"id\":\"1223\",\"type\":\"GlyphRenderer\"},{\"attributes\":{\"fill_alpha\":{\"value\":0.1},\"fill_color\":{\"value\":\"#6d904f\"},\"hatch_alpha\":{\"value\":0.1},\"hatch_color\":{\"value\":\"#6d904f\"},\"line_alpha\":{\"value\":0.1},\"line_color\":{\"value\":\"#6d904f\"},\"size\":{\"value\":5.477225575051661},\"x\":{\"field\":\"Total Coins Mined\"},\"y\":{\"field\":\"Total Coin Supply\"}},\"id\":\"1288\",\"type\":\"Scatter\"},{\"attributes\":{\"callback\":null,\"renderers\":[{\"id\":\"1223\"},{\"id\":\"1244\"},{\"id\":\"1266\"},{\"id\":\"1290\"}],\"tags\":[\"hv_created\"],\"tooltips\":[[\"Class\",\"@{Class}\"],[\"Total Coins Mined\",\"@{Total_Coins_Mined}\"],[\"Total Coin Supply\",\"@{Total_Coin_Supply}\"],[\"Coin Name\",\"@{Coin_Name}\"]]},\"id\":\"1177\",\"type\":\"HoverTool\"},{\"attributes\":{\"coordinates\":null,\"data_source\":{\"id\":\"1284\"},\"glyph\":{\"id\":\"1287\"},\"group\":null,\"hover_glyph\":null,\"muted_glyph\":{\"id\":\"1289\"},\"nonselection_glyph\":{\"id\":\"1288\"},\"selection_glyph\":{\"id\":\"1309\"},\"view\":{\"id\":\"1291\"}},\"id\":\"1290\",\"type\":\"GlyphRenderer\"},{\"attributes\":{\"fill_alpha\":{\"value\":0.1},\"fill_color\":{\"value\":\"#fc4f30\"},\"hatch_alpha\":{\"value\":0.1},\"hatch_color\":{\"value\":\"#fc4f30\"},\"line_alpha\":{\"value\":0.1},\"line_color\":{\"value\":\"#fc4f30\"},\"size\":{\"value\":5.477225575051661},\"x\":{\"field\":\"Total Coins Mined\"},\"y\":{\"field\":\"Total Coin Supply\"}},\"id\":\"1242\",\"type\":\"Scatter\"},{\"attributes\":{\"source\":{\"id\":\"1284\"}},\"id\":\"1291\",\"type\":\"CDSView\"},{\"attributes\":{},\"id\":\"1186\",\"type\":\"LinearScale\"},{\"attributes\":{\"label\":{\"value\":\"0\"},\"renderers\":[{\"id\":\"1223\"}]},\"id\":\"1236\",\"type\":\"LegendItem\"},{\"attributes\":{\"end\":11000.0,\"reset_end\":11000.0,\"reset_start\":-1000.0,\"start\":-1000.0,\"tags\":[[[\"Total Coin Supply\",\"Total Coin Supply\",null]]]},\"id\":\"1176\",\"type\":\"Range1d\"},{\"attributes\":{\"fill_alpha\":{\"value\":0.2},\"fill_color\":{\"value\":\"#30a2da\"},\"hatch_alpha\":{\"value\":0.2},\"hatch_color\":{\"value\":\"#30a2da\"},\"line_alpha\":{\"value\":0.2},\"line_color\":{\"value\":\"#30a2da\"},\"size\":{\"value\":5.477225575051661},\"x\":{\"field\":\"Total Coins Mined\"},\"y\":{\"field\":\"Total Coin Supply\"}},\"id\":\"1222\",\"type\":\"Scatter\"},{\"attributes\":{\"coordinates\":null,\"group\":null,\"text_color\":\"black\",\"text_font_size\":\"12pt\"},\"id\":\"1182\",\"type\":\"Title\"},{\"attributes\":{},\"id\":\"1305\",\"type\":\"UnionRenderers\"},{\"attributes\":{\"fill_color\":{\"value\":\"#6d904f\"},\"hatch_color\":{\"value\":\"#6d904f\"},\"line_color\":{\"value\":\"#6d904f\"},\"size\":{\"value\":5.477225575051661},\"x\":{\"field\":\"Total Coins Mined\"},\"y\":{\"field\":\"Total Coin Supply\"}},\"id\":\"1287\",\"type\":\"Scatter\"},{\"attributes\":{\"below\":[{\"id\":\"1190\"}],\"center\":[{\"id\":\"1193\"},{\"id\":\"1197\"}],\"height\":300,\"left\":[{\"id\":\"1194\"}],\"margin\":[5,5,5,5],\"min_border_bottom\":10,\"min_border_left\":10,\"min_border_right\":10,\"min_border_top\":10,\"renderers\":[{\"id\":\"1223\"},{\"id\":\"1244\"},{\"id\":\"1266\"},{\"id\":\"1290\"}],\"right\":[{\"id\":\"1235\"}],\"sizing_mode\":\"fixed\",\"title\":{\"id\":\"1182\"},\"toolbar\":{\"id\":\"1204\"},\"width\":700,\"x_range\":{\"id\":\"1175\"},\"x_scale\":{\"id\":\"1186\"},\"y_range\":{\"id\":\"1176\"},\"y_scale\":{\"id\":\"1188\"}},\"id\":\"1181\",\"subtype\":\"Figure\",\"type\":\"Plot\"},{\"attributes\":{},\"id\":\"1188\",\"type\":\"LinearScale\"},{\"attributes\":{\"fill_color\":{\"value\":\"#e5ae38\"},\"hatch_color\":{\"value\":\"#e5ae38\"},\"line_color\":{\"value\":\"#e5ae38\"},\"size\":{\"value\":5.477225575051661},\"x\":{\"field\":\"Total Coins Mined\"},\"y\":{\"field\":\"Total Coin Supply\"}},\"id\":\"1263\",\"type\":\"Scatter\"},{\"attributes\":{\"coordinates\":null,\"data_source\":{\"id\":\"1238\"},\"glyph\":{\"id\":\"1241\"},\"group\":null,\"hover_glyph\":null,\"muted_glyph\":{\"id\":\"1243\"},\"nonselection_glyph\":{\"id\":\"1242\"},\"selection_glyph\":{\"id\":\"1259\"},\"view\":{\"id\":\"1245\"}},\"id\":\"1244\",\"type\":\"GlyphRenderer\"},{\"attributes\":{\"margin\":[5,5,5,5],\"name\":\"HSpacer01996\",\"sizing_mode\":\"stretch_width\"},\"id\":\"1174\",\"type\":\"Spacer\"},{\"attributes\":{\"data\":{\"Class\":[3,3,3,3,3,3,3,3,3,3,3,3,3,3,3,3,3,3,3,3,3,3,3,3,3,3,3,3,3,3,3,3,3,3,3,3,3,3,3,3,3,3,3,3,3,3,3,3,3,3,3,3,3,3,3,3,3,3,3,3,3,3,3,3,3,3,3,3,3,3,3,3,3,3,3,3,3,3,3,3,3,3,3,3,3,3,3,3,3,3,3,3,3,3,3,3,3,3,3,3,3,3,3,3,3,3,3,3,3,3,3,3,3,3,3,3,3,3,3,3,3,3,3,3,3,3,3,3,3,3,3,3,3,3,3,3,3,3,3,3,3,3,3,3,3,3,3,3,3,3,3,3,3,3,3,3,3,3,3,3,3,3,3,3,3,3,3,3,3,3,3,3,3,3,3,3,3,3,3,3,3,3,3,3,3,3,3,3,3,3,3,3,3,3,3,3,3,3,3,3,3,3,3,3,3,3,3,3,3,3,3,3,3,3,3,3,3,3,3,3,3,3,3,3,3,3,3,3,3,3,3,3,3,3,3,3,3,3],\"Coin_Name\":[\"Bitcoin\",\"Ethereum\",\"Litecoin\",\"Monero\",\"Ethereum Classic\",\"ZCash\",\"DigiByte\",\"ProsperCoin\",\"Spreadcoin\",\"Argentum\",\"MyriadCoin\",\"MoonCoin\",\"ZetaCoin\",\"SexCoin\",\"Quatloo\",\"QuarkCoin\",\"Riecoin\",\"Digitalcoin \",\"Catcoin\",\"CannaCoin\",\"CryptCoin\",\"Verge\",\"DevCoin\",\"EarthCoin\",\"E-Gulden\",\"Einsteinium\",\"Emerald\",\"Franko\",\"FeatherCoin\",\"GrandCoin\",\"GlobalCoin\",\"GoldCoin\",\"Infinite Coin\",\"IXcoin\",\"KrugerCoin\",\"LuckyCoin\",\"Litebar \",\"MegaCoin\",\"MediterraneanCoin\",\"MinCoin\",\"NobleCoin\",\"Namecoin\",\"NyanCoin\",\"RonPaulCoin\",\"StableCoin\",\"SmartCoin\",\"SysCoin\",\"TigerCoin\",\"TerraCoin\",\"UnbreakableCoin\",\"Unobtanium\",\"UroCoin\",\"ViaCoin\",\"Vertcoin\",\"WorldCoin\",\"JouleCoin\",\"ByteCoin\",\"DigitalNote \",\"MonaCoin\",\"Gulden\",\"PesetaCoin\",\"Wild Beast Coin\",\"Flo\",\"ArtByte\",\"Folding Coin\",\"Unitus\",\"CypherPunkCoin\",\"OmniCron\",\"GreenCoin\",\"Cryptonite\",\"MasterCoin\",\"SoonCoin\",\"1Credit\",\"MarsCoin \",\"Crypto\",\"Anarchists Prime\",\"BowsCoin\",\"Song Coin\",\"BitZeny\",\"Expanse\",\"Siacoin\",\"MindCoin\",\"I0coin\",\"Revolution VR\",\"HOdlcoin\",\"Gamecredits\",\"CarpeDiemCoin\",\"Adzcoin\",\"SoilCoin\",\"YoCoin\",\"SibCoin\",\"Francs\",\"BolivarCoin\",\"Omni\",\"PizzaCoin\",\"Karbo\",\"ZayedCoin\",\"Circuits of Value\",\"DopeCoin\",\"DollarCoin\",\"Shilling\",\"ZCoin\",\"Elementrem\",\"ZClassic\",\"KiloCoin\",\"ArtexCoin\",\"Kurrent\",\"Cannabis Industry Coin\",\"OsmiumCoin\",\"Bikercoins\",\"HexxCoin\",\"PacCoin\",\"Citadel\",\"BeaverCoin\",\"VaultCoin\",\"Zero\",\"Canada eCoin\",\"Zoin\",\"DubaiCoin\",\"EB3coin\",\"Coinonat\",\"BenjiRolls\",\"ILCoin\",\"EquiTrader\",\"Quantum Resistant Ledger\",\"Dynamic\",\"Nano\",\"ChanCoin\",\"Dinastycoin\",\"DigitalPrice\",\"Unify\",\"SocialCoin\",\"ArcticCoin\",\"DAS\",\"LeviarCoin\",\"Bitcore\",\"gCn Coin\",\"SmartCash\",\"Onix\",\"Bitcoin Cash\",\"Sojourn Coin\",\"NewYorkCoin\",\"FrazCoin\",\"Kronecoin\",\"AdCoin\",\"Linx\",\"Sumokoin\",\"BitcoinZ\",\"Elements\",\"VIVO Coin\",\"Bitcoin Gold\",\"Pirl\",\"eBoost\",\"Pura\",\"Innova\",\"Ellaism\",\"GoByte\",\"SHIELD\",\"UltraNote\",\"BitCoal\",\"DaxxCoin\",\"AC3\",\"Lethean\",\"PopularCoin\",\"Photon\",\"Sucre\",\"SparksPay\",\"GunCoin\",\"IrishCoin\",\"Pioneer Coin\",\"UnitedBitcoin\",\"Interzone\",\"1717 Masonic Commemorative Token\",\"TurtleCoin\",\"MUNcoin\",\"Niobio Cash\",\"ShareChain\",\"Travelflex\",\"KREDS\",\"BitFlip\",\"LottoCoin\",\"Crypto Improvement Fund\",\"Callisto Network\",\"BitTube\",\"Poseidon\",\"Aidos Kuneen\",\"Bitrolium\",\"Alpenschillling\",\"FuturoCoin\",\"Monero Classic\",\"Jumpcoin\",\"Infinex\",\"KEYCO\",\"GINcoin\",\"PlatinCoin\",\"Loki\",\"Newton Coin\",\"MassGrid\",\"PluraCoin\",\"Motion\",\"PlusOneCoin\",\"Axe\",\"HexCoin\",\"Webchain\",\"Ryo\",\"Urals Coin\",\"Qwertycoin\",\"Project Pai\",\"Azart\",\"Xchange\",\"CrypticCoin\",\"Actinium\",\"Bitcoin SV\",\"FREDEnergy\",\"Universal Molecule\",\"Lithium\",\"Exosis\",\"Block-Logic\",\"Beam\",\"Bithereum\",\"SLICE\",\"BLAST\",\"Bitcoin Rhodium\",\"GlobalToken\",\"SolarCoin\",\"UFO Coin\",\"BlakeCoin\",\"Crypto Escudo\",\"Crown Coin\",\"SmileyCoin\",\"Groestlcoin\",\"Bata\",\"Pakcoin\",\"JoinCoin\",\"Vollar\",\"Reality Clash\",\"Beldex\",\"Horizen\"],\"Total Coin Supply\":{\"__ndarray__\":\"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\",\"dtype\":\"float64\",\"order\":\"little\",\"shape\":[238]},\"Total Coins Mined\":{\"__ndarray__\":\"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\",\"dtype\":\"float64\",\"order\":\"little\",\"shape\":[238]},\"Total_Coin_Supply\":{\"__ndarray__\":\"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\",\"dtype\":\"float64\",\"order\":\"little\",\"shape\":[238]},\"Total_Coins_Mined\":{\"__ndarray__\":\"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\",\"dtype\":\"float64\",\"order\":\"little\",\"shape\":[238]}},\"selected\":{\"id\":\"1285\"},\"selection_policy\":{\"id\":\"1305\"}},\"id\":\"1284\",\"type\":\"ColumnDataSource\"},{\"attributes\":{},\"id\":\"1199\",\"type\":\"PanTool\"},{\"attributes\":{\"axis\":{\"id\":\"1190\"},\"coordinates\":null,\"grid_line_color\":null,\"group\":null,\"ticker\":null},\"id\":\"1193\",\"type\":\"Grid\"},{\"attributes\":{\"fill_alpha\":{\"value\":0.2},\"fill_color\":{\"value\":\"#e5ae38\"},\"hatch_alpha\":{\"value\":0.2},\"hatch_color\":{\"value\":\"#e5ae38\"},\"line_alpha\":{\"value\":0.2},\"line_color\":{\"value\":\"#e5ae38\"},\"size\":{\"value\":5.477225575051661},\"x\":{\"field\":\"Total Coins Mined\"},\"y\":{\"field\":\"Total Coin Supply\"}},\"id\":\"1265\",\"type\":\"Scatter\"},{\"attributes\":{\"axis_label\":\"Total Coins Mined\",\"coordinates\":null,\"formatter\":{\"id\":\"1212\"},\"group\":null,\"major_label_policy\":{\"id\":\"1213\"},\"ticker\":{\"id\":\"1191\"}},\"id\":\"1190\",\"type\":\"LinearAxis\"},{\"attributes\":{},\"id\":\"1200\",\"type\":\"WheelZoomTool\"},{\"attributes\":{\"label\":{\"value\":\"2\"},\"renderers\":[{\"id\":\"1266\"}]},\"id\":\"1282\",\"type\":\"LegendItem\"},{\"attributes\":{\"fill_alpha\":{\"value\":0.1},\"fill_color\":{\"value\":\"#e5ae38\"},\"hatch_alpha\":{\"value\":0.1},\"hatch_color\":{\"value\":\"#e5ae38\"},\"line_alpha\":{\"value\":0.1},\"line_color\":{\"value\":\"#e5ae38\"},\"size\":{\"value\":5.477225575051661},\"x\":{\"field\":\"Total Coins Mined\"},\"y\":{\"field\":\"Total Coin Supply\"}},\"id\":\"1264\",\"type\":\"Scatter\"},{\"attributes\":{},\"id\":\"1191\",\"type\":\"BasicTicker\"},{\"attributes\":{\"axis_label\":\"Total Coin Supply\",\"coordinates\":null,\"formatter\":{\"id\":\"1215\"},\"group\":null,\"major_label_policy\":{\"id\":\"1216\"},\"ticker\":{\"id\":\"1195\"}},\"id\":\"1194\",\"type\":\"LinearAxis\"},{\"attributes\":{\"source\":{\"id\":\"1260\"}},\"id\":\"1267\",\"type\":\"CDSView\"},{\"attributes\":{\"axis\":{\"id\":\"1194\"},\"coordinates\":null,\"dimension\":1,\"grid_line_color\":null,\"group\":null,\"ticker\":null},\"id\":\"1197\",\"type\":\"Grid\"},{\"attributes\":{},\"id\":\"1195\",\"type\":\"BasicTicker\"},{\"attributes\":{},\"id\":\"1279\",\"type\":\"UnionRenderers\"},{\"attributes\":{},\"id\":\"1213\",\"type\":\"AllLabels\"},{\"attributes\":{},\"id\":\"1198\",\"type\":\"SaveTool\"},{\"attributes\":{\"fill_alpha\":{\"value\":0.2},\"fill_color\":{\"value\":\"#fc4f30\"},\"hatch_alpha\":{\"value\":0.2},\"hatch_color\":{\"value\":\"#fc4f30\"},\"line_alpha\":{\"value\":0.2},\"line_color\":{\"value\":\"#fc4f30\"},\"size\":{\"value\":5.477225575051661},\"x\":{\"field\":\"Total Coins Mined\"},\"y\":{\"field\":\"Total Coin Supply\"}},\"id\":\"1243\",\"type\":\"Scatter\"},{\"attributes\":{\"overlay\":{\"id\":\"1203\"}},\"id\":\"1201\",\"type\":\"BoxZoomTool\"},{\"attributes\":{},\"id\":\"1202\",\"type\":\"ResetTool\"},{\"attributes\":{\"label\":{\"value\":\"1\"},\"renderers\":[{\"id\":\"1244\"}]},\"id\":\"1258\",\"type\":\"LegendItem\"},{\"attributes\":{\"bottom_units\":\"screen\",\"coordinates\":null,\"fill_alpha\":0.5,\"fill_color\":\"lightgrey\",\"group\":null,\"left_units\":\"screen\",\"level\":\"overlay\",\"line_alpha\":1.0,\"line_color\":\"black\",\"line_dash\":[4,4],\"line_width\":2,\"right_units\":\"screen\",\"syncable\":false,\"top_units\":\"screen\"},\"id\":\"1203\",\"type\":\"BoxAnnotation\"},{\"attributes\":{},\"id\":\"1239\",\"type\":\"Selection\"},{\"attributes\":{\"fill_color\":{\"value\":\"#fc4f30\"},\"hatch_color\":{\"value\":\"#fc4f30\"},\"line_color\":{\"value\":\"#fc4f30\"},\"size\":{\"value\":5.477225575051661},\"x\":{\"field\":\"Total Coins Mined\"},\"y\":{\"field\":\"Total Coin Supply\"}},\"id\":\"1241\",\"type\":\"Scatter\"},{\"attributes\":{},\"id\":\"1232\",\"type\":\"UnionRenderers\"},{\"attributes\":{\"source\":{\"id\":\"1238\"}},\"id\":\"1245\",\"type\":\"CDSView\"},{\"attributes\":{},\"id\":\"1218\",\"type\":\"Selection\"},{\"attributes\":{\"angle\":{\"value\":0.0},\"fill_alpha\":{\"value\":1.0},\"fill_color\":{\"value\":\"#6d904f\"},\"hatch_alpha\":{\"value\":1.0},\"hatch_color\":{\"value\":\"#6d904f\"},\"hatch_scale\":{\"value\":12.0},\"hatch_weight\":{\"value\":1.0},\"line_alpha\":{\"value\":1.0},\"line_cap\":{\"value\":\"butt\"},\"line_color\":{\"value\":\"#6d904f\"},\"line_dash\":{\"value\":[]},\"line_dash_offset\":{\"value\":0},\"line_join\":{\"value\":\"bevel\"},\"line_width\":{\"value\":1},\"marker\":{\"value\":\"circle\"},\"size\":{\"value\":5.477225575051661},\"x\":{\"field\":\"Total Coins Mined\"},\"y\":{\"field\":\"Total Coin Supply\"}},\"id\":\"1309\",\"type\":\"Scatter\"},{\"attributes\":{},\"id\":\"1255\",\"type\":\"UnionRenderers\"},{\"attributes\":{\"children\":[{\"id\":\"1174\"},{\"id\":\"1181\"},{\"id\":\"1454\"}],\"margin\":[0,0,0,0],\"name\":\"Row01992\",\"tags\":[\"embedded\"]},\"id\":\"1173\",\"type\":\"Row\"},{\"attributes\":{\"angle\":{\"value\":0.0},\"fill_alpha\":{\"value\":1.0},\"fill_color\":{\"value\":\"#30a2da\"},\"hatch_alpha\":{\"value\":1.0},\"hatch_color\":{\"value\":\"#30a2da\"},\"hatch_scale\":{\"value\":12.0},\"hatch_weight\":{\"value\":1.0},\"line_alpha\":{\"value\":1.0},\"line_cap\":{\"value\":\"butt\"},\"line_color\":{\"value\":\"#30a2da\"},\"line_dash\":{\"value\":[]},\"line_dash_offset\":{\"value\":0},\"line_join\":{\"value\":\"bevel\"},\"line_width\":{\"value\":1},\"marker\":{\"value\":\"circle\"},\"size\":{\"value\":5.477225575051661},\"x\":{\"field\":\"Total Coins Mined\"},\"y\":{\"field\":\"Total Coin Supply\"}},\"id\":\"1237\",\"type\":\"Scatter\"},{\"attributes\":{\"fill_color\":{\"value\":\"#30a2da\"},\"hatch_color\":{\"value\":\"#30a2da\"},\"line_color\":{\"value\":\"#30a2da\"},\"size\":{\"value\":5.477225575051661},\"x\":{\"field\":\"Total Coins Mined\"},\"y\":{\"field\":\"Total Coin Supply\"}},\"id\":\"1220\",\"type\":\"Scatter\"},{\"attributes\":{\"data\":{\"Class\":[1],\"Coin_Name\":[\"BitTorrent\"],\"Total Coin Supply\":{\"__ndarray__\":\"AAAAAABWw0A=\",\"dtype\":\"float64\",\"order\":\"little\",\"shape\":[1]},\"Total Coins Mined\":{\"__ndarray__\":\"C7KejfFVw0A=\",\"dtype\":\"float64\",\"order\":\"little\",\"shape\":[1]},\"Total_Coin_Supply\":{\"__ndarray__\":\"AAAAAABWw0A=\",\"dtype\":\"float64\",\"order\":\"little\",\"shape\":[1]},\"Total_Coins_Mined\":{\"__ndarray__\":\"C7KejfFVw0A=\",\"dtype\":\"float64\",\"order\":\"little\",\"shape\":[1]}},\"selected\":{\"id\":\"1239\"},\"selection_policy\":{\"id\":\"1255\"}},\"id\":\"1238\",\"type\":\"ColumnDataSource\"},{\"attributes\":{},\"id\":\"1212\",\"type\":\"BasicTickFormatter\"},{\"attributes\":{\"angle\":{\"value\":0.0},\"fill_alpha\":{\"value\":1.0},\"fill_color\":{\"value\":\"#e5ae38\"},\"hatch_alpha\":{\"value\":1.0},\"hatch_color\":{\"value\":\"#e5ae38\"},\"hatch_scale\":{\"value\":12.0},\"hatch_weight\":{\"value\":1.0},\"line_alpha\":{\"value\":1.0},\"line_cap\":{\"value\":\"butt\"},\"line_color\":{\"value\":\"#e5ae38\"},\"line_dash\":{\"value\":[]},\"line_dash_offset\":{\"value\":0},\"line_join\":{\"value\":\"bevel\"},\"line_width\":{\"value\":1},\"marker\":{\"value\":\"circle\"},\"size\":{\"value\":5.477225575051661},\"x\":{\"field\":\"Total Coins Mined\"},\"y\":{\"field\":\"Total Coin Supply\"}},\"id\":\"1283\",\"type\":\"Scatter\"},{\"attributes\":{\"tools\":[{\"id\":\"1177\"},{\"id\":\"1198\"},{\"id\":\"1199\"},{\"id\":\"1200\"},{\"id\":\"1201\"},{\"id\":\"1202\"}]},\"id\":\"1204\",\"type\":\"Toolbar\"},{\"attributes\":{},\"id\":\"1285\",\"type\":\"Selection\"},{\"attributes\":{\"margin\":[5,5,5,5],\"name\":\"HSpacer01997\",\"sizing_mode\":\"stretch_width\"},\"id\":\"1454\",\"type\":\"Spacer\"},{\"attributes\":{},\"id\":\"1216\",\"type\":\"AllLabels\"},{\"attributes\":{},\"id\":\"1215\",\"type\":\"BasicTickFormatter\"},{\"attributes\":{\"data\":{\"Class\":[2,2,2,2],\"Coin_Name\":[\"Vechain\",\"BiblePay\",\"LitecoinCash\",\"Poa Network\"],\"Total Coin Supply\":{\"__ndarray__\":\"yzX9wAIZi0AAAAAAAABKQM3MzMzMzCBAf8LZrWUyBEA=\",\"dtype\":\"float64\",\"order\":\"little\",\"shape\":[4]},\"Total Coins Mined\":{\"__ndarray__\":\"QPz892BUgUB64ArrjbgxQOUwH/sIiRlA+sxhELtbAEA=\",\"dtype\":\"float64\",\"order\":\"little\",\"shape\":[4]},\"Total_Coin_Supply\":{\"__ndarray__\":\"yzX9wAIZi0AAAAAAAABKQM3MzMzMzCBAf8LZrWUyBEA=\",\"dtype\":\"float64\",\"order\":\"little\",\"shape\":[4]},\"Total_Coins_Mined\":{\"__ndarray__\":\"QPz892BUgUB64ArrjbgxQOUwH/sIiRlA+sxhELtbAEA=\",\"dtype\":\"float64\",\"order\":\"little\",\"shape\":[4]}},\"selected\":{\"id\":\"1261\"},\"selection_policy\":{\"id\":\"1279\"}},\"id\":\"1260\",\"type\":\"ColumnDataSource\"}],\"root_ids\":[\"1173\"]},\"title\":\"Bokeh Application\",\"version\":\"2.4.2\"}};\n",
       "    var render_items = [{\"docid\":\"e88decee-399b-4653-b725-e163c0085f84\",\"root_ids\":[\"1173\"],\"roots\":{\"1173\":\"789ad6ef-b3ba-40bf-ac97-4f82fa08230d\"}}];\n",
       "    root.Bokeh.embed.embed_items_notebook(docs_json, render_items);\n",
       "  }\n",
       "  if (root.Bokeh !== undefined && root.Bokeh.Panel !== undefined) {\n",
       "    embed_document(root);\n",
       "  } else {\n",
       "    var attempts = 0;\n",
       "    var timer = setInterval(function(root) {\n",
       "      if (root.Bokeh !== undefined && root.Bokeh.Panel !== undefined) {\n",
       "        clearInterval(timer);\n",
       "        embed_document(root);\n",
       "      } else if (document.readyState == \"complete\") {\n",
       "        attempts++;\n",
       "        if (attempts > 200) {\n",
       "          clearInterval(timer);\n",
       "          console.log(\"Bokeh: ERROR: Unable to run BokehJS code because BokehJS library is missing\");\n",
       "        }\n",
       "      }\n",
       "    }, 25, root)\n",
       "  }\n",
       "})(window);</script>"
      ],
      "text/plain": [
       ":NdOverlay   [Class]\n",
       "   :Scatter   [Total Coins Mined]   (Total Coin Supply,Coin Name)"
      ]
     },
     "execution_count": 41,
     "metadata": {
      "application/vnd.holoviews_exec.v0+json": {
       "id": "1173"
      }
     },
     "output_type": "execute_result"
    }
   ],
   "source": [
    "# Create a hvplot.scatter plot using x=\"TotalCoinsMined\" and y=\"TotalCoinSupply\".\n",
    "clustered_df.hvplot(\n",
    "    kind=\"scatter\",\n",
    "    x= \"Total Coins Mined\",\n",
    "    y= \"Total Coin Supply\",\n",
    "    hover_cols=[\"Coin Name\"],\n",
    "    by= \"Class\")\n"
   ]
  },
  {
   "cell_type": "code",
   "execution_count": null,
   "metadata": {},
   "outputs": [],
   "source": []
  }
 ],
 "metadata": {
  "file_extension": ".py",
  "kernelspec": {
   "display_name": "PythonData",
   "language": "python",
   "name": "pythondata"
  },
  "language_info": {
   "codemirror_mode": {
    "name": "ipython",
    "version": 3
   },
   "file_extension": ".py",
   "mimetype": "text/x-python",
   "name": "python",
   "nbconvert_exporter": "python",
   "pygments_lexer": "ipython3",
   "version": "3.8.8"
  },
  "latex_envs": {
   "LaTeX_envs_menu_present": true,
   "autoclose": false,
   "autocomplete": true,
   "bibliofile": "biblio.bib",
   "cite_by": "apalike",
   "current_citInitial": 1,
   "eqLabelWithNumbers": true,
   "eqNumInitial": 1,
   "hotkeys": {
    "equation": "Ctrl-E",
    "itemize": "Ctrl-I"
   },
   "labels_anchors": false,
   "latex_user_defs": false,
   "report_style_numbering": false,
   "user_envs_cfg": false
  },
  "mimetype": "text/x-python",
  "name": "python",
  "npconvert_exporter": "python",
  "pygments_lexer": "ipython3",
  "version": 3
 },
 "nbformat": 4,
 "nbformat_minor": 2
}
